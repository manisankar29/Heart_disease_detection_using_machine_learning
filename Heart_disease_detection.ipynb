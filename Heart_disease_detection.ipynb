{
  "nbformat": 4,
  "nbformat_minor": 0,
  "metadata": {
    "colab": {
      "provenance": [],
      "mount_file_id": "1MDNXa5WnV3c-NdCfaJ0eueceoTyajsni",
      "authorship_tag": "ABX9TyMOIQKl3m2YlAgK2iIxR8H+"
    },
    "kernelspec": {
      "name": "python3",
      "display_name": "Python 3"
    },
    "language_info": {
      "name": "python"
    },
    "widgets": {
      "application/vnd.jupyter.widget-state+json": {
        "4f446b5f721841848c81c26034f9594e": {
          "model_module": "@jupyter-widgets/controls",
          "model_name": "FloatTextModel",
          "model_module_version": "1.5.0",
          "state": {
            "_dom_classes": [],
            "_model_module": "@jupyter-widgets/controls",
            "_model_module_version": "1.5.0",
            "_model_name": "FloatTextModel",
            "_view_count": null,
            "_view_module": "@jupyter-widgets/controls",
            "_view_module_version": "1.5.0",
            "_view_name": "FloatTextView",
            "continuous_update": false,
            "description": "Age: ",
            "description_tooltip": null,
            "disabled": false,
            "layout": "IPY_MODEL_a9996cbe0b844ad78d043bda9c5efc9c",
            "step": null,
            "style": "IPY_MODEL_ea1c1eff63414c058324be06e8c2a042",
            "value": 63
          }
        },
        "a9996cbe0b844ad78d043bda9c5efc9c": {
          "model_module": "@jupyter-widgets/base",
          "model_name": "LayoutModel",
          "model_module_version": "1.2.0",
          "state": {
            "_model_module": "@jupyter-widgets/base",
            "_model_module_version": "1.2.0",
            "_model_name": "LayoutModel",
            "_view_count": null,
            "_view_module": "@jupyter-widgets/base",
            "_view_module_version": "1.2.0",
            "_view_name": "LayoutView",
            "align_content": null,
            "align_items": null,
            "align_self": null,
            "border": null,
            "bottom": null,
            "display": null,
            "flex": null,
            "flex_flow": null,
            "grid_area": null,
            "grid_auto_columns": null,
            "grid_auto_flow": null,
            "grid_auto_rows": null,
            "grid_column": null,
            "grid_gap": null,
            "grid_row": null,
            "grid_template_areas": null,
            "grid_template_columns": null,
            "grid_template_rows": null,
            "height": null,
            "justify_content": null,
            "justify_items": null,
            "left": null,
            "margin": null,
            "max_height": null,
            "max_width": null,
            "min_height": null,
            "min_width": null,
            "object_fit": null,
            "object_position": null,
            "order": null,
            "overflow": null,
            "overflow_x": null,
            "overflow_y": null,
            "padding": null,
            "right": null,
            "top": null,
            "visibility": null,
            "width": null
          }
        },
        "ea1c1eff63414c058324be06e8c2a042": {
          "model_module": "@jupyter-widgets/controls",
          "model_name": "DescriptionStyleModel",
          "model_module_version": "1.5.0",
          "state": {
            "_model_module": "@jupyter-widgets/controls",
            "_model_module_version": "1.5.0",
            "_model_name": "DescriptionStyleModel",
            "_view_count": null,
            "_view_module": "@jupyter-widgets/base",
            "_view_module_version": "1.2.0",
            "_view_name": "StyleView",
            "description_width": ""
          }
        },
        "64d58adcb413432b9805632d8153ee0a": {
          "model_module": "@jupyter-widgets/controls",
          "model_name": "IntTextModel",
          "model_module_version": "1.5.0",
          "state": {
            "_dom_classes": [],
            "_model_module": "@jupyter-widgets/controls",
            "_model_module_version": "1.5.0",
            "_model_name": "IntTextModel",
            "_view_count": null,
            "_view_module": "@jupyter-widgets/controls",
            "_view_module_version": "1.5.0",
            "_view_name": "IntTextView",
            "continuous_update": false,
            "description": "Sex: ",
            "description_tooltip": null,
            "disabled": false,
            "layout": "IPY_MODEL_e8d878ba3e1e423880fd89a6d7186a97",
            "step": 1,
            "style": "IPY_MODEL_b37cbffe779c4692826b638d70d83354",
            "value": 1
          }
        },
        "e8d878ba3e1e423880fd89a6d7186a97": {
          "model_module": "@jupyter-widgets/base",
          "model_name": "LayoutModel",
          "model_module_version": "1.2.0",
          "state": {
            "_model_module": "@jupyter-widgets/base",
            "_model_module_version": "1.2.0",
            "_model_name": "LayoutModel",
            "_view_count": null,
            "_view_module": "@jupyter-widgets/base",
            "_view_module_version": "1.2.0",
            "_view_name": "LayoutView",
            "align_content": null,
            "align_items": null,
            "align_self": null,
            "border": null,
            "bottom": null,
            "display": null,
            "flex": null,
            "flex_flow": null,
            "grid_area": null,
            "grid_auto_columns": null,
            "grid_auto_flow": null,
            "grid_auto_rows": null,
            "grid_column": null,
            "grid_gap": null,
            "grid_row": null,
            "grid_template_areas": null,
            "grid_template_columns": null,
            "grid_template_rows": null,
            "height": null,
            "justify_content": null,
            "justify_items": null,
            "left": null,
            "margin": null,
            "max_height": null,
            "max_width": null,
            "min_height": null,
            "min_width": null,
            "object_fit": null,
            "object_position": null,
            "order": null,
            "overflow": null,
            "overflow_x": null,
            "overflow_y": null,
            "padding": null,
            "right": null,
            "top": null,
            "visibility": null,
            "width": null
          }
        },
        "b37cbffe779c4692826b638d70d83354": {
          "model_module": "@jupyter-widgets/controls",
          "model_name": "DescriptionStyleModel",
          "model_module_version": "1.5.0",
          "state": {
            "_model_module": "@jupyter-widgets/controls",
            "_model_module_version": "1.5.0",
            "_model_name": "DescriptionStyleModel",
            "_view_count": null,
            "_view_module": "@jupyter-widgets/base",
            "_view_module_version": "1.2.0",
            "_view_name": "StyleView",
            "description_width": ""
          }
        },
        "1b044ebe8c044806a90ff975c3e406fb": {
          "model_module": "@jupyter-widgets/controls",
          "model_name": "IntTextModel",
          "model_module_version": "1.5.0",
          "state": {
            "_dom_classes": [],
            "_model_module": "@jupyter-widgets/controls",
            "_model_module_version": "1.5.0",
            "_model_name": "IntTextModel",
            "_view_count": null,
            "_view_module": "@jupyter-widgets/controls",
            "_view_module_version": "1.5.0",
            "_view_name": "IntTextView",
            "continuous_update": false,
            "description": "Cerebral Palsy(CP): ",
            "description_tooltip": null,
            "disabled": false,
            "layout": "IPY_MODEL_512b16438f6445c1976c0574db62e7ae",
            "step": 1,
            "style": "IPY_MODEL_9f2281e2ac88441eb906ff1b26e27e1a",
            "value": 3
          }
        },
        "512b16438f6445c1976c0574db62e7ae": {
          "model_module": "@jupyter-widgets/base",
          "model_name": "LayoutModel",
          "model_module_version": "1.2.0",
          "state": {
            "_model_module": "@jupyter-widgets/base",
            "_model_module_version": "1.2.0",
            "_model_name": "LayoutModel",
            "_view_count": null,
            "_view_module": "@jupyter-widgets/base",
            "_view_module_version": "1.2.0",
            "_view_name": "LayoutView",
            "align_content": null,
            "align_items": null,
            "align_self": null,
            "border": null,
            "bottom": null,
            "display": null,
            "flex": null,
            "flex_flow": null,
            "grid_area": null,
            "grid_auto_columns": null,
            "grid_auto_flow": null,
            "grid_auto_rows": null,
            "grid_column": null,
            "grid_gap": null,
            "grid_row": null,
            "grid_template_areas": null,
            "grid_template_columns": null,
            "grid_template_rows": null,
            "height": null,
            "justify_content": null,
            "justify_items": null,
            "left": null,
            "margin": null,
            "max_height": null,
            "max_width": null,
            "min_height": null,
            "min_width": null,
            "object_fit": null,
            "object_position": null,
            "order": null,
            "overflow": null,
            "overflow_x": null,
            "overflow_y": null,
            "padding": null,
            "right": null,
            "top": null,
            "visibility": null,
            "width": null
          }
        },
        "9f2281e2ac88441eb906ff1b26e27e1a": {
          "model_module": "@jupyter-widgets/controls",
          "model_name": "DescriptionStyleModel",
          "model_module_version": "1.5.0",
          "state": {
            "_model_module": "@jupyter-widgets/controls",
            "_model_module_version": "1.5.0",
            "_model_name": "DescriptionStyleModel",
            "_view_count": null,
            "_view_module": "@jupyter-widgets/base",
            "_view_module_version": "1.2.0",
            "_view_name": "StyleView",
            "description_width": ""
          }
        },
        "854d2a5d83804c52b784c183c1d9abba": {
          "model_module": "@jupyter-widgets/controls",
          "model_name": "FloatTextModel",
          "model_module_version": "1.5.0",
          "state": {
            "_dom_classes": [],
            "_model_module": "@jupyter-widgets/controls",
            "_model_module_version": "1.5.0",
            "_model_name": "FloatTextModel",
            "_view_count": null,
            "_view_module": "@jupyter-widgets/controls",
            "_view_module_version": "1.5.0",
            "_view_name": "FloatTextView",
            "continuous_update": false,
            "description": "Resting Blood Pressure: ",
            "description_tooltip": null,
            "disabled": false,
            "layout": "IPY_MODEL_ebdc45e3db1a4c178733e5a8dc1a915a",
            "step": null,
            "style": "IPY_MODEL_33fa2a43a62b4aec9db10f140468104a",
            "value": 145
          }
        },
        "ebdc45e3db1a4c178733e5a8dc1a915a": {
          "model_module": "@jupyter-widgets/base",
          "model_name": "LayoutModel",
          "model_module_version": "1.2.0",
          "state": {
            "_model_module": "@jupyter-widgets/base",
            "_model_module_version": "1.2.0",
            "_model_name": "LayoutModel",
            "_view_count": null,
            "_view_module": "@jupyter-widgets/base",
            "_view_module_version": "1.2.0",
            "_view_name": "LayoutView",
            "align_content": null,
            "align_items": null,
            "align_self": null,
            "border": null,
            "bottom": null,
            "display": null,
            "flex": null,
            "flex_flow": null,
            "grid_area": null,
            "grid_auto_columns": null,
            "grid_auto_flow": null,
            "grid_auto_rows": null,
            "grid_column": null,
            "grid_gap": null,
            "grid_row": null,
            "grid_template_areas": null,
            "grid_template_columns": null,
            "grid_template_rows": null,
            "height": null,
            "justify_content": null,
            "justify_items": null,
            "left": null,
            "margin": null,
            "max_height": null,
            "max_width": null,
            "min_height": null,
            "min_width": null,
            "object_fit": null,
            "object_position": null,
            "order": null,
            "overflow": null,
            "overflow_x": null,
            "overflow_y": null,
            "padding": null,
            "right": null,
            "top": null,
            "visibility": null,
            "width": null
          }
        },
        "33fa2a43a62b4aec9db10f140468104a": {
          "model_module": "@jupyter-widgets/controls",
          "model_name": "DescriptionStyleModel",
          "model_module_version": "1.5.0",
          "state": {
            "_model_module": "@jupyter-widgets/controls",
            "_model_module_version": "1.5.0",
            "_model_name": "DescriptionStyleModel",
            "_view_count": null,
            "_view_module": "@jupyter-widgets/base",
            "_view_module_version": "1.2.0",
            "_view_name": "StyleView",
            "description_width": ""
          }
        },
        "e44cefd153db46a6b839517eb19c1833": {
          "model_module": "@jupyter-widgets/controls",
          "model_name": "FloatTextModel",
          "model_module_version": "1.5.0",
          "state": {
            "_dom_classes": [],
            "_model_module": "@jupyter-widgets/controls",
            "_model_module_version": "1.5.0",
            "_model_name": "FloatTextModel",
            "_view_count": null,
            "_view_module": "@jupyter-widgets/controls",
            "_view_module_version": "1.5.0",
            "_view_name": "FloatTextView",
            "continuous_update": false,
            "description": "Cholestrol: ",
            "description_tooltip": null,
            "disabled": false,
            "layout": "IPY_MODEL_fb10de73b1cd4257a105e7e498054e88",
            "step": null,
            "style": "IPY_MODEL_69e4498b477d4aba9093930a2e5fb024",
            "value": 233
          }
        },
        "fb10de73b1cd4257a105e7e498054e88": {
          "model_module": "@jupyter-widgets/base",
          "model_name": "LayoutModel",
          "model_module_version": "1.2.0",
          "state": {
            "_model_module": "@jupyter-widgets/base",
            "_model_module_version": "1.2.0",
            "_model_name": "LayoutModel",
            "_view_count": null,
            "_view_module": "@jupyter-widgets/base",
            "_view_module_version": "1.2.0",
            "_view_name": "LayoutView",
            "align_content": null,
            "align_items": null,
            "align_self": null,
            "border": null,
            "bottom": null,
            "display": null,
            "flex": null,
            "flex_flow": null,
            "grid_area": null,
            "grid_auto_columns": null,
            "grid_auto_flow": null,
            "grid_auto_rows": null,
            "grid_column": null,
            "grid_gap": null,
            "grid_row": null,
            "grid_template_areas": null,
            "grid_template_columns": null,
            "grid_template_rows": null,
            "height": null,
            "justify_content": null,
            "justify_items": null,
            "left": null,
            "margin": null,
            "max_height": null,
            "max_width": null,
            "min_height": null,
            "min_width": null,
            "object_fit": null,
            "object_position": null,
            "order": null,
            "overflow": null,
            "overflow_x": null,
            "overflow_y": null,
            "padding": null,
            "right": null,
            "top": null,
            "visibility": null,
            "width": null
          }
        },
        "69e4498b477d4aba9093930a2e5fb024": {
          "model_module": "@jupyter-widgets/controls",
          "model_name": "DescriptionStyleModel",
          "model_module_version": "1.5.0",
          "state": {
            "_model_module": "@jupyter-widgets/controls",
            "_model_module_version": "1.5.0",
            "_model_name": "DescriptionStyleModel",
            "_view_count": null,
            "_view_module": "@jupyter-widgets/base",
            "_view_module_version": "1.2.0",
            "_view_name": "StyleView",
            "description_width": ""
          }
        },
        "3a3ead703e8d4ad0928d41172246423e": {
          "model_module": "@jupyter-widgets/controls",
          "model_name": "IntTextModel",
          "model_module_version": "1.5.0",
          "state": {
            "_dom_classes": [],
            "_model_module": "@jupyter-widgets/controls",
            "_model_module_version": "1.5.0",
            "_model_name": "IntTextModel",
            "_view_count": null,
            "_view_module": "@jupyter-widgets/controls",
            "_view_module_version": "1.5.0",
            "_view_name": "IntTextView",
            "continuous_update": false,
            "description": "Fasting Blood SUgar: ",
            "description_tooltip": null,
            "disabled": false,
            "layout": "IPY_MODEL_189ce8fed39f42c68573d9b7af8d517e",
            "step": 1,
            "style": "IPY_MODEL_2580ec331834463a88e0f1d9715b731d",
            "value": 1
          }
        },
        "189ce8fed39f42c68573d9b7af8d517e": {
          "model_module": "@jupyter-widgets/base",
          "model_name": "LayoutModel",
          "model_module_version": "1.2.0",
          "state": {
            "_model_module": "@jupyter-widgets/base",
            "_model_module_version": "1.2.0",
            "_model_name": "LayoutModel",
            "_view_count": null,
            "_view_module": "@jupyter-widgets/base",
            "_view_module_version": "1.2.0",
            "_view_name": "LayoutView",
            "align_content": null,
            "align_items": null,
            "align_self": null,
            "border": null,
            "bottom": null,
            "display": null,
            "flex": null,
            "flex_flow": null,
            "grid_area": null,
            "grid_auto_columns": null,
            "grid_auto_flow": null,
            "grid_auto_rows": null,
            "grid_column": null,
            "grid_gap": null,
            "grid_row": null,
            "grid_template_areas": null,
            "grid_template_columns": null,
            "grid_template_rows": null,
            "height": null,
            "justify_content": null,
            "justify_items": null,
            "left": null,
            "margin": null,
            "max_height": null,
            "max_width": null,
            "min_height": null,
            "min_width": null,
            "object_fit": null,
            "object_position": null,
            "order": null,
            "overflow": null,
            "overflow_x": null,
            "overflow_y": null,
            "padding": null,
            "right": null,
            "top": null,
            "visibility": null,
            "width": null
          }
        },
        "2580ec331834463a88e0f1d9715b731d": {
          "model_module": "@jupyter-widgets/controls",
          "model_name": "DescriptionStyleModel",
          "model_module_version": "1.5.0",
          "state": {
            "_model_module": "@jupyter-widgets/controls",
            "_model_module_version": "1.5.0",
            "_model_name": "DescriptionStyleModel",
            "_view_count": null,
            "_view_module": "@jupyter-widgets/base",
            "_view_module_version": "1.2.0",
            "_view_name": "StyleView",
            "description_width": ""
          }
        },
        "11a54f3388bc4a3ba1f8994c33c9ce6e": {
          "model_module": "@jupyter-widgets/controls",
          "model_name": "IntTextModel",
          "model_module_version": "1.5.0",
          "state": {
            "_dom_classes": [],
            "_model_module": "@jupyter-widgets/controls",
            "_model_module_version": "1.5.0",
            "_model_name": "IntTextModel",
            "_view_count": null,
            "_view_module": "@jupyter-widgets/controls",
            "_view_module_version": "1.5.0",
            "_view_name": "IntTextView",
            "continuous_update": false,
            "description": "Resting ECG: ",
            "description_tooltip": null,
            "disabled": false,
            "layout": "IPY_MODEL_8732ce8d24d94f9fa50f1ac6ba546bc8",
            "step": 1,
            "style": "IPY_MODEL_3dd1a741f00c4b6ca330d9bb14b999e7",
            "value": 0
          }
        },
        "8732ce8d24d94f9fa50f1ac6ba546bc8": {
          "model_module": "@jupyter-widgets/base",
          "model_name": "LayoutModel",
          "model_module_version": "1.2.0",
          "state": {
            "_model_module": "@jupyter-widgets/base",
            "_model_module_version": "1.2.0",
            "_model_name": "LayoutModel",
            "_view_count": null,
            "_view_module": "@jupyter-widgets/base",
            "_view_module_version": "1.2.0",
            "_view_name": "LayoutView",
            "align_content": null,
            "align_items": null,
            "align_self": null,
            "border": null,
            "bottom": null,
            "display": null,
            "flex": null,
            "flex_flow": null,
            "grid_area": null,
            "grid_auto_columns": null,
            "grid_auto_flow": null,
            "grid_auto_rows": null,
            "grid_column": null,
            "grid_gap": null,
            "grid_row": null,
            "grid_template_areas": null,
            "grid_template_columns": null,
            "grid_template_rows": null,
            "height": null,
            "justify_content": null,
            "justify_items": null,
            "left": null,
            "margin": null,
            "max_height": null,
            "max_width": null,
            "min_height": null,
            "min_width": null,
            "object_fit": null,
            "object_position": null,
            "order": null,
            "overflow": null,
            "overflow_x": null,
            "overflow_y": null,
            "padding": null,
            "right": null,
            "top": null,
            "visibility": null,
            "width": null
          }
        },
        "3dd1a741f00c4b6ca330d9bb14b999e7": {
          "model_module": "@jupyter-widgets/controls",
          "model_name": "DescriptionStyleModel",
          "model_module_version": "1.5.0",
          "state": {
            "_model_module": "@jupyter-widgets/controls",
            "_model_module_version": "1.5.0",
            "_model_name": "DescriptionStyleModel",
            "_view_count": null,
            "_view_module": "@jupyter-widgets/base",
            "_view_module_version": "1.2.0",
            "_view_name": "StyleView",
            "description_width": ""
          }
        },
        "22dc09ebfc06446f9381cff452da124b": {
          "model_module": "@jupyter-widgets/controls",
          "model_name": "FloatTextModel",
          "model_module_version": "1.5.0",
          "state": {
            "_dom_classes": [],
            "_model_module": "@jupyter-widgets/controls",
            "_model_module_version": "1.5.0",
            "_model_name": "FloatTextModel",
            "_view_count": null,
            "_view_module": "@jupyter-widgets/controls",
            "_view_module_version": "1.5.0",
            "_view_name": "FloatTextView",
            "continuous_update": false,
            "description": "Max Heart Rate: ",
            "description_tooltip": null,
            "disabled": false,
            "layout": "IPY_MODEL_767ea1123e1b4afe9d69708cfa482bc5",
            "step": null,
            "style": "IPY_MODEL_4ed4d102609d4f618520d6afd0498bed",
            "value": 150
          }
        },
        "767ea1123e1b4afe9d69708cfa482bc5": {
          "model_module": "@jupyter-widgets/base",
          "model_name": "LayoutModel",
          "model_module_version": "1.2.0",
          "state": {
            "_model_module": "@jupyter-widgets/base",
            "_model_module_version": "1.2.0",
            "_model_name": "LayoutModel",
            "_view_count": null,
            "_view_module": "@jupyter-widgets/base",
            "_view_module_version": "1.2.0",
            "_view_name": "LayoutView",
            "align_content": null,
            "align_items": null,
            "align_self": null,
            "border": null,
            "bottom": null,
            "display": null,
            "flex": null,
            "flex_flow": null,
            "grid_area": null,
            "grid_auto_columns": null,
            "grid_auto_flow": null,
            "grid_auto_rows": null,
            "grid_column": null,
            "grid_gap": null,
            "grid_row": null,
            "grid_template_areas": null,
            "grid_template_columns": null,
            "grid_template_rows": null,
            "height": null,
            "justify_content": null,
            "justify_items": null,
            "left": null,
            "margin": null,
            "max_height": null,
            "max_width": null,
            "min_height": null,
            "min_width": null,
            "object_fit": null,
            "object_position": null,
            "order": null,
            "overflow": null,
            "overflow_x": null,
            "overflow_y": null,
            "padding": null,
            "right": null,
            "top": null,
            "visibility": null,
            "width": null
          }
        },
        "4ed4d102609d4f618520d6afd0498bed": {
          "model_module": "@jupyter-widgets/controls",
          "model_name": "DescriptionStyleModel",
          "model_module_version": "1.5.0",
          "state": {
            "_model_module": "@jupyter-widgets/controls",
            "_model_module_version": "1.5.0",
            "_model_name": "DescriptionStyleModel",
            "_view_count": null,
            "_view_module": "@jupyter-widgets/base",
            "_view_module_version": "1.2.0",
            "_view_name": "StyleView",
            "description_width": ""
          }
        },
        "fd93cc7a90be4e99b16328883ed7a199": {
          "model_module": "@jupyter-widgets/controls",
          "model_name": "IntTextModel",
          "model_module_version": "1.5.0",
          "state": {
            "_dom_classes": [],
            "_model_module": "@jupyter-widgets/controls",
            "_model_module_version": "1.5.0",
            "_model_name": "IntTextModel",
            "_view_count": null,
            "_view_module": "@jupyter-widgets/controls",
            "_view_module_version": "1.5.0",
            "_view_name": "IntTextView",
            "continuous_update": false,
            "description": "Exercise Induced Angina: ",
            "description_tooltip": null,
            "disabled": false,
            "layout": "IPY_MODEL_fde613eca12f489eb9f57f5b18e2988d",
            "step": 1,
            "style": "IPY_MODEL_10362ca06dac425a9d77c46ee794e02d",
            "value": 0
          }
        },
        "fde613eca12f489eb9f57f5b18e2988d": {
          "model_module": "@jupyter-widgets/base",
          "model_name": "LayoutModel",
          "model_module_version": "1.2.0",
          "state": {
            "_model_module": "@jupyter-widgets/base",
            "_model_module_version": "1.2.0",
            "_model_name": "LayoutModel",
            "_view_count": null,
            "_view_module": "@jupyter-widgets/base",
            "_view_module_version": "1.2.0",
            "_view_name": "LayoutView",
            "align_content": null,
            "align_items": null,
            "align_self": null,
            "border": null,
            "bottom": null,
            "display": null,
            "flex": null,
            "flex_flow": null,
            "grid_area": null,
            "grid_auto_columns": null,
            "grid_auto_flow": null,
            "grid_auto_rows": null,
            "grid_column": null,
            "grid_gap": null,
            "grid_row": null,
            "grid_template_areas": null,
            "grid_template_columns": null,
            "grid_template_rows": null,
            "height": null,
            "justify_content": null,
            "justify_items": null,
            "left": null,
            "margin": null,
            "max_height": null,
            "max_width": null,
            "min_height": null,
            "min_width": null,
            "object_fit": null,
            "object_position": null,
            "order": null,
            "overflow": null,
            "overflow_x": null,
            "overflow_y": null,
            "padding": null,
            "right": null,
            "top": null,
            "visibility": null,
            "width": null
          }
        },
        "10362ca06dac425a9d77c46ee794e02d": {
          "model_module": "@jupyter-widgets/controls",
          "model_name": "DescriptionStyleModel",
          "model_module_version": "1.5.0",
          "state": {
            "_model_module": "@jupyter-widgets/controls",
            "_model_module_version": "1.5.0",
            "_model_name": "DescriptionStyleModel",
            "_view_count": null,
            "_view_module": "@jupyter-widgets/base",
            "_view_module_version": "1.2.0",
            "_view_name": "StyleView",
            "description_width": ""
          }
        },
        "6108484bf28e460aa5a273d60ff267e1": {
          "model_module": "@jupyter-widgets/controls",
          "model_name": "FloatTextModel",
          "model_module_version": "1.5.0",
          "state": {
            "_dom_classes": [],
            "_model_module": "@jupyter-widgets/controls",
            "_model_module_version": "1.5.0",
            "_model_name": "FloatTextModel",
            "_view_count": null,
            "_view_module": "@jupyter-widgets/controls",
            "_view_module_version": "1.5.0",
            "_view_name": "FloatTextView",
            "continuous_update": false,
            "description": "Oldpeak: ",
            "description_tooltip": null,
            "disabled": false,
            "layout": "IPY_MODEL_a4fa52e487894d098e4834b479955d83",
            "step": null,
            "style": "IPY_MODEL_419c187af2c94f678c1bc08835e0f962",
            "value": 2.3
          }
        },
        "a4fa52e487894d098e4834b479955d83": {
          "model_module": "@jupyter-widgets/base",
          "model_name": "LayoutModel",
          "model_module_version": "1.2.0",
          "state": {
            "_model_module": "@jupyter-widgets/base",
            "_model_module_version": "1.2.0",
            "_model_name": "LayoutModel",
            "_view_count": null,
            "_view_module": "@jupyter-widgets/base",
            "_view_module_version": "1.2.0",
            "_view_name": "LayoutView",
            "align_content": null,
            "align_items": null,
            "align_self": null,
            "border": null,
            "bottom": null,
            "display": null,
            "flex": null,
            "flex_flow": null,
            "grid_area": null,
            "grid_auto_columns": null,
            "grid_auto_flow": null,
            "grid_auto_rows": null,
            "grid_column": null,
            "grid_gap": null,
            "grid_row": null,
            "grid_template_areas": null,
            "grid_template_columns": null,
            "grid_template_rows": null,
            "height": null,
            "justify_content": null,
            "justify_items": null,
            "left": null,
            "margin": null,
            "max_height": null,
            "max_width": null,
            "min_height": null,
            "min_width": null,
            "object_fit": null,
            "object_position": null,
            "order": null,
            "overflow": null,
            "overflow_x": null,
            "overflow_y": null,
            "padding": null,
            "right": null,
            "top": null,
            "visibility": null,
            "width": null
          }
        },
        "419c187af2c94f678c1bc08835e0f962": {
          "model_module": "@jupyter-widgets/controls",
          "model_name": "DescriptionStyleModel",
          "model_module_version": "1.5.0",
          "state": {
            "_model_module": "@jupyter-widgets/controls",
            "_model_module_version": "1.5.0",
            "_model_name": "DescriptionStyleModel",
            "_view_count": null,
            "_view_module": "@jupyter-widgets/base",
            "_view_module_version": "1.2.0",
            "_view_name": "StyleView",
            "description_width": ""
          }
        },
        "28fdc71b17ab4618921db7f921bcb47d": {
          "model_module": "@jupyter-widgets/controls",
          "model_name": "IntTextModel",
          "model_module_version": "1.5.0",
          "state": {
            "_dom_classes": [],
            "_model_module": "@jupyter-widgets/controls",
            "_model_module_version": "1.5.0",
            "_model_name": "IntTextModel",
            "_view_count": null,
            "_view_module": "@jupyter-widgets/controls",
            "_view_module_version": "1.5.0",
            "_view_name": "IntTextView",
            "continuous_update": false,
            "description": "Slope: ",
            "description_tooltip": null,
            "disabled": false,
            "layout": "IPY_MODEL_adfcc4b817494ccba952c3280b75bc5a",
            "step": 1,
            "style": "IPY_MODEL_00ac0983cb4f4ac4adde5fc1e3617b13",
            "value": 0
          }
        },
        "adfcc4b817494ccba952c3280b75bc5a": {
          "model_module": "@jupyter-widgets/base",
          "model_name": "LayoutModel",
          "model_module_version": "1.2.0",
          "state": {
            "_model_module": "@jupyter-widgets/base",
            "_model_module_version": "1.2.0",
            "_model_name": "LayoutModel",
            "_view_count": null,
            "_view_module": "@jupyter-widgets/base",
            "_view_module_version": "1.2.0",
            "_view_name": "LayoutView",
            "align_content": null,
            "align_items": null,
            "align_self": null,
            "border": null,
            "bottom": null,
            "display": null,
            "flex": null,
            "flex_flow": null,
            "grid_area": null,
            "grid_auto_columns": null,
            "grid_auto_flow": null,
            "grid_auto_rows": null,
            "grid_column": null,
            "grid_gap": null,
            "grid_row": null,
            "grid_template_areas": null,
            "grid_template_columns": null,
            "grid_template_rows": null,
            "height": null,
            "justify_content": null,
            "justify_items": null,
            "left": null,
            "margin": null,
            "max_height": null,
            "max_width": null,
            "min_height": null,
            "min_width": null,
            "object_fit": null,
            "object_position": null,
            "order": null,
            "overflow": null,
            "overflow_x": null,
            "overflow_y": null,
            "padding": null,
            "right": null,
            "top": null,
            "visibility": null,
            "width": null
          }
        },
        "00ac0983cb4f4ac4adde5fc1e3617b13": {
          "model_module": "@jupyter-widgets/controls",
          "model_name": "DescriptionStyleModel",
          "model_module_version": "1.5.0",
          "state": {
            "_model_module": "@jupyter-widgets/controls",
            "_model_module_version": "1.5.0",
            "_model_name": "DescriptionStyleModel",
            "_view_count": null,
            "_view_module": "@jupyter-widgets/base",
            "_view_module_version": "1.2.0",
            "_view_name": "StyleView",
            "description_width": ""
          }
        },
        "ba60aed52a7644d49e1cd781e71639ed": {
          "model_module": "@jupyter-widgets/controls",
          "model_name": "IntTextModel",
          "model_module_version": "1.5.0",
          "state": {
            "_dom_classes": [],
            "_model_module": "@jupyter-widgets/controls",
            "_model_module_version": "1.5.0",
            "_model_name": "IntTextModel",
            "_view_count": null,
            "_view_module": "@jupyter-widgets/controls",
            "_view_module_version": "1.5.0",
            "_view_name": "IntTextView",
            "continuous_update": false,
            "description": "Cardiac Arrest: ",
            "description_tooltip": null,
            "disabled": false,
            "layout": "IPY_MODEL_114401ef07a44f21812278ea44ad2f4e",
            "step": 1,
            "style": "IPY_MODEL_e88c959caedd4683a830a4d78b7aaa23",
            "value": 0
          }
        },
        "114401ef07a44f21812278ea44ad2f4e": {
          "model_module": "@jupyter-widgets/base",
          "model_name": "LayoutModel",
          "model_module_version": "1.2.0",
          "state": {
            "_model_module": "@jupyter-widgets/base",
            "_model_module_version": "1.2.0",
            "_model_name": "LayoutModel",
            "_view_count": null,
            "_view_module": "@jupyter-widgets/base",
            "_view_module_version": "1.2.0",
            "_view_name": "LayoutView",
            "align_content": null,
            "align_items": null,
            "align_self": null,
            "border": null,
            "bottom": null,
            "display": null,
            "flex": null,
            "flex_flow": null,
            "grid_area": null,
            "grid_auto_columns": null,
            "grid_auto_flow": null,
            "grid_auto_rows": null,
            "grid_column": null,
            "grid_gap": null,
            "grid_row": null,
            "grid_template_areas": null,
            "grid_template_columns": null,
            "grid_template_rows": null,
            "height": null,
            "justify_content": null,
            "justify_items": null,
            "left": null,
            "margin": null,
            "max_height": null,
            "max_width": null,
            "min_height": null,
            "min_width": null,
            "object_fit": null,
            "object_position": null,
            "order": null,
            "overflow": null,
            "overflow_x": null,
            "overflow_y": null,
            "padding": null,
            "right": null,
            "top": null,
            "visibility": null,
            "width": null
          }
        },
        "e88c959caedd4683a830a4d78b7aaa23": {
          "model_module": "@jupyter-widgets/controls",
          "model_name": "DescriptionStyleModel",
          "model_module_version": "1.5.0",
          "state": {
            "_model_module": "@jupyter-widgets/controls",
            "_model_module_version": "1.5.0",
            "_model_name": "DescriptionStyleModel",
            "_view_count": null,
            "_view_module": "@jupyter-widgets/base",
            "_view_module_version": "1.2.0",
            "_view_name": "StyleView",
            "description_width": ""
          }
        },
        "5d4859ee48c34ccdbf8664ec91029aff": {
          "model_module": "@jupyter-widgets/controls",
          "model_name": "IntTextModel",
          "model_module_version": "1.5.0",
          "state": {
            "_dom_classes": [],
            "_model_module": "@jupyter-widgets/controls",
            "_model_module_version": "1.5.0",
            "_model_name": "IntTextModel",
            "_view_count": null,
            "_view_module": "@jupyter-widgets/controls",
            "_view_module_version": "1.5.0",
            "_view_name": "IntTextView",
            "continuous_update": false,
            "description": "Thalassemia: ",
            "description_tooltip": null,
            "disabled": false,
            "layout": "IPY_MODEL_6562bce310e147afbeca43ecb297bc3c",
            "step": 1,
            "style": "IPY_MODEL_3563a286c61444f796e93825a9d89095",
            "value": 1
          }
        },
        "6562bce310e147afbeca43ecb297bc3c": {
          "model_module": "@jupyter-widgets/base",
          "model_name": "LayoutModel",
          "model_module_version": "1.2.0",
          "state": {
            "_model_module": "@jupyter-widgets/base",
            "_model_module_version": "1.2.0",
            "_model_name": "LayoutModel",
            "_view_count": null,
            "_view_module": "@jupyter-widgets/base",
            "_view_module_version": "1.2.0",
            "_view_name": "LayoutView",
            "align_content": null,
            "align_items": null,
            "align_self": null,
            "border": null,
            "bottom": null,
            "display": null,
            "flex": null,
            "flex_flow": null,
            "grid_area": null,
            "grid_auto_columns": null,
            "grid_auto_flow": null,
            "grid_auto_rows": null,
            "grid_column": null,
            "grid_gap": null,
            "grid_row": null,
            "grid_template_areas": null,
            "grid_template_columns": null,
            "grid_template_rows": null,
            "height": null,
            "justify_content": null,
            "justify_items": null,
            "left": null,
            "margin": null,
            "max_height": null,
            "max_width": null,
            "min_height": null,
            "min_width": null,
            "object_fit": null,
            "object_position": null,
            "order": null,
            "overflow": null,
            "overflow_x": null,
            "overflow_y": null,
            "padding": null,
            "right": null,
            "top": null,
            "visibility": null,
            "width": null
          }
        },
        "3563a286c61444f796e93825a9d89095": {
          "model_module": "@jupyter-widgets/controls",
          "model_name": "DescriptionStyleModel",
          "model_module_version": "1.5.0",
          "state": {
            "_model_module": "@jupyter-widgets/controls",
            "_model_module_version": "1.5.0",
            "_model_name": "DescriptionStyleModel",
            "_view_count": null,
            "_view_module": "@jupyter-widgets/base",
            "_view_module_version": "1.2.0",
            "_view_name": "StyleView",
            "description_width": ""
          }
        },
        "533af828007249d2b31bf2c187a84775": {
          "model_module": "@jupyter-widgets/controls",
          "model_name": "LabelModel",
          "model_module_version": "1.5.0",
          "state": {
            "_dom_classes": [],
            "_model_module": "@jupyter-widgets/controls",
            "_model_module_version": "1.5.0",
            "_model_name": "LabelModel",
            "_view_count": null,
            "_view_module": "@jupyter-widgets/controls",
            "_view_module_version": "1.5.0",
            "_view_name": "LabelView",
            "description": "",
            "description_tooltip": null,
            "layout": "IPY_MODEL_6109d2238256424ab31fdf2887822f6f",
            "placeholder": "​",
            "style": "IPY_MODEL_6e140e6ee3b5450caa439df4d44968e8",
            "value": "Heart Disease Detected"
          }
        },
        "6109d2238256424ab31fdf2887822f6f": {
          "model_module": "@jupyter-widgets/base",
          "model_name": "LayoutModel",
          "model_module_version": "1.2.0",
          "state": {
            "_model_module": "@jupyter-widgets/base",
            "_model_module_version": "1.2.0",
            "_model_name": "LayoutModel",
            "_view_count": null,
            "_view_module": "@jupyter-widgets/base",
            "_view_module_version": "1.2.0",
            "_view_name": "LayoutView",
            "align_content": null,
            "align_items": null,
            "align_self": null,
            "border": null,
            "bottom": null,
            "display": null,
            "flex": null,
            "flex_flow": null,
            "grid_area": null,
            "grid_auto_columns": null,
            "grid_auto_flow": null,
            "grid_auto_rows": null,
            "grid_column": null,
            "grid_gap": null,
            "grid_row": null,
            "grid_template_areas": null,
            "grid_template_columns": null,
            "grid_template_rows": null,
            "height": null,
            "justify_content": null,
            "justify_items": null,
            "left": null,
            "margin": null,
            "max_height": null,
            "max_width": null,
            "min_height": null,
            "min_width": null,
            "object_fit": null,
            "object_position": null,
            "order": null,
            "overflow": null,
            "overflow_x": null,
            "overflow_y": null,
            "padding": null,
            "right": null,
            "top": null,
            "visibility": null,
            "width": null
          }
        },
        "6e140e6ee3b5450caa439df4d44968e8": {
          "model_module": "@jupyter-widgets/controls",
          "model_name": "DescriptionStyleModel",
          "model_module_version": "1.5.0",
          "state": {
            "_model_module": "@jupyter-widgets/controls",
            "_model_module_version": "1.5.0",
            "_model_name": "DescriptionStyleModel",
            "_view_count": null,
            "_view_module": "@jupyter-widgets/base",
            "_view_module_version": "1.2.0",
            "_view_name": "StyleView",
            "description_width": ""
          }
        }
      }
    }
  },
  "cells": [
    {
      "cell_type": "markdown",
      "source": [
        "# **HEART DISEASE DETECTION**"
      ],
      "metadata": {
        "id": "x40r_1z97YAK"
      }
    },
    {
      "cell_type": "markdown",
      "source": [
        "## **I. Importing required libraries**"
      ],
      "metadata": {
        "id": "p_xwyvJJ7kX7"
      }
    },
    {
      "cell_type": "code",
      "source": [
        "import numpy as np\n",
        "import pandas as pd\n",
        "import matplotlib.pyplot as plt\n",
        "import seaborn as sns\n",
        "import os\n",
        "import warnings\n",
        "%matplotlib inline\n",
        "print(os.listdir())\n",
        "warnings.filterwarnings('ignore')"
      ],
      "metadata": {
        "colab": {
          "base_uri": "https://localhost:8080/"
        },
        "id": "NShGoQW48Gp5",
        "outputId": "ce7ae427-3269-4540-b1de-11f6335e329e"
      },
      "execution_count": 1,
      "outputs": [
        {
          "output_type": "stream",
          "name": "stdout",
          "text": [
            "['.config', 'drive', 'heart.csv', 'sample_data']\n"
          ]
        }
      ]
    },
    {
      "cell_type": "markdown",
      "source": [
        "## **II. Importing and understanding the dataset**"
      ],
      "metadata": {
        "id": "OOvctzm98ftV"
      }
    },
    {
      "cell_type": "code",
      "source": [
        "data = pd.read_csv(\"/content/heart.csv\")"
      ],
      "metadata": {
        "id": "0Ln8_Obm8rsg"
      },
      "execution_count": 2,
      "outputs": []
    },
    {
      "cell_type": "markdown",
      "source": [
        "### Verifying whether it is a 'dataframe' object in pandas or not"
      ],
      "metadata": {
        "id": "W95oBy4b8z6w"
      }
    },
    {
      "cell_type": "code",
      "source": [
        "type(data)"
      ],
      "metadata": {
        "colab": {
          "base_uri": "https://localhost:8080/"
        },
        "id": "24-_wVXF9Pvq",
        "outputId": "56f8d642-dfbf-4dea-d8c7-072b8b9fdc76"
      },
      "execution_count": 3,
      "outputs": [
        {
          "output_type": "execute_result",
          "data": {
            "text/plain": [
              "pandas.core.frame.DataFrame"
            ]
          },
          "metadata": {},
          "execution_count": 3
        }
      ]
    },
    {
      "cell_type": "markdown",
      "source": [
        "### Shape of dataset"
      ],
      "metadata": {
        "id": "DnjzACzE97DU"
      }
    },
    {
      "cell_type": "code",
      "source": [
        "data.shape"
      ],
      "metadata": {
        "colab": {
          "base_uri": "https://localhost:8080/"
        },
        "id": "I9PaaIuA-KAl",
        "outputId": "45583e74-f0b4-4754-c694-0dbd1e7d5cf6"
      },
      "execution_count": 4,
      "outputs": [
        {
          "output_type": "execute_result",
          "data": {
            "text/plain": [
              "(303, 14)"
            ]
          },
          "metadata": {},
          "execution_count": 4
        }
      ]
    },
    {
      "cell_type": "markdown",
      "source": [
        "### Printing out a few columns"
      ],
      "metadata": {
        "id": "MD9v1XaV-R8p"
      }
    },
    {
      "cell_type": "code",
      "source": [
        "data.head(5)"
      ],
      "metadata": {
        "colab": {
          "base_uri": "https://localhost:8080/",
          "height": 206
        },
        "id": "EbfYRAwO-QjG",
        "outputId": "b888af62-b5bb-40c1-9a6d-43e9aa60a2f4"
      },
      "execution_count": 5,
      "outputs": [
        {
          "output_type": "execute_result",
          "data": {
            "text/plain": [
              "   age  sex  cp  trestbps  chol  fbs  restecg  thalach  exang  oldpeak  slope  \\\n",
              "0   63    1   3       145   233    1        0      150      0      2.3      0   \n",
              "1   37    1   2       130   250    0        1      187      0      3.5      0   \n",
              "2   41    0   1       130   204    0        0      172      0      1.4      2   \n",
              "3   56    1   1       120   236    0        1      178      0      0.8      2   \n",
              "4   57    0   0       120   354    0        1      163      1      0.6      2   \n",
              "\n",
              "   ca  thal  target  \n",
              "0   0     1       1  \n",
              "1   0     2       1  \n",
              "2   0     2       1  \n",
              "3   0     2       1  \n",
              "4   0     2       1  "
            ],
            "text/html": [
              "\n",
              "  <div id=\"df-1038787c-7102-43db-afd1-a3f14fc938de\" class=\"colab-df-container\">\n",
              "    <div>\n",
              "<style scoped>\n",
              "    .dataframe tbody tr th:only-of-type {\n",
              "        vertical-align: middle;\n",
              "    }\n",
              "\n",
              "    .dataframe tbody tr th {\n",
              "        vertical-align: top;\n",
              "    }\n",
              "\n",
              "    .dataframe thead th {\n",
              "        text-align: right;\n",
              "    }\n",
              "</style>\n",
              "<table border=\"1\" class=\"dataframe\">\n",
              "  <thead>\n",
              "    <tr style=\"text-align: right;\">\n",
              "      <th></th>\n",
              "      <th>age</th>\n",
              "      <th>sex</th>\n",
              "      <th>cp</th>\n",
              "      <th>trestbps</th>\n",
              "      <th>chol</th>\n",
              "      <th>fbs</th>\n",
              "      <th>restecg</th>\n",
              "      <th>thalach</th>\n",
              "      <th>exang</th>\n",
              "      <th>oldpeak</th>\n",
              "      <th>slope</th>\n",
              "      <th>ca</th>\n",
              "      <th>thal</th>\n",
              "      <th>target</th>\n",
              "    </tr>\n",
              "  </thead>\n",
              "  <tbody>\n",
              "    <tr>\n",
              "      <th>0</th>\n",
              "      <td>63</td>\n",
              "      <td>1</td>\n",
              "      <td>3</td>\n",
              "      <td>145</td>\n",
              "      <td>233</td>\n",
              "      <td>1</td>\n",
              "      <td>0</td>\n",
              "      <td>150</td>\n",
              "      <td>0</td>\n",
              "      <td>2.3</td>\n",
              "      <td>0</td>\n",
              "      <td>0</td>\n",
              "      <td>1</td>\n",
              "      <td>1</td>\n",
              "    </tr>\n",
              "    <tr>\n",
              "      <th>1</th>\n",
              "      <td>37</td>\n",
              "      <td>1</td>\n",
              "      <td>2</td>\n",
              "      <td>130</td>\n",
              "      <td>250</td>\n",
              "      <td>0</td>\n",
              "      <td>1</td>\n",
              "      <td>187</td>\n",
              "      <td>0</td>\n",
              "      <td>3.5</td>\n",
              "      <td>0</td>\n",
              "      <td>0</td>\n",
              "      <td>2</td>\n",
              "      <td>1</td>\n",
              "    </tr>\n",
              "    <tr>\n",
              "      <th>2</th>\n",
              "      <td>41</td>\n",
              "      <td>0</td>\n",
              "      <td>1</td>\n",
              "      <td>130</td>\n",
              "      <td>204</td>\n",
              "      <td>0</td>\n",
              "      <td>0</td>\n",
              "      <td>172</td>\n",
              "      <td>0</td>\n",
              "      <td>1.4</td>\n",
              "      <td>2</td>\n",
              "      <td>0</td>\n",
              "      <td>2</td>\n",
              "      <td>1</td>\n",
              "    </tr>\n",
              "    <tr>\n",
              "      <th>3</th>\n",
              "      <td>56</td>\n",
              "      <td>1</td>\n",
              "      <td>1</td>\n",
              "      <td>120</td>\n",
              "      <td>236</td>\n",
              "      <td>0</td>\n",
              "      <td>1</td>\n",
              "      <td>178</td>\n",
              "      <td>0</td>\n",
              "      <td>0.8</td>\n",
              "      <td>2</td>\n",
              "      <td>0</td>\n",
              "      <td>2</td>\n",
              "      <td>1</td>\n",
              "    </tr>\n",
              "    <tr>\n",
              "      <th>4</th>\n",
              "      <td>57</td>\n",
              "      <td>0</td>\n",
              "      <td>0</td>\n",
              "      <td>120</td>\n",
              "      <td>354</td>\n",
              "      <td>0</td>\n",
              "      <td>1</td>\n",
              "      <td>163</td>\n",
              "      <td>1</td>\n",
              "      <td>0.6</td>\n",
              "      <td>2</td>\n",
              "      <td>0</td>\n",
              "      <td>2</td>\n",
              "      <td>1</td>\n",
              "    </tr>\n",
              "  </tbody>\n",
              "</table>\n",
              "</div>\n",
              "    <div class=\"colab-df-buttons\">\n",
              "\n",
              "  <div class=\"colab-df-container\">\n",
              "    <button class=\"colab-df-convert\" onclick=\"convertToInteractive('df-1038787c-7102-43db-afd1-a3f14fc938de')\"\n",
              "            title=\"Convert this dataframe to an interactive table.\"\n",
              "            style=\"display:none;\">\n",
              "\n",
              "  <svg xmlns=\"http://www.w3.org/2000/svg\" height=\"24px\" viewBox=\"0 -960 960 960\">\n",
              "    <path d=\"M120-120v-720h720v720H120Zm60-500h600v-160H180v160Zm220 220h160v-160H400v160Zm0 220h160v-160H400v160ZM180-400h160v-160H180v160Zm440 0h160v-160H620v160ZM180-180h160v-160H180v160Zm440 0h160v-160H620v160Z\"/>\n",
              "  </svg>\n",
              "    </button>\n",
              "\n",
              "  <style>\n",
              "    .colab-df-container {\n",
              "      display:flex;\n",
              "      gap: 12px;\n",
              "    }\n",
              "\n",
              "    .colab-df-convert {\n",
              "      background-color: #E8F0FE;\n",
              "      border: none;\n",
              "      border-radius: 50%;\n",
              "      cursor: pointer;\n",
              "      display: none;\n",
              "      fill: #1967D2;\n",
              "      height: 32px;\n",
              "      padding: 0 0 0 0;\n",
              "      width: 32px;\n",
              "    }\n",
              "\n",
              "    .colab-df-convert:hover {\n",
              "      background-color: #E2EBFA;\n",
              "      box-shadow: 0px 1px 2px rgba(60, 64, 67, 0.3), 0px 1px 3px 1px rgba(60, 64, 67, 0.15);\n",
              "      fill: #174EA6;\n",
              "    }\n",
              "\n",
              "    .colab-df-buttons div {\n",
              "      margin-bottom: 4px;\n",
              "    }\n",
              "\n",
              "    [theme=dark] .colab-df-convert {\n",
              "      background-color: #3B4455;\n",
              "      fill: #D2E3FC;\n",
              "    }\n",
              "\n",
              "    [theme=dark] .colab-df-convert:hover {\n",
              "      background-color: #434B5C;\n",
              "      box-shadow: 0px 1px 3px 1px rgba(0, 0, 0, 0.15);\n",
              "      filter: drop-shadow(0px 1px 2px rgba(0, 0, 0, 0.3));\n",
              "      fill: #FFFFFF;\n",
              "    }\n",
              "  </style>\n",
              "\n",
              "    <script>\n",
              "      const buttonEl =\n",
              "        document.querySelector('#df-1038787c-7102-43db-afd1-a3f14fc938de button.colab-df-convert');\n",
              "      buttonEl.style.display =\n",
              "        google.colab.kernel.accessAllowed ? 'block' : 'none';\n",
              "\n",
              "      async function convertToInteractive(key) {\n",
              "        const element = document.querySelector('#df-1038787c-7102-43db-afd1-a3f14fc938de');\n",
              "        const dataTable =\n",
              "          await google.colab.kernel.invokeFunction('convertToInteractive',\n",
              "                                                    [key], {});\n",
              "        if (!dataTable) return;\n",
              "\n",
              "        const docLinkHtml = 'Like what you see? Visit the ' +\n",
              "          '<a target=\"_blank\" href=https://colab.research.google.com/notebooks/data_table.ipynb>data table notebook</a>'\n",
              "          + ' to learn more about interactive tables.';\n",
              "        element.innerHTML = '';\n",
              "        dataTable['output_type'] = 'display_data';\n",
              "        await google.colab.output.renderOutput(dataTable, element);\n",
              "        const docLink = document.createElement('div');\n",
              "        docLink.innerHTML = docLinkHtml;\n",
              "        element.appendChild(docLink);\n",
              "      }\n",
              "    </script>\n",
              "  </div>\n",
              "\n",
              "\n",
              "<div id=\"df-ff31f581-8640-42f2-97e7-4aa1cd6dd9d4\">\n",
              "  <button class=\"colab-df-quickchart\" onclick=\"quickchart('df-ff31f581-8640-42f2-97e7-4aa1cd6dd9d4')\"\n",
              "            title=\"Suggest charts\"\n",
              "            style=\"display:none;\">\n",
              "\n",
              "<svg xmlns=\"http://www.w3.org/2000/svg\" height=\"24px\"viewBox=\"0 0 24 24\"\n",
              "     width=\"24px\">\n",
              "    <g>\n",
              "        <path d=\"M19 3H5c-1.1 0-2 .9-2 2v14c0 1.1.9 2 2 2h14c1.1 0 2-.9 2-2V5c0-1.1-.9-2-2-2zM9 17H7v-7h2v7zm4 0h-2V7h2v10zm4 0h-2v-4h2v4z\"/>\n",
              "    </g>\n",
              "</svg>\n",
              "  </button>\n",
              "\n",
              "<style>\n",
              "  .colab-df-quickchart {\n",
              "      --bg-color: #E8F0FE;\n",
              "      --fill-color: #1967D2;\n",
              "      --hover-bg-color: #E2EBFA;\n",
              "      --hover-fill-color: #174EA6;\n",
              "      --disabled-fill-color: #AAA;\n",
              "      --disabled-bg-color: #DDD;\n",
              "  }\n",
              "\n",
              "  [theme=dark] .colab-df-quickchart {\n",
              "      --bg-color: #3B4455;\n",
              "      --fill-color: #D2E3FC;\n",
              "      --hover-bg-color: #434B5C;\n",
              "      --hover-fill-color: #FFFFFF;\n",
              "      --disabled-bg-color: #3B4455;\n",
              "      --disabled-fill-color: #666;\n",
              "  }\n",
              "\n",
              "  .colab-df-quickchart {\n",
              "    background-color: var(--bg-color);\n",
              "    border: none;\n",
              "    border-radius: 50%;\n",
              "    cursor: pointer;\n",
              "    display: none;\n",
              "    fill: var(--fill-color);\n",
              "    height: 32px;\n",
              "    padding: 0;\n",
              "    width: 32px;\n",
              "  }\n",
              "\n",
              "  .colab-df-quickchart:hover {\n",
              "    background-color: var(--hover-bg-color);\n",
              "    box-shadow: 0 1px 2px rgba(60, 64, 67, 0.3), 0 1px 3px 1px rgba(60, 64, 67, 0.15);\n",
              "    fill: var(--button-hover-fill-color);\n",
              "  }\n",
              "\n",
              "  .colab-df-quickchart-complete:disabled,\n",
              "  .colab-df-quickchart-complete:disabled:hover {\n",
              "    background-color: var(--disabled-bg-color);\n",
              "    fill: var(--disabled-fill-color);\n",
              "    box-shadow: none;\n",
              "  }\n",
              "\n",
              "  .colab-df-spinner {\n",
              "    border: 2px solid var(--fill-color);\n",
              "    border-color: transparent;\n",
              "    border-bottom-color: var(--fill-color);\n",
              "    animation:\n",
              "      spin 1s steps(1) infinite;\n",
              "  }\n",
              "\n",
              "  @keyframes spin {\n",
              "    0% {\n",
              "      border-color: transparent;\n",
              "      border-bottom-color: var(--fill-color);\n",
              "      border-left-color: var(--fill-color);\n",
              "    }\n",
              "    20% {\n",
              "      border-color: transparent;\n",
              "      border-left-color: var(--fill-color);\n",
              "      border-top-color: var(--fill-color);\n",
              "    }\n",
              "    30% {\n",
              "      border-color: transparent;\n",
              "      border-left-color: var(--fill-color);\n",
              "      border-top-color: var(--fill-color);\n",
              "      border-right-color: var(--fill-color);\n",
              "    }\n",
              "    40% {\n",
              "      border-color: transparent;\n",
              "      border-right-color: var(--fill-color);\n",
              "      border-top-color: var(--fill-color);\n",
              "    }\n",
              "    60% {\n",
              "      border-color: transparent;\n",
              "      border-right-color: var(--fill-color);\n",
              "    }\n",
              "    80% {\n",
              "      border-color: transparent;\n",
              "      border-right-color: var(--fill-color);\n",
              "      border-bottom-color: var(--fill-color);\n",
              "    }\n",
              "    90% {\n",
              "      border-color: transparent;\n",
              "      border-bottom-color: var(--fill-color);\n",
              "    }\n",
              "  }\n",
              "</style>\n",
              "\n",
              "  <script>\n",
              "    async function quickchart(key) {\n",
              "      const quickchartButtonEl =\n",
              "        document.querySelector('#' + key + ' button');\n",
              "      quickchartButtonEl.disabled = true;  // To prevent multiple clicks.\n",
              "      quickchartButtonEl.classList.add('colab-df-spinner');\n",
              "      try {\n",
              "        const charts = await google.colab.kernel.invokeFunction(\n",
              "            'suggestCharts', [key], {});\n",
              "      } catch (error) {\n",
              "        console.error('Error during call to suggestCharts:', error);\n",
              "      }\n",
              "      quickchartButtonEl.classList.remove('colab-df-spinner');\n",
              "      quickchartButtonEl.classList.add('colab-df-quickchart-complete');\n",
              "    }\n",
              "    (() => {\n",
              "      let quickchartButtonEl =\n",
              "        document.querySelector('#df-ff31f581-8640-42f2-97e7-4aa1cd6dd9d4 button');\n",
              "      quickchartButtonEl.style.display =\n",
              "        google.colab.kernel.accessAllowed ? 'block' : 'none';\n",
              "    })();\n",
              "  </script>\n",
              "</div>\n",
              "\n",
              "    </div>\n",
              "  </div>\n"
            ]
          },
          "metadata": {},
          "execution_count": 5
        }
      ]
    },
    {
      "cell_type": "markdown",
      "source": [
        "### Description of dataset"
      ],
      "metadata": {
        "id": "CRVeKa8h-drv"
      }
    },
    {
      "cell_type": "code",
      "source": [
        "data.describe()"
      ],
      "metadata": {
        "colab": {
          "base_uri": "https://localhost:8080/",
          "height": 320
        },
        "id": "2mzhmjCM-c1V",
        "outputId": "52d2123a-564f-4e83-d98f-95cb7e1b14f3"
      },
      "execution_count": 6,
      "outputs": [
        {
          "output_type": "execute_result",
          "data": {
            "text/plain": [
              "              age         sex          cp    trestbps        chol         fbs  \\\n",
              "count  303.000000  303.000000  303.000000  303.000000  303.000000  303.000000   \n",
              "mean    54.366337    0.683168    0.966997  131.623762  246.264026    0.148515   \n",
              "std      9.082101    0.466011    1.032052   17.538143   51.830751    0.356198   \n",
              "min     29.000000    0.000000    0.000000   94.000000  126.000000    0.000000   \n",
              "25%     47.500000    0.000000    0.000000  120.000000  211.000000    0.000000   \n",
              "50%     55.000000    1.000000    1.000000  130.000000  240.000000    0.000000   \n",
              "75%     61.000000    1.000000    2.000000  140.000000  274.500000    0.000000   \n",
              "max     77.000000    1.000000    3.000000  200.000000  564.000000    1.000000   \n",
              "\n",
              "          restecg     thalach       exang     oldpeak       slope          ca  \\\n",
              "count  303.000000  303.000000  303.000000  303.000000  303.000000  303.000000   \n",
              "mean     0.528053  149.646865    0.326733    1.039604    1.399340    0.729373   \n",
              "std      0.525860   22.905161    0.469794    1.161075    0.616226    1.022606   \n",
              "min      0.000000   71.000000    0.000000    0.000000    0.000000    0.000000   \n",
              "25%      0.000000  133.500000    0.000000    0.000000    1.000000    0.000000   \n",
              "50%      1.000000  153.000000    0.000000    0.800000    1.000000    0.000000   \n",
              "75%      1.000000  166.000000    1.000000    1.600000    2.000000    1.000000   \n",
              "max      2.000000  202.000000    1.000000    6.200000    2.000000    4.000000   \n",
              "\n",
              "             thal      target  \n",
              "count  303.000000  303.000000  \n",
              "mean     2.313531    0.544554  \n",
              "std      0.612277    0.498835  \n",
              "min      0.000000    0.000000  \n",
              "25%      2.000000    0.000000  \n",
              "50%      2.000000    1.000000  \n",
              "75%      3.000000    1.000000  \n",
              "max      3.000000    1.000000  "
            ],
            "text/html": [
              "\n",
              "  <div id=\"df-fa6086aa-c0fa-4a37-b3f8-cc64eb17369c\" class=\"colab-df-container\">\n",
              "    <div>\n",
              "<style scoped>\n",
              "    .dataframe tbody tr th:only-of-type {\n",
              "        vertical-align: middle;\n",
              "    }\n",
              "\n",
              "    .dataframe tbody tr th {\n",
              "        vertical-align: top;\n",
              "    }\n",
              "\n",
              "    .dataframe thead th {\n",
              "        text-align: right;\n",
              "    }\n",
              "</style>\n",
              "<table border=\"1\" class=\"dataframe\">\n",
              "  <thead>\n",
              "    <tr style=\"text-align: right;\">\n",
              "      <th></th>\n",
              "      <th>age</th>\n",
              "      <th>sex</th>\n",
              "      <th>cp</th>\n",
              "      <th>trestbps</th>\n",
              "      <th>chol</th>\n",
              "      <th>fbs</th>\n",
              "      <th>restecg</th>\n",
              "      <th>thalach</th>\n",
              "      <th>exang</th>\n",
              "      <th>oldpeak</th>\n",
              "      <th>slope</th>\n",
              "      <th>ca</th>\n",
              "      <th>thal</th>\n",
              "      <th>target</th>\n",
              "    </tr>\n",
              "  </thead>\n",
              "  <tbody>\n",
              "    <tr>\n",
              "      <th>count</th>\n",
              "      <td>303.000000</td>\n",
              "      <td>303.000000</td>\n",
              "      <td>303.000000</td>\n",
              "      <td>303.000000</td>\n",
              "      <td>303.000000</td>\n",
              "      <td>303.000000</td>\n",
              "      <td>303.000000</td>\n",
              "      <td>303.000000</td>\n",
              "      <td>303.000000</td>\n",
              "      <td>303.000000</td>\n",
              "      <td>303.000000</td>\n",
              "      <td>303.000000</td>\n",
              "      <td>303.000000</td>\n",
              "      <td>303.000000</td>\n",
              "    </tr>\n",
              "    <tr>\n",
              "      <th>mean</th>\n",
              "      <td>54.366337</td>\n",
              "      <td>0.683168</td>\n",
              "      <td>0.966997</td>\n",
              "      <td>131.623762</td>\n",
              "      <td>246.264026</td>\n",
              "      <td>0.148515</td>\n",
              "      <td>0.528053</td>\n",
              "      <td>149.646865</td>\n",
              "      <td>0.326733</td>\n",
              "      <td>1.039604</td>\n",
              "      <td>1.399340</td>\n",
              "      <td>0.729373</td>\n",
              "      <td>2.313531</td>\n",
              "      <td>0.544554</td>\n",
              "    </tr>\n",
              "    <tr>\n",
              "      <th>std</th>\n",
              "      <td>9.082101</td>\n",
              "      <td>0.466011</td>\n",
              "      <td>1.032052</td>\n",
              "      <td>17.538143</td>\n",
              "      <td>51.830751</td>\n",
              "      <td>0.356198</td>\n",
              "      <td>0.525860</td>\n",
              "      <td>22.905161</td>\n",
              "      <td>0.469794</td>\n",
              "      <td>1.161075</td>\n",
              "      <td>0.616226</td>\n",
              "      <td>1.022606</td>\n",
              "      <td>0.612277</td>\n",
              "      <td>0.498835</td>\n",
              "    </tr>\n",
              "    <tr>\n",
              "      <th>min</th>\n",
              "      <td>29.000000</td>\n",
              "      <td>0.000000</td>\n",
              "      <td>0.000000</td>\n",
              "      <td>94.000000</td>\n",
              "      <td>126.000000</td>\n",
              "      <td>0.000000</td>\n",
              "      <td>0.000000</td>\n",
              "      <td>71.000000</td>\n",
              "      <td>0.000000</td>\n",
              "      <td>0.000000</td>\n",
              "      <td>0.000000</td>\n",
              "      <td>0.000000</td>\n",
              "      <td>0.000000</td>\n",
              "      <td>0.000000</td>\n",
              "    </tr>\n",
              "    <tr>\n",
              "      <th>25%</th>\n",
              "      <td>47.500000</td>\n",
              "      <td>0.000000</td>\n",
              "      <td>0.000000</td>\n",
              "      <td>120.000000</td>\n",
              "      <td>211.000000</td>\n",
              "      <td>0.000000</td>\n",
              "      <td>0.000000</td>\n",
              "      <td>133.500000</td>\n",
              "      <td>0.000000</td>\n",
              "      <td>0.000000</td>\n",
              "      <td>1.000000</td>\n",
              "      <td>0.000000</td>\n",
              "      <td>2.000000</td>\n",
              "      <td>0.000000</td>\n",
              "    </tr>\n",
              "    <tr>\n",
              "      <th>50%</th>\n",
              "      <td>55.000000</td>\n",
              "      <td>1.000000</td>\n",
              "      <td>1.000000</td>\n",
              "      <td>130.000000</td>\n",
              "      <td>240.000000</td>\n",
              "      <td>0.000000</td>\n",
              "      <td>1.000000</td>\n",
              "      <td>153.000000</td>\n",
              "      <td>0.000000</td>\n",
              "      <td>0.800000</td>\n",
              "      <td>1.000000</td>\n",
              "      <td>0.000000</td>\n",
              "      <td>2.000000</td>\n",
              "      <td>1.000000</td>\n",
              "    </tr>\n",
              "    <tr>\n",
              "      <th>75%</th>\n",
              "      <td>61.000000</td>\n",
              "      <td>1.000000</td>\n",
              "      <td>2.000000</td>\n",
              "      <td>140.000000</td>\n",
              "      <td>274.500000</td>\n",
              "      <td>0.000000</td>\n",
              "      <td>1.000000</td>\n",
              "      <td>166.000000</td>\n",
              "      <td>1.000000</td>\n",
              "      <td>1.600000</td>\n",
              "      <td>2.000000</td>\n",
              "      <td>1.000000</td>\n",
              "      <td>3.000000</td>\n",
              "      <td>1.000000</td>\n",
              "    </tr>\n",
              "    <tr>\n",
              "      <th>max</th>\n",
              "      <td>77.000000</td>\n",
              "      <td>1.000000</td>\n",
              "      <td>3.000000</td>\n",
              "      <td>200.000000</td>\n",
              "      <td>564.000000</td>\n",
              "      <td>1.000000</td>\n",
              "      <td>2.000000</td>\n",
              "      <td>202.000000</td>\n",
              "      <td>1.000000</td>\n",
              "      <td>6.200000</td>\n",
              "      <td>2.000000</td>\n",
              "      <td>4.000000</td>\n",
              "      <td>3.000000</td>\n",
              "      <td>1.000000</td>\n",
              "    </tr>\n",
              "  </tbody>\n",
              "</table>\n",
              "</div>\n",
              "    <div class=\"colab-df-buttons\">\n",
              "\n",
              "  <div class=\"colab-df-container\">\n",
              "    <button class=\"colab-df-convert\" onclick=\"convertToInteractive('df-fa6086aa-c0fa-4a37-b3f8-cc64eb17369c')\"\n",
              "            title=\"Convert this dataframe to an interactive table.\"\n",
              "            style=\"display:none;\">\n",
              "\n",
              "  <svg xmlns=\"http://www.w3.org/2000/svg\" height=\"24px\" viewBox=\"0 -960 960 960\">\n",
              "    <path d=\"M120-120v-720h720v720H120Zm60-500h600v-160H180v160Zm220 220h160v-160H400v160Zm0 220h160v-160H400v160ZM180-400h160v-160H180v160Zm440 0h160v-160H620v160ZM180-180h160v-160H180v160Zm440 0h160v-160H620v160Z\"/>\n",
              "  </svg>\n",
              "    </button>\n",
              "\n",
              "  <style>\n",
              "    .colab-df-container {\n",
              "      display:flex;\n",
              "      gap: 12px;\n",
              "    }\n",
              "\n",
              "    .colab-df-convert {\n",
              "      background-color: #E8F0FE;\n",
              "      border: none;\n",
              "      border-radius: 50%;\n",
              "      cursor: pointer;\n",
              "      display: none;\n",
              "      fill: #1967D2;\n",
              "      height: 32px;\n",
              "      padding: 0 0 0 0;\n",
              "      width: 32px;\n",
              "    }\n",
              "\n",
              "    .colab-df-convert:hover {\n",
              "      background-color: #E2EBFA;\n",
              "      box-shadow: 0px 1px 2px rgba(60, 64, 67, 0.3), 0px 1px 3px 1px rgba(60, 64, 67, 0.15);\n",
              "      fill: #174EA6;\n",
              "    }\n",
              "\n",
              "    .colab-df-buttons div {\n",
              "      margin-bottom: 4px;\n",
              "    }\n",
              "\n",
              "    [theme=dark] .colab-df-convert {\n",
              "      background-color: #3B4455;\n",
              "      fill: #D2E3FC;\n",
              "    }\n",
              "\n",
              "    [theme=dark] .colab-df-convert:hover {\n",
              "      background-color: #434B5C;\n",
              "      box-shadow: 0px 1px 3px 1px rgba(0, 0, 0, 0.15);\n",
              "      filter: drop-shadow(0px 1px 2px rgba(0, 0, 0, 0.3));\n",
              "      fill: #FFFFFF;\n",
              "    }\n",
              "  </style>\n",
              "\n",
              "    <script>\n",
              "      const buttonEl =\n",
              "        document.querySelector('#df-fa6086aa-c0fa-4a37-b3f8-cc64eb17369c button.colab-df-convert');\n",
              "      buttonEl.style.display =\n",
              "        google.colab.kernel.accessAllowed ? 'block' : 'none';\n",
              "\n",
              "      async function convertToInteractive(key) {\n",
              "        const element = document.querySelector('#df-fa6086aa-c0fa-4a37-b3f8-cc64eb17369c');\n",
              "        const dataTable =\n",
              "          await google.colab.kernel.invokeFunction('convertToInteractive',\n",
              "                                                    [key], {});\n",
              "        if (!dataTable) return;\n",
              "\n",
              "        const docLinkHtml = 'Like what you see? Visit the ' +\n",
              "          '<a target=\"_blank\" href=https://colab.research.google.com/notebooks/data_table.ipynb>data table notebook</a>'\n",
              "          + ' to learn more about interactive tables.';\n",
              "        element.innerHTML = '';\n",
              "        dataTable['output_type'] = 'display_data';\n",
              "        await google.colab.output.renderOutput(dataTable, element);\n",
              "        const docLink = document.createElement('div');\n",
              "        docLink.innerHTML = docLinkHtml;\n",
              "        element.appendChild(docLink);\n",
              "      }\n",
              "    </script>\n",
              "  </div>\n",
              "\n",
              "\n",
              "<div id=\"df-c2d2fb3f-ff5f-4ed5-a32f-efd6eb8d024e\">\n",
              "  <button class=\"colab-df-quickchart\" onclick=\"quickchart('df-c2d2fb3f-ff5f-4ed5-a32f-efd6eb8d024e')\"\n",
              "            title=\"Suggest charts\"\n",
              "            style=\"display:none;\">\n",
              "\n",
              "<svg xmlns=\"http://www.w3.org/2000/svg\" height=\"24px\"viewBox=\"0 0 24 24\"\n",
              "     width=\"24px\">\n",
              "    <g>\n",
              "        <path d=\"M19 3H5c-1.1 0-2 .9-2 2v14c0 1.1.9 2 2 2h14c1.1 0 2-.9 2-2V5c0-1.1-.9-2-2-2zM9 17H7v-7h2v7zm4 0h-2V7h2v10zm4 0h-2v-4h2v4z\"/>\n",
              "    </g>\n",
              "</svg>\n",
              "  </button>\n",
              "\n",
              "<style>\n",
              "  .colab-df-quickchart {\n",
              "      --bg-color: #E8F0FE;\n",
              "      --fill-color: #1967D2;\n",
              "      --hover-bg-color: #E2EBFA;\n",
              "      --hover-fill-color: #174EA6;\n",
              "      --disabled-fill-color: #AAA;\n",
              "      --disabled-bg-color: #DDD;\n",
              "  }\n",
              "\n",
              "  [theme=dark] .colab-df-quickchart {\n",
              "      --bg-color: #3B4455;\n",
              "      --fill-color: #D2E3FC;\n",
              "      --hover-bg-color: #434B5C;\n",
              "      --hover-fill-color: #FFFFFF;\n",
              "      --disabled-bg-color: #3B4455;\n",
              "      --disabled-fill-color: #666;\n",
              "  }\n",
              "\n",
              "  .colab-df-quickchart {\n",
              "    background-color: var(--bg-color);\n",
              "    border: none;\n",
              "    border-radius: 50%;\n",
              "    cursor: pointer;\n",
              "    display: none;\n",
              "    fill: var(--fill-color);\n",
              "    height: 32px;\n",
              "    padding: 0;\n",
              "    width: 32px;\n",
              "  }\n",
              "\n",
              "  .colab-df-quickchart:hover {\n",
              "    background-color: var(--hover-bg-color);\n",
              "    box-shadow: 0 1px 2px rgba(60, 64, 67, 0.3), 0 1px 3px 1px rgba(60, 64, 67, 0.15);\n",
              "    fill: var(--button-hover-fill-color);\n",
              "  }\n",
              "\n",
              "  .colab-df-quickchart-complete:disabled,\n",
              "  .colab-df-quickchart-complete:disabled:hover {\n",
              "    background-color: var(--disabled-bg-color);\n",
              "    fill: var(--disabled-fill-color);\n",
              "    box-shadow: none;\n",
              "  }\n",
              "\n",
              "  .colab-df-spinner {\n",
              "    border: 2px solid var(--fill-color);\n",
              "    border-color: transparent;\n",
              "    border-bottom-color: var(--fill-color);\n",
              "    animation:\n",
              "      spin 1s steps(1) infinite;\n",
              "  }\n",
              "\n",
              "  @keyframes spin {\n",
              "    0% {\n",
              "      border-color: transparent;\n",
              "      border-bottom-color: var(--fill-color);\n",
              "      border-left-color: var(--fill-color);\n",
              "    }\n",
              "    20% {\n",
              "      border-color: transparent;\n",
              "      border-left-color: var(--fill-color);\n",
              "      border-top-color: var(--fill-color);\n",
              "    }\n",
              "    30% {\n",
              "      border-color: transparent;\n",
              "      border-left-color: var(--fill-color);\n",
              "      border-top-color: var(--fill-color);\n",
              "      border-right-color: var(--fill-color);\n",
              "    }\n",
              "    40% {\n",
              "      border-color: transparent;\n",
              "      border-right-color: var(--fill-color);\n",
              "      border-top-color: var(--fill-color);\n",
              "    }\n",
              "    60% {\n",
              "      border-color: transparent;\n",
              "      border-right-color: var(--fill-color);\n",
              "    }\n",
              "    80% {\n",
              "      border-color: transparent;\n",
              "      border-right-color: var(--fill-color);\n",
              "      border-bottom-color: var(--fill-color);\n",
              "    }\n",
              "    90% {\n",
              "      border-color: transparent;\n",
              "      border-bottom-color: var(--fill-color);\n",
              "    }\n",
              "  }\n",
              "</style>\n",
              "\n",
              "  <script>\n",
              "    async function quickchart(key) {\n",
              "      const quickchartButtonEl =\n",
              "        document.querySelector('#' + key + ' button');\n",
              "      quickchartButtonEl.disabled = true;  // To prevent multiple clicks.\n",
              "      quickchartButtonEl.classList.add('colab-df-spinner');\n",
              "      try {\n",
              "        const charts = await google.colab.kernel.invokeFunction(\n",
              "            'suggestCharts', [key], {});\n",
              "      } catch (error) {\n",
              "        console.error('Error during call to suggestCharts:', error);\n",
              "      }\n",
              "      quickchartButtonEl.classList.remove('colab-df-spinner');\n",
              "      quickchartButtonEl.classList.add('colab-df-quickchart-complete');\n",
              "    }\n",
              "    (() => {\n",
              "      let quickchartButtonEl =\n",
              "        document.querySelector('#df-c2d2fb3f-ff5f-4ed5-a32f-efd6eb8d024e button');\n",
              "      quickchartButtonEl.style.display =\n",
              "        google.colab.kernel.accessAllowed ? 'block' : 'none';\n",
              "    })();\n",
              "  </script>\n",
              "</div>\n",
              "\n",
              "    </div>\n",
              "  </div>\n"
            ]
          },
          "metadata": {},
          "execution_count": 6
        }
      ]
    },
    {
      "cell_type": "code",
      "source": [
        "data.info()"
      ],
      "metadata": {
        "colab": {
          "base_uri": "https://localhost:8080/"
        },
        "id": "KkEPUVwv-lYi",
        "outputId": "e2f9471d-7839-4af4-b956-c716cc14f3ef"
      },
      "execution_count": 7,
      "outputs": [
        {
          "output_type": "stream",
          "name": "stdout",
          "text": [
            "<class 'pandas.core.frame.DataFrame'>\n",
            "RangeIndex: 303 entries, 0 to 302\n",
            "Data columns (total 14 columns):\n",
            " #   Column    Non-Null Count  Dtype  \n",
            "---  ------    --------------  -----  \n",
            " 0   age       303 non-null    int64  \n",
            " 1   sex       303 non-null    int64  \n",
            " 2   cp        303 non-null    int64  \n",
            " 3   trestbps  303 non-null    int64  \n",
            " 4   chol      303 non-null    int64  \n",
            " 5   fbs       303 non-null    int64  \n",
            " 6   restecg   303 non-null    int64  \n",
            " 7   thalach   303 non-null    int64  \n",
            " 8   exang     303 non-null    int64  \n",
            " 9   oldpeak   303 non-null    float64\n",
            " 10  slope     303 non-null    int64  \n",
            " 11  ca        303 non-null    int64  \n",
            " 12  thal      303 non-null    int64  \n",
            " 13  target    303 non-null    int64  \n",
            "dtypes: float64(1), int64(13)\n",
            "memory usage: 33.3 KB\n"
          ]
        }
      ]
    },
    {
      "cell_type": "markdown",
      "source": [
        "### Understanding our columns much better"
      ],
      "metadata": {
        "id": "okzmcn87-8St"
      }
    },
    {
      "cell_type": "code",
      "source": [
        "info = [\"age\",\n",
        "        \"1: male, 0: female\",\n",
        "        \"chest pain type, 1: typical angina, 2: atypical angina, 3: non-anginal pain, 4: asymptomatic\",\n",
        "        \"resting blood pressure\",\n",
        "        \"serum cholestoral in mg/dl\",\n",
        "        \"fasting blood sugar > 120 mg/dl\",\n",
        "        \"resting ECG values(0,1,2)\",\n",
        "        \"max heartrate achieved\",\n",
        "        \"exercise induced angina\",\n",
        "        \"oldpeak = ST depression induced by exercise relative to rest\",\n",
        "        \"the slope of the peak exercise ST segment\",\n",
        "        \"no. of major vessels (0-3) colored by flourosopy\",\n",
        "        \"thal: 3 = normal, 6 = fixed defect, 7 = revrsable defect\"]\n",
        "\n",
        "for i in range(len(info)):\n",
        "  print(data.columns[i]+\":\\t\\t\"+info[i])"
      ],
      "metadata": {
        "colab": {
          "base_uri": "https://localhost:8080/"
        },
        "id": "pFrBMRQd_Cc-",
        "outputId": "b88ee239-6c4c-43e6-ba89-d25faef663e8"
      },
      "execution_count": 8,
      "outputs": [
        {
          "output_type": "stream",
          "name": "stdout",
          "text": [
            "age:\t\tage\n",
            "sex:\t\t1: male, 0: female\n",
            "cp:\t\tchest pain type, 1: typical angina, 2: atypical angina, 3: non-anginal pain, 4: asymptomatic\n",
            "trestbps:\t\tresting blood pressure\n",
            "chol:\t\tserum cholestoral in mg/dl\n",
            "fbs:\t\tfasting blood sugar > 120 mg/dl\n",
            "restecg:\t\tresting ECG values(0,1,2)\n",
            "thalach:\t\tmax heartrate achieved\n",
            "exang:\t\texercise induced angina\n",
            "oldpeak:\t\toldpeak = ST depression induced by exercise relative to rest\n",
            "slope:\t\tthe slope of the peak exercise ST segment\n",
            "ca:\t\tno. of major vessels (0-3) colored by flourosopy\n",
            "thal:\t\tthal: 3 = normal, 6 = fixed defect, 7 = revrsable defect\n"
          ]
        }
      ]
    },
    {
      "cell_type": "markdown",
      "source": [
        "### Analysing the 'target' variable"
      ],
      "metadata": {
        "id": "JGPYwERKBiWm"
      }
    },
    {
      "cell_type": "code",
      "source": [
        "data[\"target\"].describe()"
      ],
      "metadata": {
        "colab": {
          "base_uri": "https://localhost:8080/"
        },
        "id": "7e8BEAOnBoYn",
        "outputId": "5540c379-eee2-48da-db12-0b65b4b4b429"
      },
      "execution_count": 9,
      "outputs": [
        {
          "output_type": "execute_result",
          "data": {
            "text/plain": [
              "count    303.000000\n",
              "mean       0.544554\n",
              "std        0.498835\n",
              "min        0.000000\n",
              "25%        0.000000\n",
              "50%        1.000000\n",
              "75%        1.000000\n",
              "max        1.000000\n",
              "Name: target, dtype: float64"
            ]
          },
          "metadata": {},
          "execution_count": 9
        }
      ]
    },
    {
      "cell_type": "code",
      "source": [
        "data[\"target\"].unique()"
      ],
      "metadata": {
        "colab": {
          "base_uri": "https://localhost:8080/"
        },
        "id": "ePGdKOTTBtPA",
        "outputId": "55802b37-f4f0-42b2-86b9-36b2e7f421ee"
      },
      "execution_count": 10,
      "outputs": [
        {
          "output_type": "execute_result",
          "data": {
            "text/plain": [
              "array([1, 0])"
            ]
          },
          "metadata": {},
          "execution_count": 10
        }
      ]
    },
    {
      "cell_type": "markdown",
      "source": [
        "## **III. Exploratory Data Analysis (EDA)**"
      ],
      "metadata": {
        "id": "KwZ8TP73CYlX"
      }
    },
    {
      "cell_type": "markdown",
      "source": [
        "### Analysing the target variable"
      ],
      "metadata": {
        "id": "nUioylgcCieC"
      }
    },
    {
      "cell_type": "code",
      "source": [
        "y = data[\"target\"]\n",
        "target_temp = data.target.value_counts()\n",
        "print(target_temp)\n",
        "print(\"Percentage of patience without heart problems: \"+str(round(target_temp[0]*100/303,2)))\n",
        "print(\"Percentage of patience with heart problems: \"+str(round(target_temp[1]*100/303,2)))"
      ],
      "metadata": {
        "colab": {
          "base_uri": "https://localhost:8080/"
        },
        "id": "N6-cWG7VCVEs",
        "outputId": "5c935dbb-1e0e-47f1-b804-518fde1f9697"
      },
      "execution_count": 11,
      "outputs": [
        {
          "output_type": "stream",
          "name": "stdout",
          "text": [
            "1    165\n",
            "0    138\n",
            "Name: target, dtype: int64\n",
            "Percentage of patience without heart problems: 45.54\n",
            "Percentage of patience with heart problems: 54.46\n"
          ]
        }
      ]
    },
    {
      "cell_type": "markdown",
      "source": [
        "# **IV. Train Test Split**"
      ],
      "metadata": {
        "id": "txb3JftKlnaK"
      }
    },
    {
      "cell_type": "code",
      "source": [
        "from sklearn.model_selection import train_test_split\n",
        "X = data.drop(\"target\",axis=1)\n",
        "Y = data[\"target\"]\n",
        "X_train, X_test, Y_train, Y_test = train_test_split(X, Y, test_size=0.20, random_state=0)"
      ],
      "metadata": {
        "id": "zWvdL-u7mIJn"
      },
      "execution_count": 12,
      "outputs": []
    },
    {
      "cell_type": "code",
      "source": [
        "X_train.shape"
      ],
      "metadata": {
        "colab": {
          "base_uri": "https://localhost:8080/"
        },
        "id": "K4yh5HeAogmb",
        "outputId": "08a0b3d0-eb88-4bae-9d51-3b91c19056aa"
      },
      "execution_count": 13,
      "outputs": [
        {
          "output_type": "execute_result",
          "data": {
            "text/plain": [
              "(242, 13)"
            ]
          },
          "metadata": {},
          "execution_count": 13
        }
      ]
    },
    {
      "cell_type": "code",
      "source": [
        "X_test.shape"
      ],
      "metadata": {
        "colab": {
          "base_uri": "https://localhost:8080/"
        },
        "id": "PXF7oW45ohST",
        "outputId": "2ab0dd03-fdd1-40df-e167-565d179fde27"
      },
      "execution_count": 14,
      "outputs": [
        {
          "output_type": "execute_result",
          "data": {
            "text/plain": [
              "(61, 13)"
            ]
          },
          "metadata": {},
          "execution_count": 14
        }
      ]
    },
    {
      "cell_type": "code",
      "source": [
        "Y_train.shape"
      ],
      "metadata": {
        "colab": {
          "base_uri": "https://localhost:8080/"
        },
        "id": "npO12n7mokbd",
        "outputId": "51d8a4c2-a212-4fe4-e3c8-fed9621708be"
      },
      "execution_count": 15,
      "outputs": [
        {
          "output_type": "execute_result",
          "data": {
            "text/plain": [
              "(242,)"
            ]
          },
          "metadata": {},
          "execution_count": 15
        }
      ]
    },
    {
      "cell_type": "code",
      "source": [
        "Y_test.shape"
      ],
      "metadata": {
        "colab": {
          "base_uri": "https://localhost:8080/"
        },
        "id": "-yCy9bu0okiW",
        "outputId": "5f3b760e-13c5-4eab-a355-fa082827a5ba"
      },
      "execution_count": 16,
      "outputs": [
        {
          "output_type": "execute_result",
          "data": {
            "text/plain": [
              "(61,)"
            ]
          },
          "metadata": {},
          "execution_count": 16
        }
      ]
    },
    {
      "cell_type": "markdown",
      "source": [
        "# **V. Model Fitting**"
      ],
      "metadata": {
        "id": "FriFSOmjoxGv"
      }
    },
    {
      "cell_type": "code",
      "source": [
        "from sklearn.metrics import accuracy_score"
      ],
      "metadata": {
        "id": "Ci3rXYa-o3mp"
      },
      "execution_count": 17,
      "outputs": []
    },
    {
      "cell_type": "markdown",
      "source": [
        "## Logistic Regression"
      ],
      "metadata": {
        "id": "Lp3eThYjo87W"
      }
    },
    {
      "cell_type": "code",
      "source": [
        "from sklearn.linear_model import LogisticRegression\n",
        "lr = LogisticRegression()\n",
        "lr.fit(X_train, Y_train)\n",
        "Y_pred_lr = lr.predict(X_test)\n",
        "score_lr = round(accuracy_score(Y_pred_lr, Y_test)*100,2)\n",
        "print(\"The accuracy score achieved using Logistic Regression is: \"+str(score_lr)+\"%\")"
      ],
      "metadata": {
        "colab": {
          "base_uri": "https://localhost:8080/"
        },
        "id": "lAN9-faKpBBm",
        "outputId": "b59fafab-47c8-40c6-b63b-7f52b508e9c4"
      },
      "execution_count": 18,
      "outputs": [
        {
          "output_type": "stream",
          "name": "stdout",
          "text": [
            "The accuracy score achieved using Logistic Regression is: 85.25%\n"
          ]
        }
      ]
    },
    {
      "cell_type": "markdown",
      "source": [
        "## Support Vector Machine (SVM)"
      ],
      "metadata": {
        "id": "Q2QSMlC7qpFL"
      }
    },
    {
      "cell_type": "code",
      "source": [
        "from sklearn.svm import SVC\n",
        "sv = SVC(kernel='linear')\n",
        "sv.fit(X_train, Y_train)\n",
        "Y_pred_svm = sv.predict(X_test)\n",
        "score_svm = round(accuracy_score(Y_pred_svm, Y_test)*100,2)\n",
        "print(\"The accuracy score achieved using SVM is: \"+str(score_lr)+\"%\")"
      ],
      "metadata": {
        "colab": {
          "base_uri": "https://localhost:8080/"
        },
        "id": "0YtmnBO3qtW7",
        "outputId": "f6ca81e5-988d-4446-f7fe-f7fbfac2f281"
      },
      "execution_count": 19,
      "outputs": [
        {
          "output_type": "stream",
          "name": "stdout",
          "text": [
            "The accuracy score achieved using SVM is: 85.25%\n"
          ]
        }
      ]
    },
    {
      "cell_type": "markdown",
      "source": [
        "## K Nearest Neighbors (KNN)"
      ],
      "metadata": {
        "id": "cMSp8I1brddd"
      }
    },
    {
      "cell_type": "code",
      "source": [
        "from sklearn.neighbors import KNeighborsClassifier\n",
        "knn = KNeighborsClassifier(n_neighbors=7)\n",
        "knn.fit(X_train, Y_train)\n",
        "Y_pred_knn = knn.predict(X_test)\n",
        "score_knn = round(accuracy_score(Y_pred_knn, Y_test)*100,2)\n",
        "print(\"The accuracy score achieved using KNN is: \"+str(score_knn)+\"%\")"
      ],
      "metadata": {
        "colab": {
          "base_uri": "https://localhost:8080/"
        },
        "id": "LIP_QtK2rpKO",
        "outputId": "af2093d2-a852-4d83-9887-bb5255f5d726"
      },
      "execution_count": 20,
      "outputs": [
        {
          "output_type": "stream",
          "name": "stdout",
          "text": [
            "The accuracy score achieved using KNN is: 67.21%\n"
          ]
        }
      ]
    },
    {
      "cell_type": "markdown",
      "source": [
        "## Decision Tree"
      ],
      "metadata": {
        "id": "AnYfnbU3tCCW"
      }
    },
    {
      "cell_type": "code",
      "source": [
        "from sklearn.tree import DecisionTreeClassifier\n",
        "max_accuracy = 0\n",
        "for x in range(2000):\n",
        "  dt = DecisionTreeClassifier(random_state=x)\n",
        "  dt.fit(X_train, Y_train)\n",
        "  Y_pred_dt = dt.predict(X_test)\n",
        "  curr_accuracy = round(accuracy_score(Y_pred_dt, Y_test)*100,2)\n",
        "  if(curr_accuracy > max_accuracy):\n",
        "    max_accuracy = curr_accuracy\n",
        "    best_x = x\n",
        "\n",
        "dt = DecisionTreeClassifier(random_state=best_x)\n",
        "dt.fit(X_train, Y_train)\n",
        "Y_pred_dt = dt.predict(X_test)\n",
        "score_dt = round(accuracy_score(Y_pred_dt, Y_test)*100,2)\n",
        "print(\"The accuracy score achieved using Decision Tree is: \"+str(score_dt)+\"%\")"
      ],
      "metadata": {
        "colab": {
          "base_uri": "https://localhost:8080/"
        },
        "id": "izlU9sbttG31",
        "outputId": "5c2ba5fb-dc4c-4203-b77d-a897712626bd"
      },
      "execution_count": 21,
      "outputs": [
        {
          "output_type": "stream",
          "name": "stdout",
          "text": [
            "The accuracy score achieved using Decision Tree is: 81.97%\n"
          ]
        }
      ]
    },
    {
      "cell_type": "markdown",
      "source": [
        "## Random Forest"
      ],
      "metadata": {
        "id": "fVMIkoKQurpU"
      }
    },
    {
      "cell_type": "code",
      "source": [
        "from sklearn.ensemble import RandomForestClassifier\n",
        "max_accuracy = 0\n",
        "for x in range(2000):\n",
        "  rf = RandomForestClassifier(random_state=x)\n",
        "  rf.fit(X_train, Y_train)\n",
        "  Y_pred_rf = rf.predict(X_test)\n",
        "  curr_accuracy = round(accuracy_score(Y_pred_rf, Y_test)*100,2)\n",
        "  if(curr_accuracy > max_accuracy):\n",
        "    max_accuracy = curr_accuracy\n",
        "    best_x = x\n",
        "\n",
        "rf = RandomForestClassifier(random_state=best_x)\n",
        "rf.fit(X_train, Y_train)\n",
        "Y_pred_rf = rf.predict(X_test)\n",
        "score_rf = round(accuracy_score(Y_pred_rf, Y_test)*100,2)\n",
        "print(\"The accuracy score achieved using Random Forest is: \"+str(score_rf)+\"%\")"
      ],
      "metadata": {
        "id": "XNn9DNJ3uyZW",
        "colab": {
          "base_uri": "https://localhost:8080/"
        },
        "outputId": "9b3489b7-f05e-4c78-8861-79b090b3eb04"
      },
      "execution_count": 22,
      "outputs": [
        {
          "output_type": "stream",
          "name": "stdout",
          "text": [
            "The accuracy score achieved using Random Forest is: 90.16%\n"
          ]
        }
      ]
    },
    {
      "cell_type": "markdown",
      "source": [
        "## XGBoost"
      ],
      "metadata": {
        "id": "1199YSzqrwHz"
      }
    },
    {
      "cell_type": "code",
      "source": [
        "import xgboost as xgb\n",
        "xgb_model = xgb.XGBClassifier(objective=\"binary:logistic\",random_state=42)\n",
        "xgb_model.fit(X_train, Y_train)\n",
        "Y_pred_xgb = xgb_model.predict(X_test)\n",
        "score_xgb = round(accuracy_score(Y_pred_xgb, Y_test)*100,2)\n",
        "print(\"The accuracy score achieved using XGBoost is: \"+str(score_xgb)+\"%\")"
      ],
      "metadata": {
        "colab": {
          "base_uri": "https://localhost:8080/"
        },
        "id": "bOrYHqhQsqpY",
        "outputId": "57bca4b0-b49f-4697-b494-a51c856931e3"
      },
      "execution_count": 23,
      "outputs": [
        {
          "output_type": "stream",
          "name": "stdout",
          "text": [
            "The accuracy score achieved using XGBoost is: 83.61%\n"
          ]
        }
      ]
    },
    {
      "cell_type": "markdown",
      "source": [
        "## Neural Network"
      ],
      "metadata": {
        "id": "wRLQfLGlvecO"
      }
    },
    {
      "cell_type": "code",
      "source": [
        "!pip install keras"
      ],
      "metadata": {
        "colab": {
          "base_uri": "https://localhost:8080/"
        },
        "id": "bwmb5Msdvm5S",
        "outputId": "8e3e2ca7-b179-4e7e-b4f8-76710ebd4bda"
      },
      "execution_count": 24,
      "outputs": [
        {
          "output_type": "stream",
          "name": "stdout",
          "text": [
            "Requirement already satisfied: keras in /usr/local/lib/python3.10/dist-packages (2.15.0)\n"
          ]
        }
      ]
    },
    {
      "cell_type": "code",
      "source": [
        "from keras.models import Sequential\n",
        "from keras.layers import Dense"
      ],
      "metadata": {
        "id": "dE2jXnRkv_tF"
      },
      "execution_count": 25,
      "outputs": []
    },
    {
      "cell_type": "code",
      "source": [
        "model = Sequential()\n",
        "model.add(Dense(11,activation='relu',input_dim=13))\n",
        "model.add(Dense(1,activation='sigmoid'))\n",
        "model.compile(loss='binary_crossentropy',optimizer='adam',metrics=['accuracy'])"
      ],
      "metadata": {
        "id": "pgHHLdRgwKf1"
      },
      "execution_count": 26,
      "outputs": []
    },
    {
      "cell_type": "code",
      "source": [
        "model.fit(X_train, Y_train, epochs=300)"
      ],
      "metadata": {
        "colab": {
          "base_uri": "https://localhost:8080/"
        },
        "id": "zq4XTlz0wxpl",
        "outputId": "4b71e254-29dc-4e8e-d95b-d0c6c2c0146e"
      },
      "execution_count": 27,
      "outputs": [
        {
          "output_type": "stream",
          "name": "stdout",
          "text": [
            "Epoch 1/300\n",
            "8/8 [==============================] - 3s 7ms/step - loss: 18.5184 - accuracy: 0.4587\n",
            "Epoch 2/300\n",
            "8/8 [==============================] - 0s 10ms/step - loss: 12.9557 - accuracy: 0.4587\n",
            "Epoch 3/300\n",
            "8/8 [==============================] - 0s 5ms/step - loss: 7.8194 - accuracy: 0.4669\n",
            "Epoch 4/300\n",
            "8/8 [==============================] - 0s 5ms/step - loss: 4.0398 - accuracy: 0.5372\n",
            "Epoch 5/300\n",
            "8/8 [==============================] - 0s 12ms/step - loss: 3.3227 - accuracy: 0.5868\n",
            "Epoch 6/300\n",
            "8/8 [==============================] - 0s 8ms/step - loss: 3.4319 - accuracy: 0.5661\n",
            "Epoch 7/300\n",
            "8/8 [==============================] - 0s 4ms/step - loss: 3.1215 - accuracy: 0.5702\n",
            "Epoch 8/300\n",
            "8/8 [==============================] - 0s 6ms/step - loss: 2.7799 - accuracy: 0.5909\n",
            "Epoch 9/300\n",
            "8/8 [==============================] - 0s 4ms/step - loss: 2.6308 - accuracy: 0.5785\n",
            "Epoch 10/300\n",
            "8/8 [==============================] - 0s 4ms/step - loss: 2.4444 - accuracy: 0.5537\n",
            "Epoch 11/300\n",
            "8/8 [==============================] - 0s 4ms/step - loss: 2.2549 - accuracy: 0.5785\n",
            "Epoch 12/300\n",
            "8/8 [==============================] - 0s 5ms/step - loss: 2.0866 - accuracy: 0.5661\n",
            "Epoch 13/300\n",
            "8/8 [==============================] - 0s 4ms/step - loss: 1.9378 - accuracy: 0.5331\n",
            "Epoch 14/300\n",
            "8/8 [==============================] - 0s 4ms/step - loss: 1.8235 - accuracy: 0.5207\n",
            "Epoch 15/300\n",
            "8/8 [==============================] - 0s 4ms/step - loss: 1.7023 - accuracy: 0.5207\n",
            "Epoch 16/300\n",
            "8/8 [==============================] - 0s 6ms/step - loss: 1.6069 - accuracy: 0.5413\n",
            "Epoch 17/300\n",
            "8/8 [==============================] - 0s 4ms/step - loss: 1.5204 - accuracy: 0.5455\n",
            "Epoch 18/300\n",
            "8/8 [==============================] - 0s 4ms/step - loss: 1.4278 - accuracy: 0.5537\n",
            "Epoch 19/300\n",
            "8/8 [==============================] - 0s 5ms/step - loss: 1.3657 - accuracy: 0.5496\n",
            "Epoch 20/300\n",
            "8/8 [==============================] - 0s 4ms/step - loss: 1.3180 - accuracy: 0.5496\n",
            "Epoch 21/300\n",
            "8/8 [==============================] - 0s 4ms/step - loss: 1.2708 - accuracy: 0.5455\n",
            "Epoch 22/300\n",
            "8/8 [==============================] - 0s 4ms/step - loss: 1.2653 - accuracy: 0.5331\n",
            "Epoch 23/300\n",
            "8/8 [==============================] - 0s 4ms/step - loss: 1.1915 - accuracy: 0.5455\n",
            "Epoch 24/300\n",
            "8/8 [==============================] - 0s 5ms/step - loss: 1.1632 - accuracy: 0.5413\n",
            "Epoch 25/300\n",
            "8/8 [==============================] - 0s 7ms/step - loss: 1.1301 - accuracy: 0.5455\n",
            "Epoch 26/300\n",
            "8/8 [==============================] - 0s 5ms/step - loss: 1.1054 - accuracy: 0.5496\n",
            "Epoch 27/300\n",
            "8/8 [==============================] - 0s 7ms/step - loss: 1.0643 - accuracy: 0.5620\n",
            "Epoch 28/300\n",
            "8/8 [==============================] - 0s 3ms/step - loss: 1.0532 - accuracy: 0.5537\n",
            "Epoch 29/300\n",
            "8/8 [==============================] - 0s 4ms/step - loss: 1.0399 - accuracy: 0.5785\n",
            "Epoch 30/300\n",
            "8/8 [==============================] - 0s 4ms/step - loss: 1.0100 - accuracy: 0.6033\n",
            "Epoch 31/300\n",
            "8/8 [==============================] - 0s 4ms/step - loss: 1.0009 - accuracy: 0.5826\n",
            "Epoch 32/300\n",
            "8/8 [==============================] - 0s 4ms/step - loss: 0.9775 - accuracy: 0.5826\n",
            "Epoch 33/300\n",
            "8/8 [==============================] - 0s 5ms/step - loss: 0.9556 - accuracy: 0.5992\n",
            "Epoch 34/300\n",
            "8/8 [==============================] - 0s 7ms/step - loss: 0.9396 - accuracy: 0.6198\n",
            "Epoch 35/300\n",
            "8/8 [==============================] - 0s 4ms/step - loss: 0.9200 - accuracy: 0.6033\n",
            "Epoch 36/300\n",
            "8/8 [==============================] - 0s 5ms/step - loss: 0.9068 - accuracy: 0.5950\n",
            "Epoch 37/300\n",
            "8/8 [==============================] - 0s 6ms/step - loss: 0.8898 - accuracy: 0.6322\n",
            "Epoch 38/300\n",
            "8/8 [==============================] - 0s 11ms/step - loss: 0.8894 - accuracy: 0.6074\n",
            "Epoch 39/300\n",
            "8/8 [==============================] - 0s 6ms/step - loss: 0.8660 - accuracy: 0.6240\n",
            "Epoch 40/300\n",
            "8/8 [==============================] - 0s 4ms/step - loss: 0.8618 - accuracy: 0.5992\n",
            "Epoch 41/300\n",
            "8/8 [==============================] - 0s 4ms/step - loss: 0.8546 - accuracy: 0.6322\n",
            "Epoch 42/300\n",
            "8/8 [==============================] - 0s 5ms/step - loss: 0.8302 - accuracy: 0.6364\n",
            "Epoch 43/300\n",
            "8/8 [==============================] - 0s 4ms/step - loss: 0.8398 - accuracy: 0.6281\n",
            "Epoch 44/300\n",
            "8/8 [==============================] - 0s 10ms/step - loss: 0.8160 - accuracy: 0.6405\n",
            "Epoch 45/300\n",
            "8/8 [==============================] - 0s 4ms/step - loss: 0.8056 - accuracy: 0.6281\n",
            "Epoch 46/300\n",
            "8/8 [==============================] - 0s 15ms/step - loss: 0.7884 - accuracy: 0.6446\n",
            "Epoch 47/300\n",
            "8/8 [==============================] - 0s 10ms/step - loss: 0.7794 - accuracy: 0.6529\n",
            "Epoch 48/300\n",
            "8/8 [==============================] - 0s 7ms/step - loss: 0.7722 - accuracy: 0.6653\n",
            "Epoch 49/300\n",
            "8/8 [==============================] - 0s 11ms/step - loss: 0.7631 - accuracy: 0.6694\n",
            "Epoch 50/300\n",
            "8/8 [==============================] - 0s 12ms/step - loss: 0.7509 - accuracy: 0.6818\n",
            "Epoch 51/300\n",
            "8/8 [==============================] - 0s 8ms/step - loss: 0.7552 - accuracy: 0.6694\n",
            "Epoch 52/300\n",
            "8/8 [==============================] - 0s 6ms/step - loss: 0.7352 - accuracy: 0.6860\n",
            "Epoch 53/300\n",
            "8/8 [==============================] - 0s 6ms/step - loss: 0.7343 - accuracy: 0.6777\n",
            "Epoch 54/300\n",
            "8/8 [==============================] - 0s 4ms/step - loss: 0.7259 - accuracy: 0.6860\n",
            "Epoch 55/300\n",
            "8/8 [==============================] - 0s 4ms/step - loss: 0.7112 - accuracy: 0.6736\n",
            "Epoch 56/300\n",
            "8/8 [==============================] - 0s 4ms/step - loss: 0.7102 - accuracy: 0.6983\n",
            "Epoch 57/300\n",
            "8/8 [==============================] - 0s 4ms/step - loss: 0.7039 - accuracy: 0.7066\n",
            "Epoch 58/300\n",
            "8/8 [==============================] - 0s 4ms/step - loss: 0.6949 - accuracy: 0.7066\n",
            "Epoch 59/300\n",
            "8/8 [==============================] - 0s 4ms/step - loss: 0.6852 - accuracy: 0.6901\n",
            "Epoch 60/300\n",
            "8/8 [==============================] - 0s 6ms/step - loss: 0.6987 - accuracy: 0.6942\n",
            "Epoch 61/300\n",
            "8/8 [==============================] - 0s 6ms/step - loss: 0.6822 - accuracy: 0.7107\n",
            "Epoch 62/300\n",
            "8/8 [==============================] - 0s 10ms/step - loss: 0.6677 - accuracy: 0.7025\n",
            "Epoch 63/300\n",
            "8/8 [==============================] - 0s 7ms/step - loss: 0.6698 - accuracy: 0.7231\n",
            "Epoch 64/300\n",
            "8/8 [==============================] - 0s 10ms/step - loss: 0.6759 - accuracy: 0.7066\n",
            "Epoch 65/300\n",
            "8/8 [==============================] - 0s 5ms/step - loss: 0.6620 - accuracy: 0.7149\n",
            "Epoch 66/300\n",
            "8/8 [==============================] - 0s 10ms/step - loss: 0.6633 - accuracy: 0.7190\n",
            "Epoch 67/300\n",
            "8/8 [==============================] - 0s 7ms/step - loss: 0.6630 - accuracy: 0.7149\n",
            "Epoch 68/300\n",
            "8/8 [==============================] - 0s 14ms/step - loss: 0.6632 - accuracy: 0.7066\n",
            "Epoch 69/300\n",
            "8/8 [==============================] - 0s 6ms/step - loss: 0.6413 - accuracy: 0.7231\n",
            "Epoch 70/300\n",
            "8/8 [==============================] - 0s 10ms/step - loss: 0.6407 - accuracy: 0.7355\n",
            "Epoch 71/300\n",
            "8/8 [==============================] - 0s 6ms/step - loss: 0.6313 - accuracy: 0.7355\n",
            "Epoch 72/300\n",
            "8/8 [==============================] - 0s 5ms/step - loss: 0.6276 - accuracy: 0.7273\n",
            "Epoch 73/300\n",
            "8/8 [==============================] - 0s 5ms/step - loss: 0.6190 - accuracy: 0.7273\n",
            "Epoch 74/300\n",
            "8/8 [==============================] - 0s 7ms/step - loss: 0.6190 - accuracy: 0.7397\n",
            "Epoch 75/300\n",
            "8/8 [==============================] - 0s 5ms/step - loss: 0.6163 - accuracy: 0.7314\n",
            "Epoch 76/300\n",
            "8/8 [==============================] - 0s 19ms/step - loss: 0.6247 - accuracy: 0.7273\n",
            "Epoch 77/300\n",
            "8/8 [==============================] - 0s 14ms/step - loss: 0.6095 - accuracy: 0.7314\n",
            "Epoch 78/300\n",
            "8/8 [==============================] - 0s 13ms/step - loss: 0.6041 - accuracy: 0.7273\n",
            "Epoch 79/300\n",
            "8/8 [==============================] - 0s 16ms/step - loss: 0.6037 - accuracy: 0.7438\n",
            "Epoch 80/300\n",
            "8/8 [==============================] - 0s 9ms/step - loss: 0.5950 - accuracy: 0.7479\n",
            "Epoch 81/300\n",
            "8/8 [==============================] - 0s 10ms/step - loss: 0.5916 - accuracy: 0.7355\n",
            "Epoch 82/300\n",
            "8/8 [==============================] - 0s 5ms/step - loss: 0.5881 - accuracy: 0.7438\n",
            "Epoch 83/300\n",
            "8/8 [==============================] - 0s 6ms/step - loss: 0.5814 - accuracy: 0.7562\n",
            "Epoch 84/300\n",
            "8/8 [==============================] - 0s 6ms/step - loss: 0.5837 - accuracy: 0.7562\n",
            "Epoch 85/300\n",
            "8/8 [==============================] - 0s 5ms/step - loss: 0.5759 - accuracy: 0.7521\n",
            "Epoch 86/300\n",
            "8/8 [==============================] - 0s 5ms/step - loss: 0.5726 - accuracy: 0.7562\n",
            "Epoch 87/300\n",
            "8/8 [==============================] - 0s 4ms/step - loss: 0.5719 - accuracy: 0.7603\n",
            "Epoch 88/300\n",
            "8/8 [==============================] - 0s 4ms/step - loss: 0.5680 - accuracy: 0.7438\n",
            "Epoch 89/300\n",
            "8/8 [==============================] - 0s 5ms/step - loss: 0.5726 - accuracy: 0.7397\n",
            "Epoch 90/300\n",
            "8/8 [==============================] - 0s 4ms/step - loss: 0.5672 - accuracy: 0.7686\n",
            "Epoch 91/300\n",
            "8/8 [==============================] - 0s 3ms/step - loss: 0.5595 - accuracy: 0.7645\n",
            "Epoch 92/300\n",
            "8/8 [==============================] - 0s 6ms/step - loss: 0.5552 - accuracy: 0.7645\n",
            "Epoch 93/300\n",
            "8/8 [==============================] - 0s 6ms/step - loss: 0.5521 - accuracy: 0.7686\n",
            "Epoch 94/300\n",
            "8/8 [==============================] - 0s 5ms/step - loss: 0.5487 - accuracy: 0.7603\n",
            "Epoch 95/300\n",
            "8/8 [==============================] - 0s 3ms/step - loss: 0.5484 - accuracy: 0.7603\n",
            "Epoch 96/300\n",
            "8/8 [==============================] - 0s 4ms/step - loss: 0.5460 - accuracy: 0.7686\n",
            "Epoch 97/300\n",
            "8/8 [==============================] - 0s 10ms/step - loss: 0.5475 - accuracy: 0.7727\n",
            "Epoch 98/300\n",
            "8/8 [==============================] - 0s 7ms/step - loss: 0.5418 - accuracy: 0.7603\n",
            "Epoch 99/300\n",
            "8/8 [==============================] - 0s 6ms/step - loss: 0.5491 - accuracy: 0.7521\n",
            "Epoch 100/300\n",
            "8/8 [==============================] - 0s 6ms/step - loss: 0.5332 - accuracy: 0.7686\n",
            "Epoch 101/300\n",
            "8/8 [==============================] - 0s 6ms/step - loss: 0.5392 - accuracy: 0.7479\n",
            "Epoch 102/300\n",
            "8/8 [==============================] - 0s 7ms/step - loss: 0.5297 - accuracy: 0.7769\n",
            "Epoch 103/300\n",
            "8/8 [==============================] - 0s 4ms/step - loss: 0.5309 - accuracy: 0.7727\n",
            "Epoch 104/300\n",
            "8/8 [==============================] - 0s 5ms/step - loss: 0.5299 - accuracy: 0.7727\n",
            "Epoch 105/300\n",
            "8/8 [==============================] - 0s 6ms/step - loss: 0.5229 - accuracy: 0.7686\n",
            "Epoch 106/300\n",
            "8/8 [==============================] - 0s 4ms/step - loss: 0.5200 - accuracy: 0.7686\n",
            "Epoch 107/300\n",
            "8/8 [==============================] - 0s 4ms/step - loss: 0.5186 - accuracy: 0.7851\n",
            "Epoch 108/300\n",
            "8/8 [==============================] - 0s 5ms/step - loss: 0.5152 - accuracy: 0.7727\n",
            "Epoch 109/300\n",
            "8/8 [==============================] - 0s 7ms/step - loss: 0.5172 - accuracy: 0.7810\n",
            "Epoch 110/300\n",
            "8/8 [==============================] - 0s 4ms/step - loss: 0.5112 - accuracy: 0.7934\n",
            "Epoch 111/300\n",
            "8/8 [==============================] - 0s 7ms/step - loss: 0.5207 - accuracy: 0.7603\n",
            "Epoch 112/300\n",
            "8/8 [==============================] - 0s 4ms/step - loss: 0.5335 - accuracy: 0.7686\n",
            "Epoch 113/300\n",
            "8/8 [==============================] - 0s 4ms/step - loss: 0.5176 - accuracy: 0.7727\n",
            "Epoch 114/300\n",
            "8/8 [==============================] - 0s 5ms/step - loss: 0.5148 - accuracy: 0.7769\n",
            "Epoch 115/300\n",
            "8/8 [==============================] - 0s 9ms/step - loss: 0.5090 - accuracy: 0.7603\n",
            "Epoch 116/300\n",
            "8/8 [==============================] - 0s 5ms/step - loss: 0.5163 - accuracy: 0.7727\n",
            "Epoch 117/300\n",
            "8/8 [==============================] - 0s 8ms/step - loss: 0.5201 - accuracy: 0.7562\n",
            "Epoch 118/300\n",
            "8/8 [==============================] - 0s 7ms/step - loss: 0.5133 - accuracy: 0.7810\n",
            "Epoch 119/300\n",
            "8/8 [==============================] - 0s 5ms/step - loss: 0.5144 - accuracy: 0.7603\n",
            "Epoch 120/300\n",
            "8/8 [==============================] - 0s 3ms/step - loss: 0.4945 - accuracy: 0.7934\n",
            "Epoch 121/300\n",
            "8/8 [==============================] - 0s 10ms/step - loss: 0.4924 - accuracy: 0.7810\n",
            "Epoch 122/300\n",
            "8/8 [==============================] - 0s 3ms/step - loss: 0.4856 - accuracy: 0.7934\n",
            "Epoch 123/300\n",
            "8/8 [==============================] - 0s 4ms/step - loss: 0.4867 - accuracy: 0.7934\n",
            "Epoch 124/300\n",
            "8/8 [==============================] - 0s 4ms/step - loss: 0.4931 - accuracy: 0.7769\n",
            "Epoch 125/300\n",
            "8/8 [==============================] - 0s 4ms/step - loss: 0.4890 - accuracy: 0.7851\n",
            "Epoch 126/300\n",
            "8/8 [==============================] - 0s 4ms/step - loss: 0.4968 - accuracy: 0.7851\n",
            "Epoch 127/300\n",
            "8/8 [==============================] - 0s 6ms/step - loss: 0.4877 - accuracy: 0.7893\n",
            "Epoch 128/300\n",
            "8/8 [==============================] - 0s 4ms/step - loss: 0.4871 - accuracy: 0.8017\n",
            "Epoch 129/300\n",
            "8/8 [==============================] - 0s 7ms/step - loss: 0.5042 - accuracy: 0.7851\n",
            "Epoch 130/300\n",
            "8/8 [==============================] - 0s 4ms/step - loss: 0.4725 - accuracy: 0.7893\n",
            "Epoch 131/300\n",
            "8/8 [==============================] - 0s 4ms/step - loss: 0.4697 - accuracy: 0.8017\n",
            "Epoch 132/300\n",
            "8/8 [==============================] - 0s 6ms/step - loss: 0.4670 - accuracy: 0.8058\n",
            "Epoch 133/300\n",
            "8/8 [==============================] - 0s 6ms/step - loss: 0.4711 - accuracy: 0.8017\n",
            "Epoch 134/300\n",
            "8/8 [==============================] - 0s 4ms/step - loss: 0.4705 - accuracy: 0.8017\n",
            "Epoch 135/300\n",
            "8/8 [==============================] - 0s 6ms/step - loss: 0.4626 - accuracy: 0.7934\n",
            "Epoch 136/300\n",
            "8/8 [==============================] - 0s 4ms/step - loss: 0.4626 - accuracy: 0.7975\n",
            "Epoch 137/300\n",
            "8/8 [==============================] - 0s 10ms/step - loss: 0.4646 - accuracy: 0.7975\n",
            "Epoch 138/300\n",
            "8/8 [==============================] - 0s 9ms/step - loss: 0.4613 - accuracy: 0.7934\n",
            "Epoch 139/300\n",
            "8/8 [==============================] - 0s 4ms/step - loss: 0.4570 - accuracy: 0.8017\n",
            "Epoch 140/300\n",
            "8/8 [==============================] - 0s 6ms/step - loss: 0.4573 - accuracy: 0.8058\n",
            "Epoch 141/300\n",
            "8/8 [==============================] - 0s 4ms/step - loss: 0.4508 - accuracy: 0.8140\n",
            "Epoch 142/300\n",
            "8/8 [==============================] - 0s 4ms/step - loss: 0.4587 - accuracy: 0.8140\n",
            "Epoch 143/300\n",
            "8/8 [==============================] - 0s 3ms/step - loss: 0.4672 - accuracy: 0.7851\n",
            "Epoch 144/300\n",
            "8/8 [==============================] - 0s 3ms/step - loss: 0.4486 - accuracy: 0.7975\n",
            "Epoch 145/300\n",
            "8/8 [==============================] - 0s 3ms/step - loss: 0.4449 - accuracy: 0.8182\n",
            "Epoch 146/300\n",
            "8/8 [==============================] - 0s 4ms/step - loss: 0.4446 - accuracy: 0.8017\n",
            "Epoch 147/300\n",
            "8/8 [==============================] - 0s 5ms/step - loss: 0.4407 - accuracy: 0.8140\n",
            "Epoch 148/300\n",
            "8/8 [==============================] - 0s 4ms/step - loss: 0.4447 - accuracy: 0.8099\n",
            "Epoch 149/300\n",
            "8/8 [==============================] - 0s 4ms/step - loss: 0.4377 - accuracy: 0.8017\n",
            "Epoch 150/300\n",
            "8/8 [==============================] - 0s 4ms/step - loss: 0.4365 - accuracy: 0.8017\n",
            "Epoch 151/300\n",
            "8/8 [==============================] - 0s 4ms/step - loss: 0.4399 - accuracy: 0.8017\n",
            "Epoch 152/300\n",
            "8/8 [==============================] - 0s 6ms/step - loss: 0.4519 - accuracy: 0.7975\n",
            "Epoch 153/300\n",
            "8/8 [==============================] - 0s 4ms/step - loss: 0.4569 - accuracy: 0.7975\n",
            "Epoch 154/300\n",
            "8/8 [==============================] - 0s 4ms/step - loss: 0.4436 - accuracy: 0.7934\n",
            "Epoch 155/300\n",
            "8/8 [==============================] - 0s 10ms/step - loss: 0.4326 - accuracy: 0.8140\n",
            "Epoch 156/300\n",
            "8/8 [==============================] - 0s 12ms/step - loss: 0.4296 - accuracy: 0.8058\n",
            "Epoch 157/300\n",
            "8/8 [==============================] - 0s 11ms/step - loss: 0.4394 - accuracy: 0.8099\n",
            "Epoch 158/300\n",
            "8/8 [==============================] - 0s 14ms/step - loss: 0.4341 - accuracy: 0.8017\n",
            "Epoch 159/300\n",
            "8/8 [==============================] - 0s 7ms/step - loss: 0.4326 - accuracy: 0.8140\n",
            "Epoch 160/300\n",
            "8/8 [==============================] - 0s 10ms/step - loss: 0.4241 - accuracy: 0.8264\n",
            "Epoch 161/300\n",
            "8/8 [==============================] - 0s 10ms/step - loss: 0.4187 - accuracy: 0.8306\n",
            "Epoch 162/300\n",
            "8/8 [==============================] - 0s 12ms/step - loss: 0.4193 - accuracy: 0.8058\n",
            "Epoch 163/300\n",
            "8/8 [==============================] - 0s 11ms/step - loss: 0.4399 - accuracy: 0.7975\n",
            "Epoch 164/300\n",
            "8/8 [==============================] - 0s 8ms/step - loss: 0.4317 - accuracy: 0.7975\n",
            "Epoch 165/300\n",
            "8/8 [==============================] - 0s 6ms/step - loss: 0.4209 - accuracy: 0.8182\n",
            "Epoch 166/300\n",
            "8/8 [==============================] - 0s 5ms/step - loss: 0.4210 - accuracy: 0.8264\n",
            "Epoch 167/300\n",
            "8/8 [==============================] - 0s 14ms/step - loss: 0.4330 - accuracy: 0.7810\n",
            "Epoch 168/300\n",
            "8/8 [==============================] - 0s 21ms/step - loss: 0.4943 - accuracy: 0.7479\n",
            "Epoch 169/300\n",
            "8/8 [==============================] - 0s 11ms/step - loss: 0.4634 - accuracy: 0.7479\n",
            "Epoch 170/300\n",
            "8/8 [==============================] - 0s 9ms/step - loss: 0.4622 - accuracy: 0.7769\n",
            "Epoch 171/300\n",
            "8/8 [==============================] - 0s 6ms/step - loss: 0.4471 - accuracy: 0.7975\n",
            "Epoch 172/300\n",
            "8/8 [==============================] - 0s 6ms/step - loss: 0.4222 - accuracy: 0.8099\n",
            "Epoch 173/300\n",
            "8/8 [==============================] - 0s 5ms/step - loss: 0.4208 - accuracy: 0.8058\n",
            "Epoch 174/300\n",
            "8/8 [==============================] - 0s 8ms/step - loss: 0.4025 - accuracy: 0.8306\n",
            "Epoch 175/300\n",
            "8/8 [==============================] - 0s 8ms/step - loss: 0.3986 - accuracy: 0.8264\n",
            "Epoch 176/300\n",
            "8/8 [==============================] - 0s 12ms/step - loss: 0.4018 - accuracy: 0.8140\n",
            "Epoch 177/300\n",
            "8/8 [==============================] - 0s 10ms/step - loss: 0.4002 - accuracy: 0.8264\n",
            "Epoch 178/300\n",
            "8/8 [==============================] - 0s 11ms/step - loss: 0.3996 - accuracy: 0.8223\n",
            "Epoch 179/300\n",
            "8/8 [==============================] - 0s 9ms/step - loss: 0.3969 - accuracy: 0.8306\n",
            "Epoch 180/300\n",
            "8/8 [==============================] - 0s 11ms/step - loss: 0.3999 - accuracy: 0.8264\n",
            "Epoch 181/300\n",
            "8/8 [==============================] - 0s 7ms/step - loss: 0.4017 - accuracy: 0.8430\n",
            "Epoch 182/300\n",
            "8/8 [==============================] - 0s 7ms/step - loss: 0.4026 - accuracy: 0.8058\n",
            "Epoch 183/300\n",
            "8/8 [==============================] - 0s 5ms/step - loss: 0.4207 - accuracy: 0.8099\n",
            "Epoch 184/300\n",
            "8/8 [==============================] - 0s 5ms/step - loss: 0.4009 - accuracy: 0.8264\n",
            "Epoch 185/300\n",
            "8/8 [==============================] - 0s 4ms/step - loss: 0.3990 - accuracy: 0.8182\n",
            "Epoch 186/300\n",
            "8/8 [==============================] - 0s 11ms/step - loss: 0.3906 - accuracy: 0.8471\n",
            "Epoch 187/300\n",
            "8/8 [==============================] - 0s 13ms/step - loss: 0.3972 - accuracy: 0.8223\n",
            "Epoch 188/300\n",
            "8/8 [==============================] - 0s 10ms/step - loss: 0.3987 - accuracy: 0.8388\n",
            "Epoch 189/300\n",
            "8/8 [==============================] - 0s 9ms/step - loss: 0.3881 - accuracy: 0.8264\n",
            "Epoch 190/300\n",
            "8/8 [==============================] - 0s 13ms/step - loss: 0.4054 - accuracy: 0.8264\n",
            "Epoch 191/300\n",
            "8/8 [==============================] - 0s 6ms/step - loss: 0.4250 - accuracy: 0.7975\n",
            "Epoch 192/300\n",
            "8/8 [==============================] - 0s 10ms/step - loss: 0.4048 - accuracy: 0.8264\n",
            "Epoch 193/300\n",
            "8/8 [==============================] - 0s 5ms/step - loss: 0.3905 - accuracy: 0.8140\n",
            "Epoch 194/300\n",
            "8/8 [==============================] - 0s 4ms/step - loss: 0.3992 - accuracy: 0.8182\n",
            "Epoch 195/300\n",
            "8/8 [==============================] - 0s 3ms/step - loss: 0.4014 - accuracy: 0.8264\n",
            "Epoch 196/300\n",
            "8/8 [==============================] - 0s 4ms/step - loss: 0.4032 - accuracy: 0.8223\n",
            "Epoch 197/300\n",
            "8/8 [==============================] - 0s 4ms/step - loss: 0.3798 - accuracy: 0.8471\n",
            "Epoch 198/300\n",
            "8/8 [==============================] - 0s 4ms/step - loss: 0.3829 - accuracy: 0.8388\n",
            "Epoch 199/300\n",
            "8/8 [==============================] - 0s 4ms/step - loss: 0.3868 - accuracy: 0.8264\n",
            "Epoch 200/300\n",
            "8/8 [==============================] - 0s 4ms/step - loss: 0.4188 - accuracy: 0.8182\n",
            "Epoch 201/300\n",
            "8/8 [==============================] - 0s 4ms/step - loss: 0.4028 - accuracy: 0.8058\n",
            "Epoch 202/300\n",
            "8/8 [==============================] - 0s 4ms/step - loss: 0.3855 - accuracy: 0.8182\n",
            "Epoch 203/300\n",
            "8/8 [==============================] - 0s 4ms/step - loss: 0.3911 - accuracy: 0.8182\n",
            "Epoch 204/300\n",
            "8/8 [==============================] - 0s 4ms/step - loss: 0.3775 - accuracy: 0.8512\n",
            "Epoch 205/300\n",
            "8/8 [==============================] - 0s 4ms/step - loss: 0.3827 - accuracy: 0.8388\n",
            "Epoch 206/300\n",
            "8/8 [==============================] - 0s 4ms/step - loss: 0.3806 - accuracy: 0.8388\n",
            "Epoch 207/300\n",
            "8/8 [==============================] - 0s 4ms/step - loss: 0.3742 - accuracy: 0.8554\n",
            "Epoch 208/300\n",
            "8/8 [==============================] - 0s 5ms/step - loss: 0.3758 - accuracy: 0.8471\n",
            "Epoch 209/300\n",
            "8/8 [==============================] - 0s 3ms/step - loss: 0.3778 - accuracy: 0.8595\n",
            "Epoch 210/300\n",
            "8/8 [==============================] - 0s 3ms/step - loss: 0.3763 - accuracy: 0.8388\n",
            "Epoch 211/300\n",
            "8/8 [==============================] - 0s 4ms/step - loss: 0.3764 - accuracy: 0.8430\n",
            "Epoch 212/300\n",
            "8/8 [==============================] - 0s 4ms/step - loss: 0.3944 - accuracy: 0.8264\n",
            "Epoch 213/300\n",
            "8/8 [==============================] - 0s 4ms/step - loss: 0.3832 - accuracy: 0.8430\n",
            "Epoch 214/300\n",
            "8/8 [==============================] - 0s 4ms/step - loss: 0.3725 - accuracy: 0.8554\n",
            "Epoch 215/300\n",
            "8/8 [==============================] - 0s 3ms/step - loss: 0.3735 - accuracy: 0.8471\n",
            "Epoch 216/300\n",
            "8/8 [==============================] - 0s 3ms/step - loss: 0.3735 - accuracy: 0.8512\n",
            "Epoch 217/300\n",
            "8/8 [==============================] - 0s 4ms/step - loss: 0.3717 - accuracy: 0.8512\n",
            "Epoch 218/300\n",
            "8/8 [==============================] - 0s 3ms/step - loss: 0.3717 - accuracy: 0.8471\n",
            "Epoch 219/300\n",
            "8/8 [==============================] - 0s 3ms/step - loss: 0.3745 - accuracy: 0.8471\n",
            "Epoch 220/300\n",
            "8/8 [==============================] - 0s 4ms/step - loss: 0.3732 - accuracy: 0.8512\n",
            "Epoch 221/300\n",
            "8/8 [==============================] - 0s 5ms/step - loss: 0.3702 - accuracy: 0.8471\n",
            "Epoch 222/300\n",
            "8/8 [==============================] - 0s 6ms/step - loss: 0.3741 - accuracy: 0.8471\n",
            "Epoch 223/300\n",
            "8/8 [==============================] - 0s 4ms/step - loss: 0.3701 - accuracy: 0.8512\n",
            "Epoch 224/300\n",
            "8/8 [==============================] - 0s 4ms/step - loss: 0.3742 - accuracy: 0.8388\n",
            "Epoch 225/300\n",
            "8/8 [==============================] - 0s 3ms/step - loss: 0.3701 - accuracy: 0.8554\n",
            "Epoch 226/300\n",
            "8/8 [==============================] - 0s 3ms/step - loss: 0.3751 - accuracy: 0.8430\n",
            "Epoch 227/300\n",
            "8/8 [==============================] - 0s 3ms/step - loss: 0.3715 - accuracy: 0.8471\n",
            "Epoch 228/300\n",
            "8/8 [==============================] - 0s 3ms/step - loss: 0.3668 - accuracy: 0.8471\n",
            "Epoch 229/300\n",
            "8/8 [==============================] - 0s 3ms/step - loss: 0.3697 - accuracy: 0.8595\n",
            "Epoch 230/300\n",
            "8/8 [==============================] - 0s 4ms/step - loss: 0.3672 - accuracy: 0.8554\n",
            "Epoch 231/300\n",
            "8/8 [==============================] - 0s 4ms/step - loss: 0.3787 - accuracy: 0.8430\n",
            "Epoch 232/300\n",
            "8/8 [==============================] - 0s 3ms/step - loss: 0.3725 - accuracy: 0.8347\n",
            "Epoch 233/300\n",
            "8/8 [==============================] - 0s 3ms/step - loss: 0.3904 - accuracy: 0.8182\n",
            "Epoch 234/300\n",
            "8/8 [==============================] - 0s 3ms/step - loss: 0.3890 - accuracy: 0.8099\n",
            "Epoch 235/300\n",
            "8/8 [==============================] - 0s 3ms/step - loss: 0.4019 - accuracy: 0.8223\n",
            "Epoch 236/300\n",
            "8/8 [==============================] - 0s 3ms/step - loss: 0.3940 - accuracy: 0.8140\n",
            "Epoch 237/300\n",
            "8/8 [==============================] - 0s 4ms/step - loss: 0.3900 - accuracy: 0.8306\n",
            "Epoch 238/300\n",
            "8/8 [==============================] - 0s 5ms/step - loss: 0.3750 - accuracy: 0.8512\n",
            "Epoch 239/300\n",
            "8/8 [==============================] - 0s 3ms/step - loss: 0.3644 - accuracy: 0.8554\n",
            "Epoch 240/300\n",
            "8/8 [==============================] - 0s 3ms/step - loss: 0.3658 - accuracy: 0.8554\n",
            "Epoch 241/300\n",
            "8/8 [==============================] - 0s 3ms/step - loss: 0.3679 - accuracy: 0.8554\n",
            "Epoch 242/300\n",
            "8/8 [==============================] - 0s 3ms/step - loss: 0.3767 - accuracy: 0.8554\n",
            "Epoch 243/300\n",
            "8/8 [==============================] - 0s 3ms/step - loss: 0.4055 - accuracy: 0.7934\n",
            "Epoch 244/300\n",
            "8/8 [==============================] - 0s 3ms/step - loss: 0.3951 - accuracy: 0.8017\n",
            "Epoch 245/300\n",
            "8/8 [==============================] - 0s 3ms/step - loss: 0.3760 - accuracy: 0.8264\n",
            "Epoch 246/300\n",
            "8/8 [==============================] - 0s 3ms/step - loss: 0.3722 - accuracy: 0.8388\n",
            "Epoch 247/300\n",
            "8/8 [==============================] - 0s 3ms/step - loss: 0.3848 - accuracy: 0.8430\n",
            "Epoch 248/300\n",
            "8/8 [==============================] - 0s 3ms/step - loss: 0.3811 - accuracy: 0.8347\n",
            "Epoch 249/300\n",
            "8/8 [==============================] - 0s 3ms/step - loss: 0.3744 - accuracy: 0.8430\n",
            "Epoch 250/300\n",
            "8/8 [==============================] - 0s 3ms/step - loss: 0.3695 - accuracy: 0.8430\n",
            "Epoch 251/300\n",
            "8/8 [==============================] - 0s 3ms/step - loss: 0.3723 - accuracy: 0.8471\n",
            "Epoch 252/300\n",
            "8/8 [==============================] - 0s 3ms/step - loss: 0.3659 - accuracy: 0.8554\n",
            "Epoch 253/300\n",
            "8/8 [==============================] - 0s 3ms/step - loss: 0.3655 - accuracy: 0.8512\n",
            "Epoch 254/300\n",
            "8/8 [==============================] - 0s 4ms/step - loss: 0.3670 - accuracy: 0.8554\n",
            "Epoch 255/300\n",
            "8/8 [==============================] - 0s 4ms/step - loss: 0.3659 - accuracy: 0.8306\n",
            "Epoch 256/300\n",
            "8/8 [==============================] - 0s 3ms/step - loss: 0.3696 - accuracy: 0.8512\n",
            "Epoch 257/300\n",
            "8/8 [==============================] - 0s 3ms/step - loss: 0.3617 - accuracy: 0.8595\n",
            "Epoch 258/300\n",
            "8/8 [==============================] - 0s 3ms/step - loss: 0.3654 - accuracy: 0.8512\n",
            "Epoch 259/300\n",
            "8/8 [==============================] - 0s 3ms/step - loss: 0.3713 - accuracy: 0.8430\n",
            "Epoch 260/300\n",
            "8/8 [==============================] - 0s 3ms/step - loss: 0.3614 - accuracy: 0.8595\n",
            "Epoch 261/300\n",
            "8/8 [==============================] - 0s 3ms/step - loss: 0.3619 - accuracy: 0.8430\n",
            "Epoch 262/300\n",
            "8/8 [==============================] - 0s 3ms/step - loss: 0.3783 - accuracy: 0.8388\n",
            "Epoch 263/300\n",
            "8/8 [==============================] - 0s 3ms/step - loss: 0.3936 - accuracy: 0.7975\n",
            "Epoch 264/300\n",
            "8/8 [==============================] - 0s 3ms/step - loss: 0.3810 - accuracy: 0.8264\n",
            "Epoch 265/300\n",
            "8/8 [==============================] - 0s 3ms/step - loss: 0.3723 - accuracy: 0.8306\n",
            "Epoch 266/300\n",
            "8/8 [==============================] - 0s 4ms/step - loss: 0.3748 - accuracy: 0.8471\n",
            "Epoch 267/300\n",
            "8/8 [==============================] - 0s 4ms/step - loss: 0.3735 - accuracy: 0.8347\n",
            "Epoch 268/300\n",
            "8/8 [==============================] - 0s 3ms/step - loss: 0.3783 - accuracy: 0.8347\n",
            "Epoch 269/300\n",
            "8/8 [==============================] - 0s 3ms/step - loss: 0.3605 - accuracy: 0.8512\n",
            "Epoch 270/300\n",
            "8/8 [==============================] - 0s 3ms/step - loss: 0.3600 - accuracy: 0.8471\n",
            "Epoch 271/300\n",
            "8/8 [==============================] - 0s 4ms/step - loss: 0.3588 - accuracy: 0.8554\n",
            "Epoch 272/300\n",
            "8/8 [==============================] - 0s 3ms/step - loss: 0.3670 - accuracy: 0.8554\n",
            "Epoch 273/300\n",
            "8/8 [==============================] - 0s 3ms/step - loss: 0.3703 - accuracy: 0.8306\n",
            "Epoch 274/300\n",
            "8/8 [==============================] - 0s 3ms/step - loss: 0.3770 - accuracy: 0.8182\n",
            "Epoch 275/300\n",
            "8/8 [==============================] - 0s 3ms/step - loss: 0.3701 - accuracy: 0.8430\n",
            "Epoch 276/300\n",
            "8/8 [==============================] - 0s 3ms/step - loss: 0.3743 - accuracy: 0.8388\n",
            "Epoch 277/300\n",
            "8/8 [==============================] - 0s 3ms/step - loss: 0.3654 - accuracy: 0.8471\n",
            "Epoch 278/300\n",
            "8/8 [==============================] - 0s 3ms/step - loss: 0.3633 - accuracy: 0.8430\n",
            "Epoch 279/300\n",
            "8/8 [==============================] - 0s 3ms/step - loss: 0.3654 - accuracy: 0.8430\n",
            "Epoch 280/300\n",
            "8/8 [==============================] - 0s 3ms/step - loss: 0.3636 - accuracy: 0.8512\n",
            "Epoch 281/300\n",
            "8/8 [==============================] - 0s 3ms/step - loss: 0.3602 - accuracy: 0.8471\n",
            "Epoch 282/300\n",
            "8/8 [==============================] - 0s 3ms/step - loss: 0.3581 - accuracy: 0.8595\n",
            "Epoch 283/300\n",
            "8/8 [==============================] - 0s 3ms/step - loss: 0.3601 - accuracy: 0.8512\n",
            "Epoch 284/300\n",
            "8/8 [==============================] - 0s 3ms/step - loss: 0.3615 - accuracy: 0.8554\n",
            "Epoch 285/300\n",
            "8/8 [==============================] - 0s 3ms/step - loss: 0.3590 - accuracy: 0.8595\n",
            "Epoch 286/300\n",
            "8/8 [==============================] - 0s 3ms/step - loss: 0.3557 - accuracy: 0.8554\n",
            "Epoch 287/300\n",
            "8/8 [==============================] - 0s 3ms/step - loss: 0.3594 - accuracy: 0.8636\n",
            "Epoch 288/300\n",
            "8/8 [==============================] - 0s 4ms/step - loss: 0.3576 - accuracy: 0.8554\n",
            "Epoch 289/300\n",
            "8/8 [==============================] - 0s 3ms/step - loss: 0.3597 - accuracy: 0.8554\n",
            "Epoch 290/300\n",
            "8/8 [==============================] - 0s 3ms/step - loss: 0.3631 - accuracy: 0.8554\n",
            "Epoch 291/300\n",
            "8/8 [==============================] - 0s 3ms/step - loss: 0.3592 - accuracy: 0.8554\n",
            "Epoch 292/300\n",
            "8/8 [==============================] - 0s 3ms/step - loss: 0.3659 - accuracy: 0.8512\n",
            "Epoch 293/300\n",
            "8/8 [==============================] - 0s 3ms/step - loss: 0.3773 - accuracy: 0.8306\n",
            "Epoch 294/300\n",
            "8/8 [==============================] - 0s 3ms/step - loss: 0.3588 - accuracy: 0.8636\n",
            "Epoch 295/300\n",
            "8/8 [==============================] - 0s 4ms/step - loss: 0.3604 - accuracy: 0.8554\n",
            "Epoch 296/300\n",
            "8/8 [==============================] - 0s 3ms/step - loss: 0.3610 - accuracy: 0.8430\n",
            "Epoch 297/300\n",
            "8/8 [==============================] - 0s 3ms/step - loss: 0.3604 - accuracy: 0.8512\n",
            "Epoch 298/300\n",
            "8/8 [==============================] - 0s 3ms/step - loss: 0.3725 - accuracy: 0.8430\n",
            "Epoch 299/300\n",
            "8/8 [==============================] - 0s 3ms/step - loss: 0.3601 - accuracy: 0.8554\n",
            "Epoch 300/300\n",
            "8/8 [==============================] - 0s 3ms/step - loss: 0.3592 - accuracy: 0.8554\n"
          ]
        },
        {
          "output_type": "execute_result",
          "data": {
            "text/plain": [
              "<keras.src.callbacks.History at 0x78bcb88b3220>"
            ]
          },
          "metadata": {},
          "execution_count": 27
        }
      ]
    },
    {
      "cell_type": "code",
      "source": [
        "Y_pred_nn = model.predict(X_test)\n",
        "rounded = [round(x[0]) for x in Y_pred_nn]\n",
        "Y_pred_nn = rounded\n",
        "score_nn = round(accuracy_score(Y_pred_nn, Y_test)*100,2)\n",
        "print(\"The accuracy score achieved using Neural Network is: \"+str(score_nn)+\"%\")"
      ],
      "metadata": {
        "colab": {
          "base_uri": "https://localhost:8080/"
        },
        "id": "R4RWhbjkw_bc",
        "outputId": "2a5e3855-b5a8-4387-a877-1b70dd04a63a"
      },
      "execution_count": 28,
      "outputs": [
        {
          "output_type": "stream",
          "name": "stdout",
          "text": [
            "2/2 [==============================] - 0s 5ms/step\n",
            "The accuracy score achieved using Neural Network is: 80.33%\n"
          ]
        }
      ]
    },
    {
      "cell_type": "markdown",
      "source": [
        "# **VI. Output final score**"
      ],
      "metadata": {
        "id": "Y9ob6hjFyKDC"
      }
    },
    {
      "cell_type": "code",
      "source": [
        "scores = [score_lr, score_svm, score_knn, score_dt, score_rf, score_xgb, score_nn]\n",
        "algorithms = [\"Logistic Regression\",\"Support Vector Machine\",\"K-Nearest Neighbor\",\"Decision Tree\",\"Random Forest\",\"XGBoost\",\"Neural Networks\"]\n",
        "for i in range(len(algorithms)):\n",
        "  print(\"The accuracy score achieved using \"+algorithms[i]+\" is: \"+str(scores[i])+\"%\")"
      ],
      "metadata": {
        "colab": {
          "base_uri": "https://localhost:8080/"
        },
        "id": "Mvm_3hTHyX7v",
        "outputId": "448d0831-fd6a-47d8-bd5c-90f7f1057df4"
      },
      "execution_count": 29,
      "outputs": [
        {
          "output_type": "stream",
          "name": "stdout",
          "text": [
            "The accuracy score achieved using Logistic Regression is: 85.25%\n",
            "The accuracy score achieved using Support Vector Machine is: 81.97%\n",
            "The accuracy score achieved using K-Nearest Neighbor is: 67.21%\n",
            "The accuracy score achieved using Decision Tree is: 81.97%\n",
            "The accuracy score achieved using Random Forest is: 90.16%\n",
            "The accuracy score achieved using XGBoost is: 83.61%\n",
            "The accuracy score achieved using Neural Networks is: 80.33%\n"
          ]
        }
      ]
    },
    {
      "cell_type": "code",
      "source": [
        "sns.set(rc={'figure.figsize':(15,8)})\n",
        "plt.xlabel(\"Algorithms\")\n",
        "plt.ylabel(\"Accuracy score\")\n",
        "plt.scatter(algorithms,scores)\n",
        "plt.show()"
      ],
      "metadata": {
        "colab": {
          "base_uri": "https://localhost:8080/",
          "height": 653
        },
        "id": "JAFoG0NN1ra4",
        "outputId": "c2b8def2-4b55-4435-eeda-24bc3442791d"
      },
      "execution_count": 30,
      "outputs": [
        {
          "output_type": "display_data",
          "data": {
            "text/plain": [
              "<Figure size 1500x800 with 1 Axes>"
            ],
            "image/png": "[encoded data removed]"
          },
          "metadata": {}
        }
      ]
    },
    {
      "cell_type": "markdown",
      "source": [
        "Therefore, Random Forest has good result when compared to other algorithms."
      ],
      "metadata": {
        "id": "oh7eYJ6p4C4J"
      }
    },
    {
      "cell_type": "markdown",
      "source": [
        "## **VII. Prediction on New Data**"
      ],
      "metadata": {
        "id": "xs5dR2Sa8_U9"
      }
    },
    {
      "cell_type": "code",
      "source": [
        "new_data = pd.DataFrame({\n",
        "    'age':52,\n",
        "    'sex':1,\n",
        "    'cp':0,\n",
        "    'trestbps':125,\n",
        "    'chol':212,\n",
        "    'fbs':0,\n",
        "    'restecg':1,\n",
        "    'thalach':168,\n",
        "    'exang':0,\n",
        "    'oldpeak':1.0,\n",
        "     'slope':2,\n",
        "    'ca':2,\n",
        "    'thal':3,\n",
        "},index=[0])"
      ],
      "metadata": {
        "id": "gJTj7zBp8p1k"
      },
      "execution_count": 31,
      "outputs": []
    },
    {
      "cell_type": "code",
      "source": [
        "new_data"
      ],
      "metadata": {
        "colab": {
          "base_uri": "https://localhost:8080/",
          "height": 89
        },
        "id": "IyzvAejQ9Qec",
        "outputId": "5998f981-5fc8-403e-e3ba-68b5aebadc59"
      },
      "execution_count": 32,
      "outputs": [
        {
          "output_type": "execute_result",
          "data": {
            "text/plain": [
              "   age  sex  cp  trestbps  chol  fbs  restecg  thalach  exang  oldpeak  slope  \\\n",
              "0   52    1   0       125   212    0        1      168      0      1.0      2   \n",
              "\n",
              "   ca  thal  \n",
              "0   2     3  "
            ],
            "text/html": [
              "\n",
              "  <div id=\"df-00184335-a828-4341-af2e-1d3c9f0d7d97\" class=\"colab-df-container\">\n",
              "    <div>\n",
              "<style scoped>\n",
              "    .dataframe tbody tr th:only-of-type {\n",
              "        vertical-align: middle;\n",
              "    }\n",
              "\n",
              "    .dataframe tbody tr th {\n",
              "        vertical-align: top;\n",
              "    }\n",
              "\n",
              "    .dataframe thead th {\n",
              "        text-align: right;\n",
              "    }\n",
              "</style>\n",
              "<table border=\"1\" class=\"dataframe\">\n",
              "  <thead>\n",
              "    <tr style=\"text-align: right;\">\n",
              "      <th></th>\n",
              "      <th>age</th>\n",
              "      <th>sex</th>\n",
              "      <th>cp</th>\n",
              "      <th>trestbps</th>\n",
              "      <th>chol</th>\n",
              "      <th>fbs</th>\n",
              "      <th>restecg</th>\n",
              "      <th>thalach</th>\n",
              "      <th>exang</th>\n",
              "      <th>oldpeak</th>\n",
              "      <th>slope</th>\n",
              "      <th>ca</th>\n",
              "      <th>thal</th>\n",
              "    </tr>\n",
              "  </thead>\n",
              "  <tbody>\n",
              "    <tr>\n",
              "      <th>0</th>\n",
              "      <td>52</td>\n",
              "      <td>1</td>\n",
              "      <td>0</td>\n",
              "      <td>125</td>\n",
              "      <td>212</td>\n",
              "      <td>0</td>\n",
              "      <td>1</td>\n",
              "      <td>168</td>\n",
              "      <td>0</td>\n",
              "      <td>1.0</td>\n",
              "      <td>2</td>\n",
              "      <td>2</td>\n",
              "      <td>3</td>\n",
              "    </tr>\n",
              "  </tbody>\n",
              "</table>\n",
              "</div>\n",
              "    <div class=\"colab-df-buttons\">\n",
              "\n",
              "  <div class=\"colab-df-container\">\n",
              "    <button class=\"colab-df-convert\" onclick=\"convertToInteractive('df-00184335-a828-4341-af2e-1d3c9f0d7d97')\"\n",
              "            title=\"Convert this dataframe to an interactive table.\"\n",
              "            style=\"display:none;\">\n",
              "\n",
              "  <svg xmlns=\"http://www.w3.org/2000/svg\" height=\"24px\" viewBox=\"0 -960 960 960\">\n",
              "    <path d=\"M120-120v-720h720v720H120Zm60-500h600v-160H180v160Zm220 220h160v-160H400v160Zm0 220h160v-160H400v160ZM180-400h160v-160H180v160Zm440 0h160v-160H620v160ZM180-180h160v-160H180v160Zm440 0h160v-160H620v160Z\"/>\n",
              "  </svg>\n",
              "    </button>\n",
              "\n",
              "  <style>\n",
              "    .colab-df-container {\n",
              "      display:flex;\n",
              "      gap: 12px;\n",
              "    }\n",
              "\n",
              "    .colab-df-convert {\n",
              "      background-color: #E8F0FE;\n",
              "      border: none;\n",
              "      border-radius: 50%;\n",
              "      cursor: pointer;\n",
              "      display: none;\n",
              "      fill: #1967D2;\n",
              "      height: 32px;\n",
              "      padding: 0 0 0 0;\n",
              "      width: 32px;\n",
              "    }\n",
              "\n",
              "    .colab-df-convert:hover {\n",
              "      background-color: #E2EBFA;\n",
              "      box-shadow: 0px 1px 2px rgba(60, 64, 67, 0.3), 0px 1px 3px 1px rgba(60, 64, 67, 0.15);\n",
              "      fill: #174EA6;\n",
              "    }\n",
              "\n",
              "    .colab-df-buttons div {\n",
              "      margin-bottom: 4px;\n",
              "    }\n",
              "\n",
              "    [theme=dark] .colab-df-convert {\n",
              "      background-color: #3B4455;\n",
              "      fill: #D2E3FC;\n",
              "    }\n",
              "\n",
              "    [theme=dark] .colab-df-convert:hover {\n",
              "      background-color: #434B5C;\n",
              "      box-shadow: 0px 1px 3px 1px rgba(0, 0, 0, 0.15);\n",
              "      filter: drop-shadow(0px 1px 2px rgba(0, 0, 0, 0.3));\n",
              "      fill: #FFFFFF;\n",
              "    }\n",
              "  </style>\n",
              "\n",
              "    <script>\n",
              "      const buttonEl =\n",
              "        document.querySelector('#df-00184335-a828-4341-af2e-1d3c9f0d7d97 button.colab-df-convert');\n",
              "      buttonEl.style.display =\n",
              "        google.colab.kernel.accessAllowed ? 'block' : 'none';\n",
              "\n",
              "      async function convertToInteractive(key) {\n",
              "        const element = document.querySelector('#df-00184335-a828-4341-af2e-1d3c9f0d7d97');\n",
              "        const dataTable =\n",
              "          await google.colab.kernel.invokeFunction('convertToInteractive',\n",
              "                                                    [key], {});\n",
              "        if (!dataTable) return;\n",
              "\n",
              "        const docLinkHtml = 'Like what you see? Visit the ' +\n",
              "          '<a target=\"_blank\" href=https://colab.research.google.com/notebooks/data_table.ipynb>data table notebook</a>'\n",
              "          + ' to learn more about interactive tables.';\n",
              "        element.innerHTML = '';\n",
              "        dataTable['output_type'] = 'display_data';\n",
              "        await google.colab.output.renderOutput(dataTable, element);\n",
              "        const docLink = document.createElement('div');\n",
              "        docLink.innerHTML = docLinkHtml;\n",
              "        element.appendChild(docLink);\n",
              "      }\n",
              "    </script>\n",
              "  </div>\n",
              "\n",
              "\n",
              "  <div id=\"id_01badff0-0d9a-4858-806c-019a919d7fbe\">\n",
              "    <style>\n",
              "      .colab-df-generate {\n",
              "        background-color: #E8F0FE;\n",
              "        border: none;\n",
              "        border-radius: 50%;\n",
              "        cursor: pointer;\n",
              "        display: none;\n",
              "        fill: #1967D2;\n",
              "        height: 32px;\n",
              "        padding: 0 0 0 0;\n",
              "        width: 32px;\n",
              "      }\n",
              "\n",
              "      .colab-df-generate:hover {\n",
              "        background-color: #E2EBFA;\n",
              "        box-shadow: 0px 1px 2px rgba(60, 64, 67, 0.3), 0px 1px 3px 1px rgba(60, 64, 67, 0.15);\n",
              "        fill: #174EA6;\n",
              "      }\n",
              "\n",
              "      [theme=dark] .colab-df-generate {\n",
              "        background-color: #3B4455;\n",
              "        fill: #D2E3FC;\n",
              "      }\n",
              "\n",
              "      [theme=dark] .colab-df-generate:hover {\n",
              "        background-color: #434B5C;\n",
              "        box-shadow: 0px 1px 3px 1px rgba(0, 0, 0, 0.15);\n",
              "        filter: drop-shadow(0px 1px 2px rgba(0, 0, 0, 0.3));\n",
              "        fill: #FFFFFF;\n",
              "      }\n",
              "    </style>\n",
              "    <button class=\"colab-df-generate\" onclick=\"generateWithVariable('new_data')\"\n",
              "            title=\"Generate code using this dataframe.\"\n",
              "            style=\"display:none;\">\n",
              "\n",
              "  <svg xmlns=\"http://www.w3.org/2000/svg\" height=\"24px\"viewBox=\"0 0 24 24\"\n",
              "       width=\"24px\">\n",
              "    <path d=\"M7,19H8.4L18.45,9,17,7.55,7,17.6ZM5,21V16.75L18.45,3.32a2,2,0,0,1,2.83,0l1.4,1.43a1.91,1.91,0,0,1,.58,1.4,1.91,1.91,0,0,1-.58,1.4L9.25,21ZM18.45,9,17,7.55Zm-12,3A5.31,5.31,0,0,0,4.9,8.1,5.31,5.31,0,0,0,1,6.5,5.31,5.31,0,0,0,4.9,4.9,5.31,5.31,0,0,0,6.5,1,5.31,5.31,0,0,0,8.1,4.9,5.31,5.31,0,0,0,12,6.5,5.46,5.46,0,0,0,6.5,12Z\"/>\n",
              "  </svg>\n",
              "    </button>\n",
              "    <script>\n",
              "      (() => {\n",
              "      const buttonEl =\n",
              "        document.querySelector('#id_01badff0-0d9a-4858-806c-019a919d7fbe button.colab-df-generate');\n",
              "      buttonEl.style.display =\n",
              "        google.colab.kernel.accessAllowed ? 'block' : 'none';\n",
              "\n",
              "      buttonEl.onclick = () => {\n",
              "        google.colab.notebook.generateWithVariable('new_data');\n",
              "      }\n",
              "      })();\n",
              "    </script>\n",
              "  </div>\n",
              "\n",
              "    </div>\n",
              "  </div>\n"
            ]
          },
          "metadata": {},
          "execution_count": 32
        }
      ]
    },
    {
      "cell_type": "code",
      "source": [
        "p = rf.predict(new_data)\n",
        "if p[0]==0:\n",
        "  print(\"No Disease\")\n",
        "else:\n",
        "  print(\"Disease\")"
      ],
      "metadata": {
        "colab": {
          "base_uri": "https://localhost:8080/"
        },
        "id": "iJx0zBR78u9z",
        "outputId": "4bfc3f60-1f2b-46f5-e91d-50ec08830a9c"
      },
      "execution_count": 33,
      "outputs": [
        {
          "output_type": "stream",
          "name": "stdout",
          "text": [
            "No Disease\n"
          ]
        }
      ]
    },
    {
      "cell_type": "markdown",
      "source": [
        "## **VIII. Save Model Using Joblib**"
      ],
      "metadata": {
        "id": "IA6VHqmp9Vnu"
      }
    },
    {
      "cell_type": "code",
      "source": [
        "import joblib\n",
        "joblib.dump(rf,'trained_model.joblib')"
      ],
      "metadata": {
        "colab": {
          "base_uri": "https://localhost:8080/"
        },
        "id": "8CuQW3OL9d9f",
        "outputId": "f2a5b8cb-01dc-4b14-f305-7a1c7c0a5f82"
      },
      "execution_count": 34,
      "outputs": [
        {
          "output_type": "execute_result",
          "data": {
            "text/plain": [
              "['trained_model.joblib']"
            ]
          },
          "metadata": {},
          "execution_count": 34
        }
      ]
    },
    {
      "cell_type": "code",
      "source": [
        "from google.colab import files\n",
        "files.download('trained_model.joblib')"
      ],
      "metadata": {
        "colab": {
          "base_uri": "https://localhost:8080/",
          "height": 17
        },
        "id": "o2i_VgEXo3kk",
        "outputId": "a9dd9424-6e58-4edb-e448-4c0ebc7a5765"
      },
      "execution_count": 35,
      "outputs": [
        {
          "output_type": "display_data",
          "data": {
            "text/plain": [
              "<IPython.core.display.Javascript object>"
            ],
            "application/javascript": [
              "\n",
              "    async function download(id, filename, size) {\n",
              "      if (!google.colab.kernel.accessAllowed) {\n",
              "        return;\n",
              "      }\n",
              "      const div = document.createElement('div');\n",
              "      const label = document.createElement('label');\n",
              "      label.textContent = `Downloading \"${filename}\": `;\n",
              "      div.appendChild(label);\n",
              "      const progress = document.createElement('progress');\n",
              "      progress.max = size;\n",
              "      div.appendChild(progress);\n",
              "      document.body.appendChild(div);\n",
              "\n",
              "      const buffers = [];\n",
              "      let downloaded = 0;\n",
              "\n",
              "      const channel = await google.colab.kernel.comms.open(id);\n",
              "      // Send a message to notify the kernel that we're ready.\n",
              "      channel.send({})\n",
              "\n",
              "      for await (const message of channel.messages) {\n",
              "        // Send a message to notify the kernel that we're ready.\n",
              "        channel.send({})\n",
              "        if (message.buffers) {\n",
              "          for (const buffer of message.buffers) {\n",
              "            buffers.push(buffer);\n",
              "            downloaded += buffer.byteLength;\n",
              "            progress.value = downloaded;\n",
              "          }\n",
              "        }\n",
              "      }\n",
              "      const blob = new Blob(buffers, {type: 'application/binary'});\n",
              "      const a = document.createElement('a');\n",
              "      a.href = window.URL.createObjectURL(blob);\n",
              "      a.download = filename;\n",
              "      div.appendChild(a);\n",
              "      a.click();\n",
              "      div.remove();\n",
              "    }\n",
              "  "
            ]
          },
          "metadata": {}
        },
        {
          "output_type": "display_data",
          "data": {
            "text/plain": [
              "<IPython.core.display.Javascript object>"
            ],
            "application/javascript": [
              "download(\"download_1ba260b7-13e4-4e66-8f0b-1813b09050ee\", \"trained_model.joblib\", 658617)"
            ]
          },
          "metadata": {}
        }
      ]
    },
    {
      "cell_type": "markdown",
      "source": [
        "## **IX. GUI (Graphical User Interface)**"
      ],
      "metadata": {
        "id": "rbV_nTB-vPUm"
      }
    },
    {
      "cell_type": "code",
      "source": [
        "!pip install ipywidgets"
      ],
      "metadata": {
        "colab": {
          "base_uri": "https://localhost:8080/"
        },
        "id": "-Pi3xs3npDEw",
        "outputId": "8d4f9793-c78e-4d05-be98-2bfc11601be3"
      },
      "execution_count": 36,
      "outputs": [
        {
          "output_type": "stream",
          "name": "stdout",
          "text": [
            "Requirement already satisfied: ipywidgets in /usr/local/lib/python3.10/dist-packages (7.7.1)\n",
            "Requirement already satisfied: ipykernel>=4.5.1 in /usr/local/lib/python3.10/dist-packages (from ipywidgets) (5.5.6)\n",
            "Requirement already satisfied: ipython-genutils~=0.2.0 in /usr/local/lib/python3.10/dist-packages (from ipywidgets) (0.2.0)\n",
            "Requirement already satisfied: traitlets>=4.3.1 in /usr/local/lib/python3.10/dist-packages (from ipywidgets) (5.7.1)\n",
            "Requirement already satisfied: widgetsnbextension~=3.6.0 in /usr/local/lib/python3.10/dist-packages (from ipywidgets) (3.6.6)\n",
            "Requirement already satisfied: ipython>=4.0.0 in /usr/local/lib/python3.10/dist-packages (from ipywidgets) (7.34.0)\n",
            "Requirement already satisfied: jupyterlab-widgets>=1.0.0 in /usr/local/lib/python3.10/dist-packages (from ipywidgets) (3.0.9)\n",
            "Requirement already satisfied: jupyter-client in /usr/local/lib/python3.10/dist-packages (from ipykernel>=4.5.1->ipywidgets) (6.1.12)\n",
            "Requirement already satisfied: tornado>=4.2 in /usr/local/lib/python3.10/dist-packages (from ipykernel>=4.5.1->ipywidgets) (6.3.2)\n",
            "Requirement already satisfied: setuptools>=18.5 in /usr/local/lib/python3.10/dist-packages (from ipython>=4.0.0->ipywidgets) (67.7.2)\n",
            "Collecting jedi>=0.16 (from ipython>=4.0.0->ipywidgets)\n",
            "  Downloading jedi-0.19.1-py2.py3-none-any.whl (1.6 MB)\n",
            "\u001b[2K     \u001b[90m━━━━━━━━━━━━━━━━━━━━━━━━━━━━━━━━━━━━━━━━\u001b[0m \u001b[32m1.6/1.6 MB\u001b[0m \u001b[31m6.9 MB/s\u001b[0m eta \u001b[36m0:00:00\u001b[0m\n",
            "\u001b[?25hRequirement already satisfied: decorator in /usr/local/lib/python3.10/dist-packages (from ipython>=4.0.0->ipywidgets) (4.4.2)\n",
            "Requirement already satisfied: pickleshare in /usr/local/lib/python3.10/dist-packages (from ipython>=4.0.0->ipywidgets) (0.7.5)\n",
            "Requirement already satisfied: prompt-toolkit!=3.0.0,!=3.0.1,<3.1.0,>=2.0.0 in /usr/local/lib/python3.10/dist-packages (from ipython>=4.0.0->ipywidgets) (3.0.42)\n",
            "Requirement already satisfied: pygments in /usr/local/lib/python3.10/dist-packages (from ipython>=4.0.0->ipywidgets) (2.16.1)\n",
            "Requirement already satisfied: backcall in /usr/local/lib/python3.10/dist-packages (from ipython>=4.0.0->ipywidgets) (0.2.0)\n",
            "Requirement already satisfied: matplotlib-inline in /usr/local/lib/python3.10/dist-packages (from ipython>=4.0.0->ipywidgets) (0.1.6)\n",
            "Requirement already satisfied: pexpect>4.3 in /usr/local/lib/python3.10/dist-packages (from ipython>=4.0.0->ipywidgets) (4.9.0)\n",
            "Requirement already satisfied: notebook>=4.4.1 in /usr/local/lib/python3.10/dist-packages (from widgetsnbextension~=3.6.0->ipywidgets) (6.5.5)\n",
            "Requirement already satisfied: parso<0.9.0,>=0.8.3 in /usr/local/lib/python3.10/dist-packages (from jedi>=0.16->ipython>=4.0.0->ipywidgets) (0.8.3)\n",
            "Requirement already satisfied: jinja2 in /usr/local/lib/python3.10/dist-packages (from notebook>=4.4.1->widgetsnbextension~=3.6.0->ipywidgets) (3.1.2)\n",
            "Requirement already satisfied: pyzmq<25,>=17 in /usr/local/lib/python3.10/dist-packages (from notebook>=4.4.1->widgetsnbextension~=3.6.0->ipywidgets) (23.2.1)\n",
            "Requirement already satisfied: argon2-cffi in /usr/local/lib/python3.10/dist-packages (from notebook>=4.4.1->widgetsnbextension~=3.6.0->ipywidgets) (23.1.0)\n",
            "Requirement already satisfied: jupyter-core>=4.6.1 in /usr/local/lib/python3.10/dist-packages (from notebook>=4.4.1->widgetsnbextension~=3.6.0->ipywidgets) (5.5.0)\n",
            "Requirement already satisfied: nbformat in /usr/local/lib/python3.10/dist-packages (from notebook>=4.4.1->widgetsnbextension~=3.6.0->ipywidgets) (5.9.2)\n",
            "Requirement already satisfied: nbconvert>=5 in /usr/local/lib/python3.10/dist-packages (from notebook>=4.4.1->widgetsnbextension~=3.6.0->ipywidgets) (6.5.4)\n",
            "Requirement already satisfied: nest-asyncio>=1.5 in /usr/local/lib/python3.10/dist-packages (from notebook>=4.4.1->widgetsnbextension~=3.6.0->ipywidgets) (1.5.8)\n",
            "Requirement already satisfied: Send2Trash>=1.8.0 in /usr/local/lib/python3.10/dist-packages (from notebook>=4.4.1->widgetsnbextension~=3.6.0->ipywidgets) (1.8.2)\n",
            "Requirement already satisfied: terminado>=0.8.3 in /usr/local/lib/python3.10/dist-packages (from notebook>=4.4.1->widgetsnbextension~=3.6.0->ipywidgets) (0.18.0)\n",
            "Requirement already satisfied: prometheus-client in /usr/local/lib/python3.10/dist-packages (from notebook>=4.4.1->widgetsnbextension~=3.6.0->ipywidgets) (0.19.0)\n",
            "Requirement already satisfied: nbclassic>=0.4.7 in /usr/local/lib/python3.10/dist-packages (from notebook>=4.4.1->widgetsnbextension~=3.6.0->ipywidgets) (1.0.0)\n",
            "Requirement already satisfied: python-dateutil>=2.1 in /usr/local/lib/python3.10/dist-packages (from jupyter-client->ipykernel>=4.5.1->ipywidgets) (2.8.2)\n",
            "Requirement already satisfied: ptyprocess>=0.5 in /usr/local/lib/python3.10/dist-packages (from pexpect>4.3->ipython>=4.0.0->ipywidgets) (0.7.0)\n",
            "Requirement already satisfied: wcwidth in /usr/local/lib/python3.10/dist-packages (from prompt-toolkit!=3.0.0,!=3.0.1,<3.1.0,>=2.0.0->ipython>=4.0.0->ipywidgets) (0.2.12)\n",
            "Requirement already satisfied: platformdirs>=2.5 in /usr/local/lib/python3.10/dist-packages (from jupyter-core>=4.6.1->notebook>=4.4.1->widgetsnbextension~=3.6.0->ipywidgets) (4.1.0)\n",
            "Requirement already satisfied: jupyter-server>=1.8 in /usr/local/lib/python3.10/dist-packages (from nbclassic>=0.4.7->notebook>=4.4.1->widgetsnbextension~=3.6.0->ipywidgets) (1.24.0)\n",
            "Requirement already satisfied: notebook-shim>=0.2.3 in /usr/local/lib/python3.10/dist-packages (from nbclassic>=0.4.7->notebook>=4.4.1->widgetsnbextension~=3.6.0->ipywidgets) (0.2.3)\n",
            "Requirement already satisfied: lxml in /usr/local/lib/python3.10/dist-packages (from nbconvert>=5->notebook>=4.4.1->widgetsnbextension~=3.6.0->ipywidgets) (4.9.3)\n",
            "Requirement already satisfied: beautifulsoup4 in /usr/local/lib/python3.10/dist-packages (from nbconvert>=5->notebook>=4.4.1->widgetsnbextension~=3.6.0->ipywidgets) (4.11.2)\n",
            "Requirement already satisfied: bleach in /usr/local/lib/python3.10/dist-packages (from nbconvert>=5->notebook>=4.4.1->widgetsnbextension~=3.6.0->ipywidgets) (6.1.0)\n",
            "Requirement already satisfied: defusedxml in /usr/local/lib/python3.10/dist-packages (from nbconvert>=5->notebook>=4.4.1->widgetsnbextension~=3.6.0->ipywidgets) (0.7.1)\n",
            "Requirement already satisfied: entrypoints>=0.2.2 in /usr/local/lib/python3.10/dist-packages (from nbconvert>=5->notebook>=4.4.1->widgetsnbextension~=3.6.0->ipywidgets) (0.4)\n",
            "Requirement already satisfied: jupyterlab-pygments in /usr/local/lib/python3.10/dist-packages (from nbconvert>=5->notebook>=4.4.1->widgetsnbextension~=3.6.0->ipywidgets) (0.3.0)\n",
            "Requirement already satisfied: MarkupSafe>=2.0 in /usr/local/lib/python3.10/dist-packages (from nbconvert>=5->notebook>=4.4.1->widgetsnbextension~=3.6.0->ipywidgets) (2.1.3)\n",
            "Requirement already satisfied: mistune<2,>=0.8.1 in /usr/local/lib/python3.10/dist-packages (from nbconvert>=5->notebook>=4.4.1->widgetsnbextension~=3.6.0->ipywidgets) (0.8.4)\n",
            "Requirement already satisfied: nbclient>=0.5.0 in /usr/local/lib/python3.10/dist-packages (from nbconvert>=5->notebook>=4.4.1->widgetsnbextension~=3.6.0->ipywidgets) (0.9.0)\n",
            "Requirement already satisfied: packaging in /usr/local/lib/python3.10/dist-packages (from nbconvert>=5->notebook>=4.4.1->widgetsnbextension~=3.6.0->ipywidgets) (23.2)\n",
            "Requirement already satisfied: pandocfilters>=1.4.1 in /usr/local/lib/python3.10/dist-packages (from nbconvert>=5->notebook>=4.4.1->widgetsnbextension~=3.6.0->ipywidgets) (1.5.0)\n",
            "Requirement already satisfied: tinycss2 in /usr/local/lib/python3.10/dist-packages (from nbconvert>=5->notebook>=4.4.1->widgetsnbextension~=3.6.0->ipywidgets) (1.2.1)\n",
            "Requirement already satisfied: fastjsonschema in /usr/local/lib/python3.10/dist-packages (from nbformat->notebook>=4.4.1->widgetsnbextension~=3.6.0->ipywidgets) (2.19.0)\n",
            "Requirement already satisfied: jsonschema>=2.6 in /usr/local/lib/python3.10/dist-packages (from nbformat->notebook>=4.4.1->widgetsnbextension~=3.6.0->ipywidgets) (4.19.2)\n",
            "Requirement already satisfied: six>=1.5 in /usr/local/lib/python3.10/dist-packages (from python-dateutil>=2.1->jupyter-client->ipykernel>=4.5.1->ipywidgets) (1.16.0)\n",
            "Requirement already satisfied: argon2-cffi-bindings in /usr/local/lib/python3.10/dist-packages (from argon2-cffi->notebook>=4.4.1->widgetsnbextension~=3.6.0->ipywidgets) (21.2.0)\n",
            "Requirement already satisfied: attrs>=22.2.0 in /usr/local/lib/python3.10/dist-packages (from jsonschema>=2.6->nbformat->notebook>=4.4.1->widgetsnbextension~=3.6.0->ipywidgets) (23.1.0)\n",
            "Requirement already satisfied: jsonschema-specifications>=2023.03.6 in /usr/local/lib/python3.10/dist-packages (from jsonschema>=2.6->nbformat->notebook>=4.4.1->widgetsnbextension~=3.6.0->ipywidgets) (2023.11.2)\n",
            "Requirement already satisfied: referencing>=0.28.4 in /usr/local/lib/python3.10/dist-packages (from jsonschema>=2.6->nbformat->notebook>=4.4.1->widgetsnbextension~=3.6.0->ipywidgets) (0.32.0)\n",
            "Requirement already satisfied: rpds-py>=0.7.1 in /usr/local/lib/python3.10/dist-packages (from jsonschema>=2.6->nbformat->notebook>=4.4.1->widgetsnbextension~=3.6.0->ipywidgets) (0.13.2)\n",
            "Requirement already satisfied: anyio<4,>=3.1.0 in /usr/local/lib/python3.10/dist-packages (from jupyter-server>=1.8->nbclassic>=0.4.7->notebook>=4.4.1->widgetsnbextension~=3.6.0->ipywidgets) (3.7.1)\n",
            "Requirement already satisfied: websocket-client in /usr/local/lib/python3.10/dist-packages (from jupyter-server>=1.8->nbclassic>=0.4.7->notebook>=4.4.1->widgetsnbextension~=3.6.0->ipywidgets) (1.7.0)\n",
            "Requirement already satisfied: cffi>=1.0.1 in /usr/local/lib/python3.10/dist-packages (from argon2-cffi-bindings->argon2-cffi->notebook>=4.4.1->widgetsnbextension~=3.6.0->ipywidgets) (1.16.0)\n",
            "Requirement already satisfied: soupsieve>1.2 in /usr/local/lib/python3.10/dist-packages (from beautifulsoup4->nbconvert>=5->notebook>=4.4.1->widgetsnbextension~=3.6.0->ipywidgets) (2.5)\n",
            "Requirement already satisfied: webencodings in /usr/local/lib/python3.10/dist-packages (from bleach->nbconvert>=5->notebook>=4.4.1->widgetsnbextension~=3.6.0->ipywidgets) (0.5.1)\n",
            "Requirement already satisfied: idna>=2.8 in /usr/local/lib/python3.10/dist-packages (from anyio<4,>=3.1.0->jupyter-server>=1.8->nbclassic>=0.4.7->notebook>=4.4.1->widgetsnbextension~=3.6.0->ipywidgets) (3.6)\n",
            "Requirement already satisfied: sniffio>=1.1 in /usr/local/lib/python3.10/dist-packages (from anyio<4,>=3.1.0->jupyter-server>=1.8->nbclassic>=0.4.7->notebook>=4.4.1->widgetsnbextension~=3.6.0->ipywidgets) (1.3.0)\n",
            "Requirement already satisfied: exceptiongroup in /usr/local/lib/python3.10/dist-packages (from anyio<4,>=3.1.0->jupyter-server>=1.8->nbclassic>=0.4.7->notebook>=4.4.1->widgetsnbextension~=3.6.0->ipywidgets) (1.2.0)\n",
            "Requirement already satisfied: pycparser in /usr/local/lib/python3.10/dist-packages (from cffi>=1.0.1->argon2-cffi-bindings->argon2-cffi->notebook>=4.4.1->widgetsnbextension~=3.6.0->ipywidgets) (2.21)\n",
            "Installing collected packages: jedi\n",
            "Successfully installed jedi-0.19.1\n"
          ]
        }
      ]
    },
    {
      "cell_type": "code",
      "source": [
        "!pip install Ipython"
      ],
      "metadata": {
        "colab": {
          "base_uri": "https://localhost:8080/"
        },
        "id": "8KUXXXY5p5or",
        "outputId": "09b567f6-f59d-4bf5-9622-f69dad8cb2fd"
      },
      "execution_count": 39,
      "outputs": [
        {
          "output_type": "stream",
          "name": "stdout",
          "text": [
            "Requirement already satisfied: Ipython in /usr/local/lib/python3.10/dist-packages (7.34.0)\n",
            "Requirement already satisfied: setuptools>=18.5 in /usr/local/lib/python3.10/dist-packages (from Ipython) (67.7.2)\n",
            "Requirement already satisfied: jedi>=0.16 in /usr/local/lib/python3.10/dist-packages (from Ipython) (0.19.1)\n",
            "Requirement already satisfied: decorator in /usr/local/lib/python3.10/dist-packages (from Ipython) (4.4.2)\n",
            "Requirement already satisfied: pickleshare in /usr/local/lib/python3.10/dist-packages (from Ipython) (0.7.5)\n",
            "Requirement already satisfied: traitlets>=4.2 in /usr/local/lib/python3.10/dist-packages (from Ipython) (5.7.1)\n",
            "Requirement already satisfied: prompt-toolkit!=3.0.0,!=3.0.1,<3.1.0,>=2.0.0 in /usr/local/lib/python3.10/dist-packages (from Ipython) (3.0.42)\n",
            "Requirement already satisfied: pygments in /usr/local/lib/python3.10/dist-packages (from Ipython) (2.16.1)\n",
            "Requirement already satisfied: backcall in /usr/local/lib/python3.10/dist-packages (from Ipython) (0.2.0)\n",
            "Requirement already satisfied: matplotlib-inline in /usr/local/lib/python3.10/dist-packages (from Ipython) (0.1.6)\n",
            "Requirement already satisfied: pexpect>4.3 in /usr/local/lib/python3.10/dist-packages (from Ipython) (4.9.0)\n",
            "Requirement already satisfied: parso<0.9.0,>=0.8.3 in /usr/local/lib/python3.10/dist-packages (from jedi>=0.16->Ipython) (0.8.3)\n",
            "Requirement already satisfied: ptyprocess>=0.5 in /usr/local/lib/python3.10/dist-packages (from pexpect>4.3->Ipython) (0.7.0)\n",
            "Requirement already satisfied: wcwidth in /usr/local/lib/python3.10/dist-packages (from prompt-toolkit!=3.0.0,!=3.0.1,<3.1.0,>=2.0.0->Ipython) (0.2.12)\n"
          ]
        }
      ]
    },
    {
      "cell_type": "code",
      "source": [
        "import ipywidgets as widgets\n",
        "from IPython.display import display\n",
        "\n",
        "model = joblib.load('trained_model.joblib')\n",
        "\n",
        "def make_prediction(age, sex, cp, trestbps, chol, fbs, restecg, thalach, exang, oldpeak, slope, ca, thal):\n",
        "  input_data = [[age, sex, cp, trestbps, chol, fbs, restecg, thalach, exang, oldpeak, slope, ca, thal]]\n",
        "  prediction = model.predict(input_data)\n",
        "  if prediction[0] == 1:\n",
        "    result_label.value = \"Heart Disease Detected\"\n",
        "  else:\n",
        "    result_label.value = \"Heart Disease Not Detected\"\n",
        "\n",
        "age_input = widgets.FloatText(description='Age: ')\n",
        "sex_input = widgets.IntText(min=0, max=1, description='Sex: ')\n",
        "cp_input = widgets.IntText(min=1, max=4, description='Cerebral Palsy(CP): ')\n",
        "trestbps_input = widgets.FloatText(description='Resting Blood Pressure: ')\n",
        "chol_input = widgets.FloatText(description='Cholestrol: ')\n",
        "fbs_input = widgets.IntText(min=0, max=1, description='Fasting Blood SUgar: ')\n",
        "restecg_input = widgets.IntText(min=0, max=2, description='Resting ECG: ')\n",
        "thalach_input = widgets.FloatText(description='Max Heart Rate: ')\n",
        "exang_input = widgets.IntText(min=0, max=1, description='Exercise Induced Angina: ')\n",
        "oldpeak_input = widgets.FloatText(description='Oldpeak: ')\n",
        "slope_input = widgets.IntText(min=0, max=2, description='Slope: ')\n",
        "ca_input = widgets.IntText(min=0, max=3, description='Cardiac Arrest: ')\n",
        "thal_input = widgets.IntText(description='Thalassemia: ')\n",
        "\n",
        "result_label = widgets.Label(value=\"Prediction: \")\n",
        "widgets.interactive_output(\n",
        "    make_prediction,\n",
        "    {'age':age_input, 'sex': sex_input, 'cp': cp_input, 'trestbps': trestbps_input,\n",
        "     'chol': chol_input, 'fbs': fbs_input, 'restecg': restecg_input, 'thalach': thalach_input,\n",
        "     'exang': exang_input, 'oldpeak': oldpeak_input, 'slope': slope_input, 'ca': ca_input, 'thal': thal_input}\n",
        ")\n",
        "\n",
        "display(age_input, sex_input, cp_input, trestbps_input, chol_input, fbs_input, restecg_input, thalach_input, exang_input, oldpeak_input, slope_input,\n",
        "        ca_input, thal_input)\n",
        "display(result_label)\n"
      ],
      "metadata": {
        "id": "QTJMe4iIpIv3",
        "colab": {
          "base_uri": "https://localhost:8080/",
          "height": 439,
          "referenced_widgets": [
            "4f446b5f721841848c81c26034f9594e",
            "a9996cbe0b844ad78d043bda9c5efc9c",
            "ea1c1eff63414c058324be06e8c2a042",
            "64d58adcb413432b9805632d8153ee0a",
            "e8d878ba3e1e423880fd89a6d7186a97",
            "b37cbffe779c4692826b638d70d83354",
            "1b044ebe8c044806a90ff975c3e406fb",
            "512b16438f6445c1976c0574db62e7ae",
            "9f2281e2ac88441eb906ff1b26e27e1a",
            "854d2a5d83804c52b784c183c1d9abba",
            "ebdc45e3db1a4c178733e5a8dc1a915a",
            "33fa2a43a62b4aec9db10f140468104a",
            "e44cefd153db46a6b839517eb19c1833",
            "fb10de73b1cd4257a105e7e498054e88",
            "69e4498b477d4aba9093930a2e5fb024",
            "3a3ead703e8d4ad0928d41172246423e",
            "189ce8fed39f42c68573d9b7af8d517e",
            "2580ec331834463a88e0f1d9715b731d",
            "11a54f3388bc4a3ba1f8994c33c9ce6e",
            "8732ce8d24d94f9fa50f1ac6ba546bc8",
            "3dd1a741f00c4b6ca330d9bb14b999e7",
            "22dc09ebfc06446f9381cff452da124b",
            "767ea1123e1b4afe9d69708cfa482bc5",
            "4ed4d102609d4f618520d6afd0498bed",
            "fd93cc7a90be4e99b16328883ed7a199",
            "fde613eca12f489eb9f57f5b18e2988d",
            "10362ca06dac425a9d77c46ee794e02d",
            "6108484bf28e460aa5a273d60ff267e1",
            "a4fa52e487894d098e4834b479955d83",
            "419c187af2c94f678c1bc08835e0f962",
            "28fdc71b17ab4618921db7f921bcb47d",
            "adfcc4b817494ccba952c3280b75bc5a",
            "00ac0983cb4f4ac4adde5fc1e3617b13",
            "ba60aed52a7644d49e1cd781e71639ed",
            "114401ef07a44f21812278ea44ad2f4e",
            "e88c959caedd4683a830a4d78b7aaa23",
            "5d4859ee48c34ccdbf8664ec91029aff",
            "6562bce310e147afbeca43ecb297bc3c",
            "3563a286c61444f796e93825a9d89095",
            "533af828007249d2b31bf2c187a84775",
            "6109d2238256424ab31fdf2887822f6f",
            "6e140e6ee3b5450caa439df4d44968e8"
          ]
        },
        "outputId": "c52f183d-ee87-4823-ccba-711f75f65ec0"
      },
      "execution_count": 43,
      "outputs": [
        {
          "output_type": "display_data",
          "data": {
            "text/plain": [
              "FloatText(value=0.0, description='Age: ')"
            ],
            "application/vnd.jupyter.widget-view+json": {
              "version_major": 2,
              "version_minor": 0,
              "model_id": "4f446b5f721841848c81c26034f9594e"
            }
          },
          "metadata": {}
        },
        {
          "output_type": "display_data",
          "data": {
            "text/plain": [
              "IntText(value=0, description='Sex: ')"
            ],
            "application/vnd.jupyter.widget-view+json": {
              "version_major": 2,
              "version_minor": 0,
              "model_id": "64d58adcb413432b9805632d8153ee0a"
            }
          },
          "metadata": {}
        },
        {
          "output_type": "display_data",
          "data": {
            "text/plain": [
              "IntText(value=0, description='Cerebral Palsy(CP): ')"
            ],
            "application/vnd.jupyter.widget-view+json": {
              "version_major": 2,
              "version_minor": 0,
              "model_id": "1b044ebe8c044806a90ff975c3e406fb"
            }
          },
          "metadata": {}
        },
        {
          "output_type": "display_data",
          "data": {
            "text/plain": [
              "FloatText(value=0.0, description='Resting Blood Pressure: ')"
            ],
            "application/vnd.jupyter.widget-view+json": {
              "version_major": 2,
              "version_minor": 0,
              "model_id": "854d2a5d83804c52b784c183c1d9abba"
            }
          },
          "metadata": {}
        },
        {
          "output_type": "display_data",
          "data": {
            "text/plain": [
              "FloatText(value=0.0, description='Cholestrol: ')"
            ],
            "application/vnd.jupyter.widget-view+json": {
              "version_major": 2,
              "version_minor": 0,
              "model_id": "e44cefd153db46a6b839517eb19c1833"
            }
          },
          "metadata": {}
        },
        {
          "output_type": "display_data",
          "data": {
            "text/plain": [
              "IntText(value=0, description='Fasting Blood SUgar: ')"
            ],
            "application/vnd.jupyter.widget-view+json": {
              "version_major": 2,
              "version_minor": 0,
              "model_id": "3a3ead703e8d4ad0928d41172246423e"
            }
          },
          "metadata": {}
        },
        {
          "output_type": "display_data",
          "data": {
            "text/plain": [
              "IntText(value=0, description='Resting ECG: ')"
            ],
            "application/vnd.jupyter.widget-view+json": {
              "version_major": 2,
              "version_minor": 0,
              "model_id": "11a54f3388bc4a3ba1f8994c33c9ce6e"
            }
          },
          "metadata": {}
        },
        {
          "output_type": "display_data",
          "data": {
            "text/plain": [
              "FloatText(value=0.0, description='Max Heart Rate: ')"
            ],
            "application/vnd.jupyter.widget-view+json": {
              "version_major": 2,
              "version_minor": 0,
              "model_id": "22dc09ebfc06446f9381cff452da124b"
            }
          },
          "metadata": {}
        },
        {
          "output_type": "display_data",
          "data": {
            "text/plain": [
              "IntText(value=0, description='Exercise Induced Angina: ')"
            ],
            "application/vnd.jupyter.widget-view+json": {
              "version_major": 2,
              "version_minor": 0,
              "model_id": "fd93cc7a90be4e99b16328883ed7a199"
            }
          },
          "metadata": {}
        },
        {
          "output_type": "display_data",
          "data": {
            "text/plain": [
              "FloatText(value=0.0, description='Oldpeak: ')"
            ],
            "application/vnd.jupyter.widget-view+json": {
              "version_major": 2,
              "version_minor": 0,
              "model_id": "6108484bf28e460aa5a273d60ff267e1"
            }
          },
          "metadata": {}
        },
        {
          "output_type": "display_data",
          "data": {
            "text/plain": [
              "IntText(value=0, description='Slope: ')"
            ],
            "application/vnd.jupyter.widget-view+json": {
              "version_major": 2,
              "version_minor": 0,
              "model_id": "28fdc71b17ab4618921db7f921bcb47d"
            }
          },
          "metadata": {}
        },
        {
          "output_type": "display_data",
          "data": {
            "text/plain": [
              "IntText(value=0, description='Cardiac Arrest: ')"
            ],
            "application/vnd.jupyter.widget-view+json": {
              "version_major": 2,
              "version_minor": 0,
              "model_id": "ba60aed52a7644d49e1cd781e71639ed"
            }
          },
          "metadata": {}
        },
        {
          "output_type": "display_data",
          "data": {
            "text/plain": [
              "IntText(value=0, description='Thalassemia: ')"
            ],
            "application/vnd.jupyter.widget-view+json": {
              "version_major": 2,
              "version_minor": 0,
              "model_id": "5d4859ee48c34ccdbf8664ec91029aff"
            }
          },
          "metadata": {}
        },
        {
          "output_type": "display_data",
          "data": {
            "text/plain": [
              "Label(value='Heart Disease Detected')"
            ],
            "application/vnd.jupyter.widget-view+json": {
              "version_major": 2,
              "version_minor": 0,
              "model_id": "533af828007249d2b31bf2c187a84775"
            }
          },
          "metadata": {}
        }
      ]
    }
  ]
}