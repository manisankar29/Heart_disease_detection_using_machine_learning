{
  "cells": [
    {
      "cell_type": "markdown",
      "metadata": {
        "id": "view-in-github",
        "colab_type": "text"
      },
      "source": [
        "<a href=\"https://colab.research.google.com/github/manisankar29/Heart_disease_detection_using_machine_learning/blob/main/Heart_disease_detection.ipynb\" target=\"_parent\"><img src=\"https://colab.research.google.com/assets/colab-badge.svg\" alt=\"Open In Colab\"/></a>"
      ]
    },
    {
      "cell_type": "markdown",
      "metadata": {
        "id": "x40r_1z97YAK"
      },
      "source": [
        "# **HEART DISEASE DETECTION**"
      ]
    },
    {
      "cell_type": "markdown",
      "metadata": {
        "id": "p_xwyvJJ7kX7"
      },
      "source": [
        "## **I. Importing required libraries**"
      ]
    },
    {
      "cell_type": "code",
      "execution_count": 9,
      "metadata": {
        "id": "NShGoQW48Gp5",
        "colab": {
          "base_uri": "https://localhost:8080/"
        },
        "outputId": "7d902c2f-f42a-4884-e12d-e5ae814a81fb"
      },
      "outputs": [
        {
          "output_type": "stream",
          "name": "stdout",
          "text": [
            "['.config', 'drive', 'heart.csv', 'sample_data']\n"
          ]
        }
      ],
      "source": [
        "import numpy as np\n",
        "import pandas as pd\n",
        "import matplotlib.pyplot as plt\n",
        "import seaborn as sns\n",
        "import os\n",
        "import warnings\n",
        "%matplotlib inline\n",
        "print(os.listdir())\n",
        "warnings.filterwarnings('ignore')"
      ]
    },
    {
      "cell_type": "markdown",
      "metadata": {
        "id": "OOvctzm98ftV"
      },
      "source": [
        "## **II. Importing and understanding the dataset**"
      ]
    },
    {
      "cell_type": "code",
      "execution_count": 10,
      "metadata": {
        "id": "0Ln8_Obm8rsg"
      },
      "outputs": [],
      "source": [
        "data = pd.read_csv(\"/content/heart.csv\")"
      ]
    },
    {
      "cell_type": "markdown",
      "metadata": {
        "id": "W95oBy4b8z6w"
      },
      "source": [
        "### Verifying whether it is a 'dataframe' object in pandas or not"
      ]
    },
    {
      "cell_type": "code",
      "execution_count": 11,
      "metadata": {
        "id": "24-_wVXF9Pvq",
        "colab": {
          "base_uri": "https://localhost:8080/",
          "height": 203
        },
        "outputId": "596f992a-af4f-4ade-a11c-5c7c645cabe2"
      },
      "outputs": [
        {
          "output_type": "execute_result",
          "data": {
            "text/plain": [
              "pandas.core.frame.DataFrame"
            ],
            "text/html": [
              "<div style=\"max-width:800px; border: 1px solid var(--colab-border-color);\"><style>\n",
              "      pre.function-repr-contents {\n",
              "        overflow-x: auto;\n",
              "        padding: 8px 12px;\n",
              "        max-height: 500px;\n",
              "      }\n",
              "\n",
              "      pre.function-repr-contents.function-repr-contents-collapsed {\n",
              "        cursor: pointer;\n",
              "        max-height: 100px;\n",
              "      }\n",
              "    </style>\n",
              "    <pre style=\"white-space: initial; background:\n",
              "         var(--colab-secondary-surface-color); padding: 8px 12px;\n",
              "         border-bottom: 1px solid var(--colab-border-color);\"><b>pandas.core.frame.DataFrame</b><br/>def __init__(data=None, index: Axes | None=None, columns: Axes | None=None, dtype: Dtype | None=None, copy: bool | None=None) -&gt; None</pre><pre class=\"function-repr-contents function-repr-contents-collapsed\" style=\"\"><a class=\"filepath\" style=\"display:none\" href=\"#\">/usr/local/lib/python3.10/dist-packages/pandas/core/frame.py</a>Two-dimensional, size-mutable, potentially heterogeneous tabular data.\n",
              "\n",
              "Data structure also contains labeled axes (rows and columns).\n",
              "Arithmetic operations align on both row and column labels. Can be\n",
              "thought of as a dict-like container for Series objects. The primary\n",
              "pandas data structure.\n",
              "\n",
              "Parameters\n",
              "----------\n",
              "data : ndarray (structured or homogeneous), Iterable, dict, or DataFrame\n",
              "    Dict can contain Series, arrays, constants, dataclass or list-like objects. If\n",
              "    data is a dict, column order follows insertion-order. If a dict contains Series\n",
              "    which have an index defined, it is aligned by its index. This alignment also\n",
              "    occurs if data is a Series or a DataFrame itself. Alignment is done on\n",
              "    Series/DataFrame inputs.\n",
              "\n",
              "    If data is a list of dicts, column order follows insertion-order.\n",
              "\n",
              "index : Index or array-like\n",
              "    Index to use for resulting frame. Will default to RangeIndex if\n",
              "    no indexing information part of input data and no index provided.\n",
              "columns : Index or array-like\n",
              "    Column labels to use for resulting frame when data does not have them,\n",
              "    defaulting to RangeIndex(0, 1, 2, ..., n). If data contains column labels,\n",
              "    will perform column selection instead.\n",
              "dtype : dtype, default None\n",
              "    Data type to force. Only a single dtype is allowed. If None, infer.\n",
              "copy : bool or None, default None\n",
              "    Copy data from inputs.\n",
              "    For dict data, the default of None behaves like ``copy=True``.  For DataFrame\n",
              "    or 2d ndarray input, the default of None behaves like ``copy=False``.\n",
              "    If data is a dict containing one or more Series (possibly of different dtypes),\n",
              "    ``copy=False`` will ensure that these inputs are not copied.\n",
              "\n",
              "    .. versionchanged:: 1.3.0\n",
              "\n",
              "See Also\n",
              "--------\n",
              "DataFrame.from_records : Constructor from tuples, also record arrays.\n",
              "DataFrame.from_dict : From dicts of Series, arrays, or dicts.\n",
              "read_csv : Read a comma-separated values (csv) file into DataFrame.\n",
              "read_table : Read general delimited file into DataFrame.\n",
              "read_clipboard : Read text from clipboard into DataFrame.\n",
              "\n",
              "Notes\n",
              "-----\n",
              "Please reference the :ref:`User Guide &lt;basics.dataframe&gt;` for more information.\n",
              "\n",
              "Examples\n",
              "--------\n",
              "Constructing DataFrame from a dictionary.\n",
              "\n",
              "&gt;&gt;&gt; d = {&#x27;col1&#x27;: [1, 2], &#x27;col2&#x27;: [3, 4]}\n",
              "&gt;&gt;&gt; df = pd.DataFrame(data=d)\n",
              "&gt;&gt;&gt; df\n",
              "   col1  col2\n",
              "0     1     3\n",
              "1     2     4\n",
              "\n",
              "Notice that the inferred dtype is int64.\n",
              "\n",
              "&gt;&gt;&gt; df.dtypes\n",
              "col1    int64\n",
              "col2    int64\n",
              "dtype: object\n",
              "\n",
              "To enforce a single dtype:\n",
              "\n",
              "&gt;&gt;&gt; df = pd.DataFrame(data=d, dtype=np.int8)\n",
              "&gt;&gt;&gt; df.dtypes\n",
              "col1    int8\n",
              "col2    int8\n",
              "dtype: object\n",
              "\n",
              "Constructing DataFrame from a dictionary including Series:\n",
              "\n",
              "&gt;&gt;&gt; d = {&#x27;col1&#x27;: [0, 1, 2, 3], &#x27;col2&#x27;: pd.Series([2, 3], index=[2, 3])}\n",
              "&gt;&gt;&gt; pd.DataFrame(data=d, index=[0, 1, 2, 3])\n",
              "   col1  col2\n",
              "0     0   NaN\n",
              "1     1   NaN\n",
              "2     2   2.0\n",
              "3     3   3.0\n",
              "\n",
              "Constructing DataFrame from numpy ndarray:\n",
              "\n",
              "&gt;&gt;&gt; df2 = pd.DataFrame(np.array([[1, 2, 3], [4, 5, 6], [7, 8, 9]]),\n",
              "...                    columns=[&#x27;a&#x27;, &#x27;b&#x27;, &#x27;c&#x27;])\n",
              "&gt;&gt;&gt; df2\n",
              "   a  b  c\n",
              "0  1  2  3\n",
              "1  4  5  6\n",
              "2  7  8  9\n",
              "\n",
              "Constructing DataFrame from a numpy ndarray that has labeled columns:\n",
              "\n",
              "&gt;&gt;&gt; data = np.array([(1, 2, 3), (4, 5, 6), (7, 8, 9)],\n",
              "...                 dtype=[(&quot;a&quot;, &quot;i4&quot;), (&quot;b&quot;, &quot;i4&quot;), (&quot;c&quot;, &quot;i4&quot;)])\n",
              "&gt;&gt;&gt; df3 = pd.DataFrame(data, columns=[&#x27;c&#x27;, &#x27;a&#x27;])\n",
              "...\n",
              "&gt;&gt;&gt; df3\n",
              "   c  a\n",
              "0  3  1\n",
              "1  6  4\n",
              "2  9  7\n",
              "\n",
              "Constructing DataFrame from dataclass:\n",
              "\n",
              "&gt;&gt;&gt; from dataclasses import make_dataclass\n",
              "&gt;&gt;&gt; Point = make_dataclass(&quot;Point&quot;, [(&quot;x&quot;, int), (&quot;y&quot;, int)])\n",
              "&gt;&gt;&gt; pd.DataFrame([Point(0, 0), Point(0, 3), Point(2, 3)])\n",
              "   x  y\n",
              "0  0  0\n",
              "1  0  3\n",
              "2  2  3\n",
              "\n",
              "Constructing DataFrame from Series/DataFrame:\n",
              "\n",
              "&gt;&gt;&gt; ser = pd.Series([1, 2, 3], index=[&quot;a&quot;, &quot;b&quot;, &quot;c&quot;])\n",
              "&gt;&gt;&gt; df = pd.DataFrame(data=ser, index=[&quot;a&quot;, &quot;c&quot;])\n",
              "&gt;&gt;&gt; df\n",
              "   0\n",
              "a  1\n",
              "c  3\n",
              "\n",
              "&gt;&gt;&gt; df1 = pd.DataFrame([1, 2, 3], index=[&quot;a&quot;, &quot;b&quot;, &quot;c&quot;], columns=[&quot;x&quot;])\n",
              "&gt;&gt;&gt; df2 = pd.DataFrame(data=df1, index=[&quot;a&quot;, &quot;c&quot;])\n",
              "&gt;&gt;&gt; df2\n",
              "   x\n",
              "a  1\n",
              "c  3</pre>\n",
              "      <script>\n",
              "      if (google.colab.kernel.accessAllowed && google.colab.files && google.colab.files.view) {\n",
              "        for (const element of document.querySelectorAll('.filepath')) {\n",
              "          element.style.display = 'block'\n",
              "          element.onclick = (event) => {\n",
              "            event.preventDefault();\n",
              "            event.stopPropagation();\n",
              "            google.colab.files.view(element.textContent, 490);\n",
              "          };\n",
              "        }\n",
              "      }\n",
              "      for (const element of document.querySelectorAll('.function-repr-contents')) {\n",
              "        element.onclick = (event) => {\n",
              "          event.preventDefault();\n",
              "          event.stopPropagation();\n",
              "          element.classList.toggle('function-repr-contents-collapsed');\n",
              "        };\n",
              "      }\n",
              "      </script>\n",
              "      </div>"
            ]
          },
          "metadata": {},
          "execution_count": 11
        }
      ],
      "source": [
        "type(data)"
      ]
    },
    {
      "cell_type": "markdown",
      "metadata": {
        "id": "DnjzACzE97DU"
      },
      "source": [
        "### Shape of dataset"
      ]
    },
    {
      "cell_type": "code",
      "execution_count": 12,
      "metadata": {
        "id": "I9PaaIuA-KAl",
        "colab": {
          "base_uri": "https://localhost:8080/"
        },
        "outputId": "7b3e6c62-c54c-412b-c652-7b8c3d3389ab"
      },
      "outputs": [
        {
          "output_type": "execute_result",
          "data": {
            "text/plain": [
              "(303, 14)"
            ]
          },
          "metadata": {},
          "execution_count": 12
        }
      ],
      "source": [
        "data.shape"
      ]
    },
    {
      "cell_type": "markdown",
      "metadata": {
        "id": "MD9v1XaV-R8p"
      },
      "source": [
        "### Printing out a few columns"
      ]
    },
    {
      "cell_type": "code",
      "execution_count": 13,
      "metadata": {
        "id": "EbfYRAwO-QjG",
        "colab": {
          "base_uri": "https://localhost:8080/",
          "height": 206
        },
        "outputId": "ea44aad4-64c2-42a4-ce12-33bd34b03627"
      },
      "outputs": [
        {
          "output_type": "execute_result",
          "data": {
            "text/plain": [
              "   age  sex  cp  trestbps  chol  fbs  restecg  thalach  exang  oldpeak  slope  \\\n",
              "0   63    1   3       145   233    1        0      150      0      2.3      0   \n",
              "1   37    1   2       130   250    0        1      187      0      3.5      0   \n",
              "2   41    0   1       130   204    0        0      172      0      1.4      2   \n",
              "3   56    1   1       120   236    0        1      178      0      0.8      2   \n",
              "4   57    0   0       120   354    0        1      163      1      0.6      2   \n",
              "\n",
              "   ca  thal  target  \n",
              "0   0     1       1  \n",
              "1   0     2       1  \n",
              "2   0     2       1  \n",
              "3   0     2       1  \n",
              "4   0     2       1  "
            ],
            "text/html": [
              "\n",
              "  <div id=\"df-c05fcfc2-6454-4a28-bfaf-0a9a5907f6f9\" class=\"colab-df-container\">\n",
              "    <div>\n",
              "<style scoped>\n",
              "    .dataframe tbody tr th:only-of-type {\n",
              "        vertical-align: middle;\n",
              "    }\n",
              "\n",
              "    .dataframe tbody tr th {\n",
              "        vertical-align: top;\n",
              "    }\n",
              "\n",
              "    .dataframe thead th {\n",
              "        text-align: right;\n",
              "    }\n",
              "</style>\n",
              "<table border=\"1\" class=\"dataframe\">\n",
              "  <thead>\n",
              "    <tr style=\"text-align: right;\">\n",
              "      <th></th>\n",
              "      <th>age</th>\n",
              "      <th>sex</th>\n",
              "      <th>cp</th>\n",
              "      <th>trestbps</th>\n",
              "      <th>chol</th>\n",
              "      <th>fbs</th>\n",
              "      <th>restecg</th>\n",
              "      <th>thalach</th>\n",
              "      <th>exang</th>\n",
              "      <th>oldpeak</th>\n",
              "      <th>slope</th>\n",
              "      <th>ca</th>\n",
              "      <th>thal</th>\n",
              "      <th>target</th>\n",
              "    </tr>\n",
              "  </thead>\n",
              "  <tbody>\n",
              "    <tr>\n",
              "      <th>0</th>\n",
              "      <td>63</td>\n",
              "      <td>1</td>\n",
              "      <td>3</td>\n",
              "      <td>145</td>\n",
              "      <td>233</td>\n",
              "      <td>1</td>\n",
              "      <td>0</td>\n",
              "      <td>150</td>\n",
              "      <td>0</td>\n",
              "      <td>2.3</td>\n",
              "      <td>0</td>\n",
              "      <td>0</td>\n",
              "      <td>1</td>\n",
              "      <td>1</td>\n",
              "    </tr>\n",
              "    <tr>\n",
              "      <th>1</th>\n",
              "      <td>37</td>\n",
              "      <td>1</td>\n",
              "      <td>2</td>\n",
              "      <td>130</td>\n",
              "      <td>250</td>\n",
              "      <td>0</td>\n",
              "      <td>1</td>\n",
              "      <td>187</td>\n",
              "      <td>0</td>\n",
              "      <td>3.5</td>\n",
              "      <td>0</td>\n",
              "      <td>0</td>\n",
              "      <td>2</td>\n",
              "      <td>1</td>\n",
              "    </tr>\n",
              "    <tr>\n",
              "      <th>2</th>\n",
              "      <td>41</td>\n",
              "      <td>0</td>\n",
              "      <td>1</td>\n",
              "      <td>130</td>\n",
              "      <td>204</td>\n",
              "      <td>0</td>\n",
              "      <td>0</td>\n",
              "      <td>172</td>\n",
              "      <td>0</td>\n",
              "      <td>1.4</td>\n",
              "      <td>2</td>\n",
              "      <td>0</td>\n",
              "      <td>2</td>\n",
              "      <td>1</td>\n",
              "    </tr>\n",
              "    <tr>\n",
              "      <th>3</th>\n",
              "      <td>56</td>\n",
              "      <td>1</td>\n",
              "      <td>1</td>\n",
              "      <td>120</td>\n",
              "      <td>236</td>\n",
              "      <td>0</td>\n",
              "      <td>1</td>\n",
              "      <td>178</td>\n",
              "      <td>0</td>\n",
              "      <td>0.8</td>\n",
              "      <td>2</td>\n",
              "      <td>0</td>\n",
              "      <td>2</td>\n",
              "      <td>1</td>\n",
              "    </tr>\n",
              "    <tr>\n",
              "      <th>4</th>\n",
              "      <td>57</td>\n",
              "      <td>0</td>\n",
              "      <td>0</td>\n",
              "      <td>120</td>\n",
              "      <td>354</td>\n",
              "      <td>0</td>\n",
              "      <td>1</td>\n",
              "      <td>163</td>\n",
              "      <td>1</td>\n",
              "      <td>0.6</td>\n",
              "      <td>2</td>\n",
              "      <td>0</td>\n",
              "      <td>2</td>\n",
              "      <td>1</td>\n",
              "    </tr>\n",
              "  </tbody>\n",
              "</table>\n",
              "</div>\n",
              "    <div class=\"colab-df-buttons\">\n",
              "\n",
              "  <div class=\"colab-df-container\">\n",
              "    <button class=\"colab-df-convert\" onclick=\"convertToInteractive('df-c05fcfc2-6454-4a28-bfaf-0a9a5907f6f9')\"\n",
              "            title=\"Convert this dataframe to an interactive table.\"\n",
              "            style=\"display:none;\">\n",
              "\n",
              "  <svg xmlns=\"http://www.w3.org/2000/svg\" height=\"24px\" viewBox=\"0 -960 960 960\">\n",
              "    <path d=\"M120-120v-720h720v720H120Zm60-500h600v-160H180v160Zm220 220h160v-160H400v160Zm0 220h160v-160H400v160ZM180-400h160v-160H180v160Zm440 0h160v-160H620v160ZM180-180h160v-160H180v160Zm440 0h160v-160H620v160Z\"/>\n",
              "  </svg>\n",
              "    </button>\n",
              "\n",
              "  <style>\n",
              "    .colab-df-container {\n",
              "      display:flex;\n",
              "      gap: 12px;\n",
              "    }\n",
              "\n",
              "    .colab-df-convert {\n",
              "      background-color: #E8F0FE;\n",
              "      border: none;\n",
              "      border-radius: 50%;\n",
              "      cursor: pointer;\n",
              "      display: none;\n",
              "      fill: #1967D2;\n",
              "      height: 32px;\n",
              "      padding: 0 0 0 0;\n",
              "      width: 32px;\n",
              "    }\n",
              "\n",
              "    .colab-df-convert:hover {\n",
              "      background-color: #E2EBFA;\n",
              "      box-shadow: 0px 1px 2px rgba(60, 64, 67, 0.3), 0px 1px 3px 1px rgba(60, 64, 67, 0.15);\n",
              "      fill: #174EA6;\n",
              "    }\n",
              "\n",
              "    .colab-df-buttons div {\n",
              "      margin-bottom: 4px;\n",
              "    }\n",
              "\n",
              "    [theme=dark] .colab-df-convert {\n",
              "      background-color: #3B4455;\n",
              "      fill: #D2E3FC;\n",
              "    }\n",
              "\n",
              "    [theme=dark] .colab-df-convert:hover {\n",
              "      background-color: #434B5C;\n",
              "      box-shadow: 0px 1px 3px 1px rgba(0, 0, 0, 0.15);\n",
              "      filter: drop-shadow(0px 1px 2px rgba(0, 0, 0, 0.3));\n",
              "      fill: #FFFFFF;\n",
              "    }\n",
              "  </style>\n",
              "\n",
              "    <script>\n",
              "      const buttonEl =\n",
              "        document.querySelector('#df-c05fcfc2-6454-4a28-bfaf-0a9a5907f6f9 button.colab-df-convert');\n",
              "      buttonEl.style.display =\n",
              "        google.colab.kernel.accessAllowed ? 'block' : 'none';\n",
              "\n",
              "      async function convertToInteractive(key) {\n",
              "        const element = document.querySelector('#df-c05fcfc2-6454-4a28-bfaf-0a9a5907f6f9');\n",
              "        const dataTable =\n",
              "          await google.colab.kernel.invokeFunction('convertToInteractive',\n",
              "                                                    [key], {});\n",
              "        if (!dataTable) return;\n",
              "\n",
              "        const docLinkHtml = 'Like what you see? Visit the ' +\n",
              "          '<a target=\"_blank\" href=https://colab.research.google.com/notebooks/data_table.ipynb>data table notebook</a>'\n",
              "          + ' to learn more about interactive tables.';\n",
              "        element.innerHTML = '';\n",
              "        dataTable['output_type'] = 'display_data';\n",
              "        await google.colab.output.renderOutput(dataTable, element);\n",
              "        const docLink = document.createElement('div');\n",
              "        docLink.innerHTML = docLinkHtml;\n",
              "        element.appendChild(docLink);\n",
              "      }\n",
              "    </script>\n",
              "  </div>\n",
              "\n",
              "\n",
              "<div id=\"df-c707ecdf-904f-4708-a4e3-86f3dd42d678\">\n",
              "  <button class=\"colab-df-quickchart\" onclick=\"quickchart('df-c707ecdf-904f-4708-a4e3-86f3dd42d678')\"\n",
              "            title=\"Suggest charts\"\n",
              "            style=\"display:none;\">\n",
              "\n",
              "<svg xmlns=\"http://www.w3.org/2000/svg\" height=\"24px\"viewBox=\"0 0 24 24\"\n",
              "     width=\"24px\">\n",
              "    <g>\n",
              "        <path d=\"M19 3H5c-1.1 0-2 .9-2 2v14c0 1.1.9 2 2 2h14c1.1 0 2-.9 2-2V5c0-1.1-.9-2-2-2zM9 17H7v-7h2v7zm4 0h-2V7h2v10zm4 0h-2v-4h2v4z\"/>\n",
              "    </g>\n",
              "</svg>\n",
              "  </button>\n",
              "\n",
              "<style>\n",
              "  .colab-df-quickchart {\n",
              "      --bg-color: #E8F0FE;\n",
              "      --fill-color: #1967D2;\n",
              "      --hover-bg-color: #E2EBFA;\n",
              "      --hover-fill-color: #174EA6;\n",
              "      --disabled-fill-color: #AAA;\n",
              "      --disabled-bg-color: #DDD;\n",
              "  }\n",
              "\n",
              "  [theme=dark] .colab-df-quickchart {\n",
              "      --bg-color: #3B4455;\n",
              "      --fill-color: #D2E3FC;\n",
              "      --hover-bg-color: #434B5C;\n",
              "      --hover-fill-color: #FFFFFF;\n",
              "      --disabled-bg-color: #3B4455;\n",
              "      --disabled-fill-color: #666;\n",
              "  }\n",
              "\n",
              "  .colab-df-quickchart {\n",
              "    background-color: var(--bg-color);\n",
              "    border: none;\n",
              "    border-radius: 50%;\n",
              "    cursor: pointer;\n",
              "    display: none;\n",
              "    fill: var(--fill-color);\n",
              "    height: 32px;\n",
              "    padding: 0;\n",
              "    width: 32px;\n",
              "  }\n",
              "\n",
              "  .colab-df-quickchart:hover {\n",
              "    background-color: var(--hover-bg-color);\n",
              "    box-shadow: 0 1px 2px rgba(60, 64, 67, 0.3), 0 1px 3px 1px rgba(60, 64, 67, 0.15);\n",
              "    fill: var(--button-hover-fill-color);\n",
              "  }\n",
              "\n",
              "  .colab-df-quickchart-complete:disabled,\n",
              "  .colab-df-quickchart-complete:disabled:hover {\n",
              "    background-color: var(--disabled-bg-color);\n",
              "    fill: var(--disabled-fill-color);\n",
              "    box-shadow: none;\n",
              "  }\n",
              "\n",
              "  .colab-df-spinner {\n",
              "    border: 2px solid var(--fill-color);\n",
              "    border-color: transparent;\n",
              "    border-bottom-color: var(--fill-color);\n",
              "    animation:\n",
              "      spin 1s steps(1) infinite;\n",
              "  }\n",
              "\n",
              "  @keyframes spin {\n",
              "    0% {\n",
              "      border-color: transparent;\n",
              "      border-bottom-color: var(--fill-color);\n",
              "      border-left-color: var(--fill-color);\n",
              "    }\n",
              "    20% {\n",
              "      border-color: transparent;\n",
              "      border-left-color: var(--fill-color);\n",
              "      border-top-color: var(--fill-color);\n",
              "    }\n",
              "    30% {\n",
              "      border-color: transparent;\n",
              "      border-left-color: var(--fill-color);\n",
              "      border-top-color: var(--fill-color);\n",
              "      border-right-color: var(--fill-color);\n",
              "    }\n",
              "    40% {\n",
              "      border-color: transparent;\n",
              "      border-right-color: var(--fill-color);\n",
              "      border-top-color: var(--fill-color);\n",
              "    }\n",
              "    60% {\n",
              "      border-color: transparent;\n",
              "      border-right-color: var(--fill-color);\n",
              "    }\n",
              "    80% {\n",
              "      border-color: transparent;\n",
              "      border-right-color: var(--fill-color);\n",
              "      border-bottom-color: var(--fill-color);\n",
              "    }\n",
              "    90% {\n",
              "      border-color: transparent;\n",
              "      border-bottom-color: var(--fill-color);\n",
              "    }\n",
              "  }\n",
              "</style>\n",
              "\n",
              "  <script>\n",
              "    async function quickchart(key) {\n",
              "      const quickchartButtonEl =\n",
              "        document.querySelector('#' + key + ' button');\n",
              "      quickchartButtonEl.disabled = true;  // To prevent multiple clicks.\n",
              "      quickchartButtonEl.classList.add('colab-df-spinner');\n",
              "      try {\n",
              "        const charts = await google.colab.kernel.invokeFunction(\n",
              "            'suggestCharts', [key], {});\n",
              "      } catch (error) {\n",
              "        console.error('Error during call to suggestCharts:', error);\n",
              "      }\n",
              "      quickchartButtonEl.classList.remove('colab-df-spinner');\n",
              "      quickchartButtonEl.classList.add('colab-df-quickchart-complete');\n",
              "    }\n",
              "    (() => {\n",
              "      let quickchartButtonEl =\n",
              "        document.querySelector('#df-c707ecdf-904f-4708-a4e3-86f3dd42d678 button');\n",
              "      quickchartButtonEl.style.display =\n",
              "        google.colab.kernel.accessAllowed ? 'block' : 'none';\n",
              "    })();\n",
              "  </script>\n",
              "</div>\n",
              "\n",
              "    </div>\n",
              "  </div>\n"
            ],
            "application/vnd.google.colaboratory.intrinsic+json": {
              "type": "dataframe",
              "variable_name": "data",
              "summary": "{\n  \"name\": \"data\",\n  \"rows\": 303,\n  \"fields\": [\n    {\n      \"column\": \"age\",\n      \"properties\": {\n        \"dtype\": \"number\",\n        \"std\": 9,\n        \"min\": 29,\n        \"max\": 77,\n        \"num_unique_values\": 41,\n        \"samples\": [\n          46,\n          66,\n          48\n        ],\n        \"semantic_type\": \"\",\n        \"description\": \"\"\n      }\n    },\n    {\n      \"column\": \"sex\",\n      \"properties\": {\n        \"dtype\": \"number\",\n        \"std\": 0,\n        \"min\": 0,\n        \"max\": 1,\n        \"num_unique_values\": 2,\n        \"samples\": [\n          0,\n          1\n        ],\n        \"semantic_type\": \"\",\n        \"description\": \"\"\n      }\n    },\n    {\n      \"column\": \"cp\",\n      \"properties\": {\n        \"dtype\": \"number\",\n        \"std\": 1,\n        \"min\": 0,\n        \"max\": 3,\n        \"num_unique_values\": 4,\n        \"samples\": [\n          2,\n          0\n        ],\n        \"semantic_type\": \"\",\n        \"description\": \"\"\n      }\n    },\n    {\n      \"column\": \"trestbps\",\n      \"properties\": {\n        \"dtype\": \"number\",\n        \"std\": 17,\n        \"min\": 94,\n        \"max\": 200,\n        \"num_unique_values\": 49,\n        \"samples\": [\n          104,\n          123\n        ],\n        \"semantic_type\": \"\",\n        \"description\": \"\"\n      }\n    },\n    {\n      \"column\": \"chol\",\n      \"properties\": {\n        \"dtype\": \"number\",\n        \"std\": 51,\n        \"min\": 126,\n        \"max\": 564,\n        \"num_unique_values\": 152,\n        \"samples\": [\n          277,\n          169\n        ],\n        \"semantic_type\": \"\",\n        \"description\": \"\"\n      }\n    },\n    {\n      \"column\": \"fbs\",\n      \"properties\": {\n        \"dtype\": \"number\",\n        \"std\": 0,\n        \"min\": 0,\n        \"max\": 1,\n        \"num_unique_values\": 2,\n        \"samples\": [\n          0,\n          1\n        ],\n        \"semantic_type\": \"\",\n        \"description\": \"\"\n      }\n    },\n    {\n      \"column\": \"restecg\",\n      \"properties\": {\n        \"dtype\": \"number\",\n        \"std\": 0,\n        \"min\": 0,\n        \"max\": 2,\n        \"num_unique_values\": 3,\n        \"samples\": [\n          0,\n          1\n        ],\n        \"semantic_type\": \"\",\n        \"description\": \"\"\n      }\n    },\n    {\n      \"column\": \"thalach\",\n      \"properties\": {\n        \"dtype\": \"number\",\n        \"std\": 22,\n        \"min\": 71,\n        \"max\": 202,\n        \"num_unique_values\": 91,\n        \"samples\": [\n          159,\n          152\n        ],\n        \"semantic_type\": \"\",\n        \"description\": \"\"\n      }\n    },\n    {\n      \"column\": \"exang\",\n      \"properties\": {\n        \"dtype\": \"number\",\n        \"std\": 0,\n        \"min\": 0,\n        \"max\": 1,\n        \"num_unique_values\": 2,\n        \"samples\": [\n          1,\n          0\n        ],\n        \"semantic_type\": \"\",\n        \"description\": \"\"\n      }\n    },\n    {\n      \"column\": \"oldpeak\",\n      \"properties\": {\n        \"dtype\": \"number\",\n        \"std\": 1.1610750220686348,\n        \"min\": 0.0,\n        \"max\": 6.2,\n        \"num_unique_values\": 40,\n        \"samples\": [\n          1.9,\n          3.0\n        ],\n        \"semantic_type\": \"\",\n        \"description\": \"\"\n      }\n    },\n    {\n      \"column\": \"slope\",\n      \"properties\": {\n        \"dtype\": \"number\",\n        \"std\": 0,\n        \"min\": 0,\n        \"max\": 2,\n        \"num_unique_values\": 3,\n        \"samples\": [\n          0,\n          2\n        ],\n        \"semantic_type\": \"\",\n        \"description\": \"\"\n      }\n    },\n    {\n      \"column\": \"ca\",\n      \"properties\": {\n        \"dtype\": \"number\",\n        \"std\": 1,\n        \"min\": 0,\n        \"max\": 4,\n        \"num_unique_values\": 5,\n        \"samples\": [\n          2,\n          4\n        ],\n        \"semantic_type\": \"\",\n        \"description\": \"\"\n      }\n    },\n    {\n      \"column\": \"thal\",\n      \"properties\": {\n        \"dtype\": \"number\",\n        \"std\": 0,\n        \"min\": 0,\n        \"max\": 3,\n        \"num_unique_values\": 4,\n        \"samples\": [\n          2,\n          0\n        ],\n        \"semantic_type\": \"\",\n        \"description\": \"\"\n      }\n    },\n    {\n      \"column\": \"target\",\n      \"properties\": {\n        \"dtype\": \"number\",\n        \"std\": 0,\n        \"min\": 0,\n        \"max\": 1,\n        \"num_unique_values\": 2,\n        \"samples\": [\n          0,\n          1\n        ],\n        \"semantic_type\": \"\",\n        \"description\": \"\"\n      }\n    }\n  ]\n}"
            }
          },
          "metadata": {},
          "execution_count": 13
        }
      ],
      "source": [
        "data.head(5)"
      ]
    },
    {
      "cell_type": "markdown",
      "metadata": {
        "id": "CRVeKa8h-drv"
      },
      "source": [
        "### Description of dataset"
      ]
    },
    {
      "cell_type": "code",
      "execution_count": 14,
      "metadata": {
        "id": "2mzhmjCM-c1V",
        "colab": {
          "base_uri": "https://localhost:8080/",
          "height": 320
        },
        "outputId": "c8210543-d1a0-42b9-83eb-babd711d7a80"
      },
      "outputs": [
        {
          "output_type": "execute_result",
          "data": {
            "text/plain": [
              "              age         sex          cp    trestbps        chol         fbs  \\\n",
              "count  303.000000  303.000000  303.000000  303.000000  303.000000  303.000000   \n",
              "mean    54.366337    0.683168    0.966997  131.623762  246.264026    0.148515   \n",
              "std      9.082101    0.466011    1.032052   17.538143   51.830751    0.356198   \n",
              "min     29.000000    0.000000    0.000000   94.000000  126.000000    0.000000   \n",
              "25%     47.500000    0.000000    0.000000  120.000000  211.000000    0.000000   \n",
              "50%     55.000000    1.000000    1.000000  130.000000  240.000000    0.000000   \n",
              "75%     61.000000    1.000000    2.000000  140.000000  274.500000    0.000000   \n",
              "max     77.000000    1.000000    3.000000  200.000000  564.000000    1.000000   \n",
              "\n",
              "          restecg     thalach       exang     oldpeak       slope          ca  \\\n",
              "count  303.000000  303.000000  303.000000  303.000000  303.000000  303.000000   \n",
              "mean     0.528053  149.646865    0.326733    1.039604    1.399340    0.729373   \n",
              "std      0.525860   22.905161    0.469794    1.161075    0.616226    1.022606   \n",
              "min      0.000000   71.000000    0.000000    0.000000    0.000000    0.000000   \n",
              "25%      0.000000  133.500000    0.000000    0.000000    1.000000    0.000000   \n",
              "50%      1.000000  153.000000    0.000000    0.800000    1.000000    0.000000   \n",
              "75%      1.000000  166.000000    1.000000    1.600000    2.000000    1.000000   \n",
              "max      2.000000  202.000000    1.000000    6.200000    2.000000    4.000000   \n",
              "\n",
              "             thal      target  \n",
              "count  303.000000  303.000000  \n",
              "mean     2.313531    0.544554  \n",
              "std      0.612277    0.498835  \n",
              "min      0.000000    0.000000  \n",
              "25%      2.000000    0.000000  \n",
              "50%      2.000000    1.000000  \n",
              "75%      3.000000    1.000000  \n",
              "max      3.000000    1.000000  "
            ],
            "text/html": [
              "\n",
              "  <div id=\"df-8221472c-18f1-484f-bd69-2af46e136ef7\" class=\"colab-df-container\">\n",
              "    <div>\n",
              "<style scoped>\n",
              "    .dataframe tbody tr th:only-of-type {\n",
              "        vertical-align: middle;\n",
              "    }\n",
              "\n",
              "    .dataframe tbody tr th {\n",
              "        vertical-align: top;\n",
              "    }\n",
              "\n",
              "    .dataframe thead th {\n",
              "        text-align: right;\n",
              "    }\n",
              "</style>\n",
              "<table border=\"1\" class=\"dataframe\">\n",
              "  <thead>\n",
              "    <tr style=\"text-align: right;\">\n",
              "      <th></th>\n",
              "      <th>age</th>\n",
              "      <th>sex</th>\n",
              "      <th>cp</th>\n",
              "      <th>trestbps</th>\n",
              "      <th>chol</th>\n",
              "      <th>fbs</th>\n",
              "      <th>restecg</th>\n",
              "      <th>thalach</th>\n",
              "      <th>exang</th>\n",
              "      <th>oldpeak</th>\n",
              "      <th>slope</th>\n",
              "      <th>ca</th>\n",
              "      <th>thal</th>\n",
              "      <th>target</th>\n",
              "    </tr>\n",
              "  </thead>\n",
              "  <tbody>\n",
              "    <tr>\n",
              "      <th>count</th>\n",
              "      <td>303.000000</td>\n",
              "      <td>303.000000</td>\n",
              "      <td>303.000000</td>\n",
              "      <td>303.000000</td>\n",
              "      <td>303.000000</td>\n",
              "      <td>303.000000</td>\n",
              "      <td>303.000000</td>\n",
              "      <td>303.000000</td>\n",
              "      <td>303.000000</td>\n",
              "      <td>303.000000</td>\n",
              "      <td>303.000000</td>\n",
              "      <td>303.000000</td>\n",
              "      <td>303.000000</td>\n",
              "      <td>303.000000</td>\n",
              "    </tr>\n",
              "    <tr>\n",
              "      <th>mean</th>\n",
              "      <td>54.366337</td>\n",
              "      <td>0.683168</td>\n",
              "      <td>0.966997</td>\n",
              "      <td>131.623762</td>\n",
              "      <td>246.264026</td>\n",
              "      <td>0.148515</td>\n",
              "      <td>0.528053</td>\n",
              "      <td>149.646865</td>\n",
              "      <td>0.326733</td>\n",
              "      <td>1.039604</td>\n",
              "      <td>1.399340</td>\n",
              "      <td>0.729373</td>\n",
              "      <td>2.313531</td>\n",
              "      <td>0.544554</td>\n",
              "    </tr>\n",
              "    <tr>\n",
              "      <th>std</th>\n",
              "      <td>9.082101</td>\n",
              "      <td>0.466011</td>\n",
              "      <td>1.032052</td>\n",
              "      <td>17.538143</td>\n",
              "      <td>51.830751</td>\n",
              "      <td>0.356198</td>\n",
              "      <td>0.525860</td>\n",
              "      <td>22.905161</td>\n",
              "      <td>0.469794</td>\n",
              "      <td>1.161075</td>\n",
              "      <td>0.616226</td>\n",
              "      <td>1.022606</td>\n",
              "      <td>0.612277</td>\n",
              "      <td>0.498835</td>\n",
              "    </tr>\n",
              "    <tr>\n",
              "      <th>min</th>\n",
              "      <td>29.000000</td>\n",
              "      <td>0.000000</td>\n",
              "      <td>0.000000</td>\n",
              "      <td>94.000000</td>\n",
              "      <td>126.000000</td>\n",
              "      <td>0.000000</td>\n",
              "      <td>0.000000</td>\n",
              "      <td>71.000000</td>\n",
              "      <td>0.000000</td>\n",
              "      <td>0.000000</td>\n",
              "      <td>0.000000</td>\n",
              "      <td>0.000000</td>\n",
              "      <td>0.000000</td>\n",
              "      <td>0.000000</td>\n",
              "    </tr>\n",
              "    <tr>\n",
              "      <th>25%</th>\n",
              "      <td>47.500000</td>\n",
              "      <td>0.000000</td>\n",
              "      <td>0.000000</td>\n",
              "      <td>120.000000</td>\n",
              "      <td>211.000000</td>\n",
              "      <td>0.000000</td>\n",
              "      <td>0.000000</td>\n",
              "      <td>133.500000</td>\n",
              "      <td>0.000000</td>\n",
              "      <td>0.000000</td>\n",
              "      <td>1.000000</td>\n",
              "      <td>0.000000</td>\n",
              "      <td>2.000000</td>\n",
              "      <td>0.000000</td>\n",
              "    </tr>\n",
              "    <tr>\n",
              "      <th>50%</th>\n",
              "      <td>55.000000</td>\n",
              "      <td>1.000000</td>\n",
              "      <td>1.000000</td>\n",
              "      <td>130.000000</td>\n",
              "      <td>240.000000</td>\n",
              "      <td>0.000000</td>\n",
              "      <td>1.000000</td>\n",
              "      <td>153.000000</td>\n",
              "      <td>0.000000</td>\n",
              "      <td>0.800000</td>\n",
              "      <td>1.000000</td>\n",
              "      <td>0.000000</td>\n",
              "      <td>2.000000</td>\n",
              "      <td>1.000000</td>\n",
              "    </tr>\n",
              "    <tr>\n",
              "      <th>75%</th>\n",
              "      <td>61.000000</td>\n",
              "      <td>1.000000</td>\n",
              "      <td>2.000000</td>\n",
              "      <td>140.000000</td>\n",
              "      <td>274.500000</td>\n",
              "      <td>0.000000</td>\n",
              "      <td>1.000000</td>\n",
              "      <td>166.000000</td>\n",
              "      <td>1.000000</td>\n",
              "      <td>1.600000</td>\n",
              "      <td>2.000000</td>\n",
              "      <td>1.000000</td>\n",
              "      <td>3.000000</td>\n",
              "      <td>1.000000</td>\n",
              "    </tr>\n",
              "    <tr>\n",
              "      <th>max</th>\n",
              "      <td>77.000000</td>\n",
              "      <td>1.000000</td>\n",
              "      <td>3.000000</td>\n",
              "      <td>200.000000</td>\n",
              "      <td>564.000000</td>\n",
              "      <td>1.000000</td>\n",
              "      <td>2.000000</td>\n",
              "      <td>202.000000</td>\n",
              "      <td>1.000000</td>\n",
              "      <td>6.200000</td>\n",
              "      <td>2.000000</td>\n",
              "      <td>4.000000</td>\n",
              "      <td>3.000000</td>\n",
              "      <td>1.000000</td>\n",
              "    </tr>\n",
              "  </tbody>\n",
              "</table>\n",
              "</div>\n",
              "    <div class=\"colab-df-buttons\">\n",
              "\n",
              "  <div class=\"colab-df-container\">\n",
              "    <button class=\"colab-df-convert\" onclick=\"convertToInteractive('df-8221472c-18f1-484f-bd69-2af46e136ef7')\"\n",
              "            title=\"Convert this dataframe to an interactive table.\"\n",
              "            style=\"display:none;\">\n",
              "\n",
              "  <svg xmlns=\"http://www.w3.org/2000/svg\" height=\"24px\" viewBox=\"0 -960 960 960\">\n",
              "    <path d=\"M120-120v-720h720v720H120Zm60-500h600v-160H180v160Zm220 220h160v-160H400v160Zm0 220h160v-160H400v160ZM180-400h160v-160H180v160Zm440 0h160v-160H620v160ZM180-180h160v-160H180v160Zm440 0h160v-160H620v160Z\"/>\n",
              "  </svg>\n",
              "    </button>\n",
              "\n",
              "  <style>\n",
              "    .colab-df-container {\n",
              "      display:flex;\n",
              "      gap: 12px;\n",
              "    }\n",
              "\n",
              "    .colab-df-convert {\n",
              "      background-color: #E8F0FE;\n",
              "      border: none;\n",
              "      border-radius: 50%;\n",
              "      cursor: pointer;\n",
              "      display: none;\n",
              "      fill: #1967D2;\n",
              "      height: 32px;\n",
              "      padding: 0 0 0 0;\n",
              "      width: 32px;\n",
              "    }\n",
              "\n",
              "    .colab-df-convert:hover {\n",
              "      background-color: #E2EBFA;\n",
              "      box-shadow: 0px 1px 2px rgba(60, 64, 67, 0.3), 0px 1px 3px 1px rgba(60, 64, 67, 0.15);\n",
              "      fill: #174EA6;\n",
              "    }\n",
              "\n",
              "    .colab-df-buttons div {\n",
              "      margin-bottom: 4px;\n",
              "    }\n",
              "\n",
              "    [theme=dark] .colab-df-convert {\n",
              "      background-color: #3B4455;\n",
              "      fill: #D2E3FC;\n",
              "    }\n",
              "\n",
              "    [theme=dark] .colab-df-convert:hover {\n",
              "      background-color: #434B5C;\n",
              "      box-shadow: 0px 1px 3px 1px rgba(0, 0, 0, 0.15);\n",
              "      filter: drop-shadow(0px 1px 2px rgba(0, 0, 0, 0.3));\n",
              "      fill: #FFFFFF;\n",
              "    }\n",
              "  </style>\n",
              "\n",
              "    <script>\n",
              "      const buttonEl =\n",
              "        document.querySelector('#df-8221472c-18f1-484f-bd69-2af46e136ef7 button.colab-df-convert');\n",
              "      buttonEl.style.display =\n",
              "        google.colab.kernel.accessAllowed ? 'block' : 'none';\n",
              "\n",
              "      async function convertToInteractive(key) {\n",
              "        const element = document.querySelector('#df-8221472c-18f1-484f-bd69-2af46e136ef7');\n",
              "        const dataTable =\n",
              "          await google.colab.kernel.invokeFunction('convertToInteractive',\n",
              "                                                    [key], {});\n",
              "        if (!dataTable) return;\n",
              "\n",
              "        const docLinkHtml = 'Like what you see? Visit the ' +\n",
              "          '<a target=\"_blank\" href=https://colab.research.google.com/notebooks/data_table.ipynb>data table notebook</a>'\n",
              "          + ' to learn more about interactive tables.';\n",
              "        element.innerHTML = '';\n",
              "        dataTable['output_type'] = 'display_data';\n",
              "        await google.colab.output.renderOutput(dataTable, element);\n",
              "        const docLink = document.createElement('div');\n",
              "        docLink.innerHTML = docLinkHtml;\n",
              "        element.appendChild(docLink);\n",
              "      }\n",
              "    </script>\n",
              "  </div>\n",
              "\n",
              "\n",
              "<div id=\"df-9bb41b64-40b7-4f07-8a53-8e037f3fd0d4\">\n",
              "  <button class=\"colab-df-quickchart\" onclick=\"quickchart('df-9bb41b64-40b7-4f07-8a53-8e037f3fd0d4')\"\n",
              "            title=\"Suggest charts\"\n",
              "            style=\"display:none;\">\n",
              "\n",
              "<svg xmlns=\"http://www.w3.org/2000/svg\" height=\"24px\"viewBox=\"0 0 24 24\"\n",
              "     width=\"24px\">\n",
              "    <g>\n",
              "        <path d=\"M19 3H5c-1.1 0-2 .9-2 2v14c0 1.1.9 2 2 2h14c1.1 0 2-.9 2-2V5c0-1.1-.9-2-2-2zM9 17H7v-7h2v7zm4 0h-2V7h2v10zm4 0h-2v-4h2v4z\"/>\n",
              "    </g>\n",
              "</svg>\n",
              "  </button>\n",
              "\n",
              "<style>\n",
              "  .colab-df-quickchart {\n",
              "      --bg-color: #E8F0FE;\n",
              "      --fill-color: #1967D2;\n",
              "      --hover-bg-color: #E2EBFA;\n",
              "      --hover-fill-color: #174EA6;\n",
              "      --disabled-fill-color: #AAA;\n",
              "      --disabled-bg-color: #DDD;\n",
              "  }\n",
              "\n",
              "  [theme=dark] .colab-df-quickchart {\n",
              "      --bg-color: #3B4455;\n",
              "      --fill-color: #D2E3FC;\n",
              "      --hover-bg-color: #434B5C;\n",
              "      --hover-fill-color: #FFFFFF;\n",
              "      --disabled-bg-color: #3B4455;\n",
              "      --disabled-fill-color: #666;\n",
              "  }\n",
              "\n",
              "  .colab-df-quickchart {\n",
              "    background-color: var(--bg-color);\n",
              "    border: none;\n",
              "    border-radius: 50%;\n",
              "    cursor: pointer;\n",
              "    display: none;\n",
              "    fill: var(--fill-color);\n",
              "    height: 32px;\n",
              "    padding: 0;\n",
              "    width: 32px;\n",
              "  }\n",
              "\n",
              "  .colab-df-quickchart:hover {\n",
              "    background-color: var(--hover-bg-color);\n",
              "    box-shadow: 0 1px 2px rgba(60, 64, 67, 0.3), 0 1px 3px 1px rgba(60, 64, 67, 0.15);\n",
              "    fill: var(--button-hover-fill-color);\n",
              "  }\n",
              "\n",
              "  .colab-df-quickchart-complete:disabled,\n",
              "  .colab-df-quickchart-complete:disabled:hover {\n",
              "    background-color: var(--disabled-bg-color);\n",
              "    fill: var(--disabled-fill-color);\n",
              "    box-shadow: none;\n",
              "  }\n",
              "\n",
              "  .colab-df-spinner {\n",
              "    border: 2px solid var(--fill-color);\n",
              "    border-color: transparent;\n",
              "    border-bottom-color: var(--fill-color);\n",
              "    animation:\n",
              "      spin 1s steps(1) infinite;\n",
              "  }\n",
              "\n",
              "  @keyframes spin {\n",
              "    0% {\n",
              "      border-color: transparent;\n",
              "      border-bottom-color: var(--fill-color);\n",
              "      border-left-color: var(--fill-color);\n",
              "    }\n",
              "    20% {\n",
              "      border-color: transparent;\n",
              "      border-left-color: var(--fill-color);\n",
              "      border-top-color: var(--fill-color);\n",
              "    }\n",
              "    30% {\n",
              "      border-color: transparent;\n",
              "      border-left-color: var(--fill-color);\n",
              "      border-top-color: var(--fill-color);\n",
              "      border-right-color: var(--fill-color);\n",
              "    }\n",
              "    40% {\n",
              "      border-color: transparent;\n",
              "      border-right-color: var(--fill-color);\n",
              "      border-top-color: var(--fill-color);\n",
              "    }\n",
              "    60% {\n",
              "      border-color: transparent;\n",
              "      border-right-color: var(--fill-color);\n",
              "    }\n",
              "    80% {\n",
              "      border-color: transparent;\n",
              "      border-right-color: var(--fill-color);\n",
              "      border-bottom-color: var(--fill-color);\n",
              "    }\n",
              "    90% {\n",
              "      border-color: transparent;\n",
              "      border-bottom-color: var(--fill-color);\n",
              "    }\n",
              "  }\n",
              "</style>\n",
              "\n",
              "  <script>\n",
              "    async function quickchart(key) {\n",
              "      const quickchartButtonEl =\n",
              "        document.querySelector('#' + key + ' button');\n",
              "      quickchartButtonEl.disabled = true;  // To prevent multiple clicks.\n",
              "      quickchartButtonEl.classList.add('colab-df-spinner');\n",
              "      try {\n",
              "        const charts = await google.colab.kernel.invokeFunction(\n",
              "            'suggestCharts', [key], {});\n",
              "      } catch (error) {\n",
              "        console.error('Error during call to suggestCharts:', error);\n",
              "      }\n",
              "      quickchartButtonEl.classList.remove('colab-df-spinner');\n",
              "      quickchartButtonEl.classList.add('colab-df-quickchart-complete');\n",
              "    }\n",
              "    (() => {\n",
              "      let quickchartButtonEl =\n",
              "        document.querySelector('#df-9bb41b64-40b7-4f07-8a53-8e037f3fd0d4 button');\n",
              "      quickchartButtonEl.style.display =\n",
              "        google.colab.kernel.accessAllowed ? 'block' : 'none';\n",
              "    })();\n",
              "  </script>\n",
              "</div>\n",
              "\n",
              "    </div>\n",
              "  </div>\n"
            ],
            "application/vnd.google.colaboratory.intrinsic+json": {
              "type": "dataframe",
              "summary": "{\n  \"name\": \"data\",\n  \"rows\": 8,\n  \"fields\": [\n    {\n      \"column\": \"age\",\n      \"properties\": {\n        \"dtype\": \"number\",\n        \"std\": 92.63263171018461,\n        \"min\": 9.082100989837857,\n        \"max\": 303.0,\n        \"num_unique_values\": 8,\n        \"samples\": [\n          54.366336633663366,\n          55.0,\n          303.0\n        ],\n        \"semantic_type\": \"\",\n        \"description\": \"\"\n      }\n    },\n    {\n      \"column\": \"sex\",\n      \"properties\": {\n        \"dtype\": \"number\",\n        \"std\": 106.91793021099774,\n        \"min\": 0.0,\n        \"max\": 303.0,\n        \"num_unique_values\": 5,\n        \"samples\": [\n          0.6831683168316832,\n          1.0,\n          0.46601082333962385\n        ],\n        \"semantic_type\": \"\",\n        \"description\": \"\"\n      }\n    },\n    {\n      \"column\": \"cp\",\n      \"properties\": {\n        \"dtype\": \"number\",\n        \"std\": 106.72725528212327,\n        \"min\": 0.0,\n        \"max\": 303.0,\n        \"num_unique_values\": 7,\n        \"samples\": [\n          303.0,\n          0.966996699669967,\n          2.0\n        ],\n        \"semantic_type\": \"\",\n        \"description\": \"\"\n      }\n    },\n    {\n      \"column\": \"trestbps\",\n      \"properties\": {\n        \"dtype\": \"number\",\n        \"std\": 82.65195263865039,\n        \"min\": 17.5381428135171,\n        \"max\": 303.0,\n        \"num_unique_values\": 8,\n        \"samples\": [\n          131.62376237623764,\n          130.0,\n          303.0\n        ],\n        \"semantic_type\": \"\",\n        \"description\": \"\"\n      }\n    },\n    {\n      \"column\": \"chol\",\n      \"properties\": {\n        \"dtype\": \"number\",\n        \"std\": 150.35806568851743,\n        \"min\": 51.83075098793003,\n        \"max\": 564.0,\n        \"num_unique_values\": 8,\n        \"samples\": [\n          246.26402640264027,\n          240.0,\n          303.0\n        ],\n        \"semantic_type\": \"\",\n        \"description\": \"\"\n      }\n    },\n    {\n      \"column\": \"fbs\",\n      \"properties\": {\n        \"dtype\": \"number\",\n        \"std\": 107.0512286741478,\n        \"min\": 0.0,\n        \"max\": 303.0,\n        \"num_unique_values\": 5,\n        \"samples\": [\n          0.1485148514851485,\n          1.0,\n          0.35619787492797644\n        ],\n        \"semantic_type\": \"\",\n        \"description\": \"\"\n      }\n    },\n    {\n      \"column\": \"restecg\",\n      \"properties\": {\n        \"dtype\": \"number\",\n        \"std\": 106.8733588009897,\n        \"min\": 0.0,\n        \"max\": 303.0,\n        \"num_unique_values\": 6,\n        \"samples\": [\n          303.0,\n          0.528052805280528,\n          2.0\n        ],\n        \"semantic_type\": \"\",\n        \"description\": \"\"\n      }\n    },\n    {\n      \"column\": \"thalach\",\n      \"properties\": {\n        \"dtype\": \"number\",\n        \"std\": 83.70384393886218,\n        \"min\": 22.905161114914094,\n        \"max\": 303.0,\n        \"num_unique_values\": 8,\n        \"samples\": [\n          149.64686468646866,\n          153.0,\n          303.0\n        ],\n        \"semantic_type\": \"\",\n        \"description\": \"\"\n      }\n    },\n    {\n      \"column\": \"exang\",\n      \"properties\": {\n        \"dtype\": \"number\",\n        \"std\": 106.9862394088184,\n        \"min\": 0.0,\n        \"max\": 303.0,\n        \"num_unique_values\": 5,\n        \"samples\": [\n          0.32673267326732675,\n          1.0,\n          0.4697944645223165\n        ],\n        \"semantic_type\": \"\",\n        \"description\": \"\"\n      }\n    },\n    {\n      \"column\": \"oldpeak\",\n      \"properties\": {\n        \"dtype\": \"number\",\n        \"std\": 106.59952466080658,\n        \"min\": 0.0,\n        \"max\": 303.0,\n        \"num_unique_values\": 7,\n        \"samples\": [\n          303.0,\n          1.0396039603960396,\n          1.6\n        ],\n        \"semantic_type\": \"\",\n        \"description\": \"\"\n      }\n    },\n    {\n      \"column\": \"slope\",\n      \"properties\": {\n        \"dtype\": \"number\",\n        \"std\": 106.72394469173834,\n        \"min\": 0.0,\n        \"max\": 303.0,\n        \"num_unique_values\": 6,\n        \"samples\": [\n          303.0,\n          1.3993399339933994,\n          2.0\n        ],\n        \"semantic_type\": \"\",\n        \"description\": \"\"\n      }\n    },\n    {\n      \"column\": \"ca\",\n      \"properties\": {\n        \"dtype\": \"number\",\n        \"std\": 106.79372080487734,\n        \"min\": 0.0,\n        \"max\": 303.0,\n        \"num_unique_values\": 6,\n        \"samples\": [\n          303.0,\n          0.7293729372937293,\n          4.0\n        ],\n        \"semantic_type\": \"\",\n        \"description\": \"\"\n      }\n    },\n    {\n      \"column\": \"thal\",\n      \"properties\": {\n        \"dtype\": \"number\",\n        \"std\": 106.47909774814387,\n        \"min\": 0.0,\n        \"max\": 303.0,\n        \"num_unique_values\": 6,\n        \"samples\": [\n          303.0,\n          2.3135313531353137,\n          3.0\n        ],\n        \"semantic_type\": \"\",\n        \"description\": \"\"\n      }\n    },\n    {\n      \"column\": \"target\",\n      \"properties\": {\n        \"dtype\": \"number\",\n        \"std\": 106.92326354929804,\n        \"min\": 0.0,\n        \"max\": 303.0,\n        \"num_unique_values\": 5,\n        \"samples\": [\n          0.5445544554455446,\n          1.0,\n          0.4988347841643913\n        ],\n        \"semantic_type\": \"\",\n        \"description\": \"\"\n      }\n    }\n  ]\n}"
            }
          },
          "metadata": {},
          "execution_count": 14
        }
      ],
      "source": [
        "data.describe()"
      ]
    },
    {
      "cell_type": "code",
      "execution_count": 15,
      "metadata": {
        "id": "KkEPUVwv-lYi",
        "colab": {
          "base_uri": "https://localhost:8080/"
        },
        "outputId": "c9c5d1ea-60e9-4d8f-8957-a74b32c2f07b"
      },
      "outputs": [
        {
          "output_type": "stream",
          "name": "stdout",
          "text": [
            "<class 'pandas.core.frame.DataFrame'>\n",
            "RangeIndex: 303 entries, 0 to 302\n",
            "Data columns (total 14 columns):\n",
            " #   Column    Non-Null Count  Dtype  \n",
            "---  ------    --------------  -----  \n",
            " 0   age       303 non-null    int64  \n",
            " 1   sex       303 non-null    int64  \n",
            " 2   cp        303 non-null    int64  \n",
            " 3   trestbps  303 non-null    int64  \n",
            " 4   chol      303 non-null    int64  \n",
            " 5   fbs       303 non-null    int64  \n",
            " 6   restecg   303 non-null    int64  \n",
            " 7   thalach   303 non-null    int64  \n",
            " 8   exang     303 non-null    int64  \n",
            " 9   oldpeak   303 non-null    float64\n",
            " 10  slope     303 non-null    int64  \n",
            " 11  ca        303 non-null    int64  \n",
            " 12  thal      303 non-null    int64  \n",
            " 13  target    303 non-null    int64  \n",
            "dtypes: float64(1), int64(13)\n",
            "memory usage: 33.3 KB\n"
          ]
        }
      ],
      "source": [
        "data.info()"
      ]
    },
    {
      "cell_type": "markdown",
      "metadata": {
        "id": "okzmcn87-8St"
      },
      "source": [
        "### Understanding our columns much better"
      ]
    },
    {
      "cell_type": "code",
      "execution_count": 16,
      "metadata": {
        "id": "pFrBMRQd_Cc-",
        "colab": {
          "base_uri": "https://localhost:8080/"
        },
        "outputId": "92e02e0e-3c26-44f7-bce1-517cf197b95b"
      },
      "outputs": [
        {
          "output_type": "stream",
          "name": "stdout",
          "text": [
            "age:\t\tage\n",
            "sex:\t\t1: male, 0: female\n",
            "cp:\t\tchest pain type, 1: typical angina, 2: atypical angina, 3: non-anginal pain, 4: asymptomatic\n",
            "trestbps:\t\tresting blood pressure\n",
            "chol:\t\tserum cholestoral in mg/dl\n",
            "fbs:\t\tfasting blood sugar > 120 mg/dl\n",
            "restecg:\t\tresting ECG values(0,1,2)\n",
            "thalach:\t\tmax heartrate achieved\n",
            "exang:\t\texercise induced angina\n",
            "oldpeak:\t\toldpeak = ST depression induced by exercise relative to rest\n",
            "slope:\t\tthe slope of the peak exercise ST segment\n",
            "ca:\t\tno. of major vessels (0-3) colored by flourosopy\n",
            "thal:\t\tthal: 3 = normal, 6 = fixed defect, 7 = revrsable defect\n"
          ]
        }
      ],
      "source": [
        "info = [\"age\",\n",
        "        \"1: male, 0: female\",\n",
        "        \"chest pain type, 1: typical angina, 2: atypical angina, 3: non-anginal pain, 4: asymptomatic\",\n",
        "        \"resting blood pressure\",\n",
        "        \"serum cholestoral in mg/dl\",\n",
        "        \"fasting blood sugar > 120 mg/dl\",\n",
        "        \"resting ECG values(0,1,2)\",\n",
        "        \"max heartrate achieved\",\n",
        "        \"exercise induced angina\",\n",
        "        \"oldpeak = ST depression induced by exercise relative to rest\",\n",
        "        \"the slope of the peak exercise ST segment\",\n",
        "        \"no. of major vessels (0-3) colored by flourosopy\",\n",
        "        \"thal: 3 = normal, 6 = fixed defect, 7 = revrsable defect\"]\n",
        "\n",
        "for i in range(len(info)):\n",
        "  print(data.columns[i]+\":\\t\\t\"+info[i])"
      ]
    },
    {
      "cell_type": "markdown",
      "metadata": {
        "id": "JGPYwERKBiWm"
      },
      "source": [
        "### Analysing the 'target' variable"
      ]
    },
    {
      "cell_type": "code",
      "execution_count": 17,
      "metadata": {
        "id": "7e8BEAOnBoYn",
        "colab": {
          "base_uri": "https://localhost:8080/"
        },
        "outputId": "8a247c26-3c5d-4bef-c83b-12aa6b605a70"
      },
      "outputs": [
        {
          "output_type": "execute_result",
          "data": {
            "text/plain": [
              "count    303.000000\n",
              "mean       0.544554\n",
              "std        0.498835\n",
              "min        0.000000\n",
              "25%        0.000000\n",
              "50%        1.000000\n",
              "75%        1.000000\n",
              "max        1.000000\n",
              "Name: target, dtype: float64"
            ]
          },
          "metadata": {},
          "execution_count": 17
        }
      ],
      "source": [
        "data[\"target\"].describe()"
      ]
    },
    {
      "cell_type": "code",
      "execution_count": 18,
      "metadata": {
        "id": "ePGdKOTTBtPA",
        "colab": {
          "base_uri": "https://localhost:8080/"
        },
        "outputId": "1d807fe6-1498-46b9-f453-8227c627ae42"
      },
      "outputs": [
        {
          "output_type": "execute_result",
          "data": {
            "text/plain": [
              "array([1, 0])"
            ]
          },
          "metadata": {},
          "execution_count": 18
        }
      ],
      "source": [
        "data[\"target\"].unique()"
      ]
    },
    {
      "cell_type": "markdown",
      "metadata": {
        "id": "KwZ8TP73CYlX"
      },
      "source": [
        "## **III. Exploratory Data Analysis (EDA)**"
      ]
    },
    {
      "cell_type": "markdown",
      "metadata": {
        "id": "nUioylgcCieC"
      },
      "source": [
        "### Analysing the target variable"
      ]
    },
    {
      "cell_type": "code",
      "execution_count": 19,
      "metadata": {
        "id": "N6-cWG7VCVEs",
        "colab": {
          "base_uri": "https://localhost:8080/"
        },
        "outputId": "d76f782c-c77e-4fea-af7e-0136a649421b"
      },
      "outputs": [
        {
          "output_type": "stream",
          "name": "stdout",
          "text": [
            "target\n",
            "1    165\n",
            "0    138\n",
            "Name: count, dtype: int64\n",
            "Percentage of patience without heart problems: 45.54\n",
            "Percentage of patience with heart problems: 54.46\n"
          ]
        }
      ],
      "source": [
        "y = data[\"target\"]\n",
        "target_temp = data.target.value_counts()\n",
        "print(target_temp)\n",
        "print(\"Percentage of patience without heart problems: \"+str(round(target_temp[0]*100/303,2)))\n",
        "print(\"Percentage of patience with heart problems: \"+str(round(target_temp[1]*100/303,2)))"
      ]
    },
    {
      "cell_type": "markdown",
      "metadata": {
        "id": "txb3JftKlnaK"
      },
      "source": [
        "# **IV. Train Test Split**"
      ]
    },
    {
      "cell_type": "code",
      "execution_count": 20,
      "metadata": {
        "id": "zWvdL-u7mIJn"
      },
      "outputs": [],
      "source": [
        "from sklearn.model_selection import train_test_split\n",
        "X = data.drop(\"target\",axis=1)\n",
        "Y = data[\"target\"]\n",
        "X_train, X_test, Y_train, Y_test = train_test_split(X, Y, test_size=0.20, random_state=0)"
      ]
    },
    {
      "cell_type": "code",
      "execution_count": 21,
      "metadata": {
        "id": "K4yh5HeAogmb",
        "colab": {
          "base_uri": "https://localhost:8080/"
        },
        "outputId": "2b2721e7-72da-40d2-ca88-b92f91fda916"
      },
      "outputs": [
        {
          "output_type": "execute_result",
          "data": {
            "text/plain": [
              "(242, 13)"
            ]
          },
          "metadata": {},
          "execution_count": 21
        }
      ],
      "source": [
        "X_train.shape"
      ]
    },
    {
      "cell_type": "code",
      "execution_count": 22,
      "metadata": {
        "id": "PXF7oW45ohST",
        "colab": {
          "base_uri": "https://localhost:8080/"
        },
        "outputId": "363ec29e-ba12-48df-c3d4-67999027f6d8"
      },
      "outputs": [
        {
          "output_type": "execute_result",
          "data": {
            "text/plain": [
              "(61, 13)"
            ]
          },
          "metadata": {},
          "execution_count": 22
        }
      ],
      "source": [
        "X_test.shape"
      ]
    },
    {
      "cell_type": "code",
      "execution_count": 23,
      "metadata": {
        "id": "npO12n7mokbd",
        "colab": {
          "base_uri": "https://localhost:8080/"
        },
        "outputId": "d55f79d2-be88-480b-e6e5-241cc7df4d15"
      },
      "outputs": [
        {
          "output_type": "execute_result",
          "data": {
            "text/plain": [
              "(242,)"
            ]
          },
          "metadata": {},
          "execution_count": 23
        }
      ],
      "source": [
        "Y_train.shape"
      ]
    },
    {
      "cell_type": "code",
      "execution_count": 24,
      "metadata": {
        "id": "-yCy9bu0okiW",
        "colab": {
          "base_uri": "https://localhost:8080/"
        },
        "outputId": "bc6b8379-e339-4fa6-812c-7993c7b11c92"
      },
      "outputs": [
        {
          "output_type": "execute_result",
          "data": {
            "text/plain": [
              "(61,)"
            ]
          },
          "metadata": {},
          "execution_count": 24
        }
      ],
      "source": [
        "Y_test.shape"
      ]
    },
    {
      "cell_type": "markdown",
      "metadata": {
        "id": "FriFSOmjoxGv"
      },
      "source": [
        "# **V. Model Fitting**"
      ]
    },
    {
      "cell_type": "code",
      "execution_count": 25,
      "metadata": {
        "id": "Ci3rXYa-o3mp"
      },
      "outputs": [],
      "source": [
        "from sklearn.metrics import accuracy_score"
      ]
    },
    {
      "cell_type": "markdown",
      "metadata": {
        "id": "Lp3eThYjo87W"
      },
      "source": [
        "## Logistic Regression"
      ]
    },
    {
      "cell_type": "code",
      "execution_count": 26,
      "metadata": {
        "id": "lAN9-faKpBBm",
        "colab": {
          "base_uri": "https://localhost:8080/"
        },
        "outputId": "814e6abd-c26a-49c0-e86c-d2301b9c4407"
      },
      "outputs": [
        {
          "output_type": "stream",
          "name": "stdout",
          "text": [
            "The accuracy score achieved using Logistic Regression is: 85.25%\n"
          ]
        }
      ],
      "source": [
        "from sklearn.linear_model import LogisticRegression\n",
        "lr = LogisticRegression()\n",
        "lr.fit(X_train, Y_train)\n",
        "Y_pred_lr = lr.predict(X_test)\n",
        "score_lr = round(accuracy_score(Y_pred_lr, Y_test)*100,2)\n",
        "print(\"The accuracy score achieved using Logistic Regression is: \"+str(score_lr)+\"%\")"
      ]
    },
    {
      "cell_type": "markdown",
      "metadata": {
        "id": "Q2QSMlC7qpFL"
      },
      "source": [
        "## Support Vector Machine (SVM)"
      ]
    },
    {
      "cell_type": "code",
      "execution_count": 27,
      "metadata": {
        "id": "0YtmnBO3qtW7",
        "colab": {
          "base_uri": "https://localhost:8080/"
        },
        "outputId": "1d476973-b300-4739-b196-51581cea1371"
      },
      "outputs": [
        {
          "output_type": "stream",
          "name": "stdout",
          "text": [
            "The accuracy score achieved using SVM is: 85.25%\n"
          ]
        }
      ],
      "source": [
        "from sklearn.svm import SVC\n",
        "sv = SVC(kernel='linear')\n",
        "sv.fit(X_train, Y_train)\n",
        "Y_pred_svm = sv.predict(X_test)\n",
        "score_svm = round(accuracy_score(Y_pred_svm, Y_test)*100,2)\n",
        "print(\"The accuracy score achieved using SVM is: \"+str(score_lr)+\"%\")"
      ]
    },
    {
      "cell_type": "markdown",
      "metadata": {
        "id": "cMSp8I1brddd"
      },
      "source": [
        "## K Nearest Neighbors (KNN)"
      ]
    },
    {
      "cell_type": "code",
      "execution_count": 28,
      "metadata": {
        "id": "LIP_QtK2rpKO",
        "colab": {
          "base_uri": "https://localhost:8080/"
        },
        "outputId": "615a881b-9cf8-4916-9a99-2761a1ba4b72"
      },
      "outputs": [
        {
          "output_type": "stream",
          "name": "stdout",
          "text": [
            "The accuracy score achieved using KNN is: 67.21%\n"
          ]
        }
      ],
      "source": [
        "from sklearn.neighbors import KNeighborsClassifier\n",
        "knn = KNeighborsClassifier(n_neighbors=7)\n",
        "knn.fit(X_train, Y_train)\n",
        "Y_pred_knn = knn.predict(X_test)\n",
        "score_knn = round(accuracy_score(Y_pred_knn, Y_test)*100,2)\n",
        "print(\"The accuracy score achieved using KNN is: \"+str(score_knn)+\"%\")"
      ]
    },
    {
      "cell_type": "markdown",
      "metadata": {
        "id": "AnYfnbU3tCCW"
      },
      "source": [
        "## Decision Tree"
      ]
    },
    {
      "cell_type": "code",
      "execution_count": 29,
      "metadata": {
        "colab": {
          "base_uri": "https://localhost:8080/"
        },
        "id": "izlU9sbttG31",
        "outputId": "0662cef0-dd74-4b52-a17e-761e9fa769f7"
      },
      "outputs": [
        {
          "output_type": "stream",
          "name": "stdout",
          "text": [
            "The accuracy score achieved using Decision Tree is: 81.97%\n"
          ]
        }
      ],
      "source": [
        "from sklearn.tree import DecisionTreeClassifier\n",
        "max_accuracy = 0\n",
        "for x in range(2000):\n",
        "  dt = DecisionTreeClassifier(random_state=x)\n",
        "  dt.fit(X_train, Y_train)\n",
        "  Y_pred_dt = dt.predict(X_test)\n",
        "  curr_accuracy = round(accuracy_score(Y_pred_dt, Y_test)*100,2)\n",
        "  if(curr_accuracy > max_accuracy):\n",
        "    max_accuracy = curr_accuracy\n",
        "    best_x = x\n",
        "\n",
        "dt = DecisionTreeClassifier(random_state=best_x)\n",
        "dt.fit(X_train, Y_train)\n",
        "Y_pred_dt = dt.predict(X_test)\n",
        "score_dt = round(accuracy_score(Y_pred_dt, Y_test)*100,2)\n",
        "print(\"The accuracy score achieved using Decision Tree is: \"+str(score_dt)+\"%\")"
      ]
    },
    {
      "cell_type": "markdown",
      "metadata": {
        "id": "fVMIkoKQurpU"
      },
      "source": [
        "## Random Forest"
      ]
    },
    {
      "cell_type": "code",
      "execution_count": 30,
      "metadata": {
        "colab": {
          "base_uri": "https://localhost:8080/"
        },
        "id": "XNn9DNJ3uyZW",
        "outputId": "4a607ec1-cad6-42f2-effa-eb3bd96e21f7"
      },
      "outputs": [
        {
          "output_type": "stream",
          "name": "stdout",
          "text": [
            "The accuracy score achieved using Random Forest is: 90.16%\n"
          ]
        }
      ],
      "source": [
        "from sklearn.ensemble import RandomForestClassifier\n",
        "max_accuracy = 0\n",
        "for x in range(2000):\n",
        "  rf = RandomForestClassifier(random_state=x)\n",
        "  rf.fit(X_train, Y_train)\n",
        "  Y_pred_rf = rf.predict(X_test)\n",
        "  curr_accuracy = round(accuracy_score(Y_pred_rf, Y_test)*100,2)\n",
        "  if(curr_accuracy > max_accuracy):\n",
        "    max_accuracy = curr_accuracy\n",
        "    best_x = x\n",
        "\n",
        "rf = RandomForestClassifier(random_state=best_x)\n",
        "rf.fit(X_train, Y_train)\n",
        "Y_pred_rf = rf.predict(X_test)\n",
        "score_rf = round(accuracy_score(Y_pred_rf, Y_test)*100,2)\n",
        "print(\"The accuracy score achieved using Random Forest is: \"+str(score_rf)+\"%\")"
      ]
    },
    {
      "cell_type": "markdown",
      "metadata": {
        "id": "1199YSzqrwHz"
      },
      "source": [
        "## XGBoost"
      ]
    },
    {
      "cell_type": "code",
      "execution_count": 31,
      "metadata": {
        "colab": {
          "base_uri": "https://localhost:8080/"
        },
        "id": "bOrYHqhQsqpY",
        "outputId": "a8afee7f-9819-43bb-dfe1-7f00690594b0"
      },
      "outputs": [
        {
          "output_type": "stream",
          "name": "stdout",
          "text": [
            "The accuracy score achieved using XGBoost is: 83.61%\n"
          ]
        }
      ],
      "source": [
        "import xgboost as xgb\n",
        "xgb_model = xgb.XGBClassifier(objective=\"binary:logistic\",random_state=42)\n",
        "xgb_model.fit(X_train, Y_train)\n",
        "Y_pred_xgb = xgb_model.predict(X_test)\n",
        "score_xgb = round(accuracy_score(Y_pred_xgb, Y_test)*100,2)\n",
        "print(\"The accuracy score achieved using XGBoost is: \"+str(score_xgb)+\"%\")"
      ]
    },
    {
      "cell_type": "markdown",
      "metadata": {
        "id": "wRLQfLGlvecO"
      },
      "source": [
        "## Neural Network"
      ]
    },
    {
      "cell_type": "code",
      "execution_count": 32,
      "metadata": {
        "colab": {
          "base_uri": "https://localhost:8080/"
        },
        "id": "bwmb5Msdvm5S",
        "outputId": "9a693f81-eadb-42db-8556-0cb9d4e4d02f"
      },
      "outputs": [
        {
          "output_type": "stream",
          "name": "stdout",
          "text": [
            "Requirement already satisfied: keras in /usr/local/lib/python3.10/dist-packages (2.15.0)\n"
          ]
        }
      ],
      "source": [
        "!pip install keras"
      ]
    },
    {
      "cell_type": "code",
      "execution_count": 33,
      "metadata": {
        "id": "dE2jXnRkv_tF"
      },
      "outputs": [],
      "source": [
        "from keras.models import Sequential\n",
        "from keras.layers import Dense"
      ]
    },
    {
      "cell_type": "code",
      "execution_count": 34,
      "metadata": {
        "id": "pgHHLdRgwKf1"
      },
      "outputs": [],
      "source": [
        "model = Sequential()\n",
        "model.add(Dense(11,activation='relu',input_dim=13))\n",
        "model.add(Dense(1,activation='sigmoid'))\n",
        "model.compile(loss='binary_crossentropy',optimizer='adam',metrics=['accuracy'])"
      ]
    },
    {
      "cell_type": "code",
      "execution_count": 35,
      "metadata": {
        "colab": {
          "base_uri": "https://localhost:8080/"
        },
        "id": "zq4XTlz0wxpl",
        "outputId": "e478ad9c-e819-47ec-9c21-d46725babe3a"
      },
      "outputs": [
        {
          "output_type": "stream",
          "name": "stdout",
          "text": [
            "Epoch 1/300\n",
            "8/8 [==============================] - 2s 7ms/step - loss: 63.8503 - accuracy: 0.5413\n",
            "Epoch 2/300\n",
            "8/8 [==============================] - 0s 3ms/step - loss: 58.0086 - accuracy: 0.5413\n",
            "Epoch 3/300\n",
            "8/8 [==============================] - 0s 3ms/step - loss: 52.7395 - accuracy: 0.5413\n",
            "Epoch 4/300\n",
            "8/8 [==============================] - 0s 3ms/step - loss: 47.5410 - accuracy: 0.5413\n",
            "Epoch 5/300\n",
            "8/8 [==============================] - 0s 3ms/step - loss: 42.2137 - accuracy: 0.5413\n",
            "Epoch 6/300\n",
            "8/8 [==============================] - 0s 3ms/step - loss: 37.2453 - accuracy: 0.5413\n",
            "Epoch 7/300\n",
            "8/8 [==============================] - 0s 3ms/step - loss: 32.3628 - accuracy: 0.5413\n",
            "Epoch 8/300\n",
            "8/8 [==============================] - 0s 4ms/step - loss: 27.5353 - accuracy: 0.5413\n",
            "Epoch 9/300\n",
            "8/8 [==============================] - 0s 3ms/step - loss: 22.8125 - accuracy: 0.5413\n",
            "Epoch 10/300\n",
            "8/8 [==============================] - 0s 5ms/step - loss: 18.2402 - accuracy: 0.5413\n",
            "Epoch 11/300\n",
            "8/8 [==============================] - 0s 4ms/step - loss: 13.5968 - accuracy: 0.5413\n",
            "Epoch 12/300\n",
            "8/8 [==============================] - 0s 3ms/step - loss: 9.0443 - accuracy: 0.5413\n",
            "Epoch 13/300\n",
            "8/8 [==============================] - 0s 4ms/step - loss: 4.7082 - accuracy: 0.5248\n",
            "Epoch 14/300\n",
            "8/8 [==============================] - 0s 4ms/step - loss: 1.7572 - accuracy: 0.4545\n",
            "Epoch 15/300\n",
            "8/8 [==============================] - 0s 4ms/step - loss: 2.2057 - accuracy: 0.4050\n",
            "Epoch 16/300\n",
            "8/8 [==============================] - 0s 3ms/step - loss: 1.7278 - accuracy: 0.4132\n",
            "Epoch 17/300\n",
            "8/8 [==============================] - 0s 4ms/step - loss: 1.6020 - accuracy: 0.4917\n",
            "Epoch 18/300\n",
            "8/8 [==============================] - 0s 3ms/step - loss: 1.5901 - accuracy: 0.4793\n",
            "Epoch 19/300\n",
            "8/8 [==============================] - 0s 5ms/step - loss: 1.5022 - accuracy: 0.4545\n",
            "Epoch 20/300\n",
            "8/8 [==============================] - 0s 3ms/step - loss: 1.4661 - accuracy: 0.4793\n",
            "Epoch 21/300\n",
            "8/8 [==============================] - 0s 3ms/step - loss: 1.4468 - accuracy: 0.5000\n",
            "Epoch 22/300\n",
            "8/8 [==============================] - 0s 3ms/step - loss: 1.4023 - accuracy: 0.5000\n",
            "Epoch 23/300\n",
            "8/8 [==============================] - 0s 3ms/step - loss: 1.3775 - accuracy: 0.4917\n",
            "Epoch 24/300\n",
            "8/8 [==============================] - 0s 3ms/step - loss: 1.3561 - accuracy: 0.4876\n",
            "Epoch 25/300\n",
            "8/8 [==============================] - 0s 3ms/step - loss: 1.3623 - accuracy: 0.4835\n",
            "Epoch 26/300\n",
            "8/8 [==============================] - 0s 3ms/step - loss: 1.2963 - accuracy: 0.4959\n",
            "Epoch 27/300\n",
            "8/8 [==============================] - 0s 3ms/step - loss: 1.2864 - accuracy: 0.5041\n",
            "Epoch 28/300\n",
            "8/8 [==============================] - 0s 4ms/step - loss: 1.2514 - accuracy: 0.5165\n",
            "Epoch 29/300\n",
            "8/8 [==============================] - 0s 4ms/step - loss: 1.2351 - accuracy: 0.5165\n",
            "Epoch 30/300\n",
            "8/8 [==============================] - 0s 3ms/step - loss: 1.1988 - accuracy: 0.5289\n",
            "Epoch 31/300\n",
            "8/8 [==============================] - 0s 3ms/step - loss: 1.1785 - accuracy: 0.5207\n",
            "Epoch 32/300\n",
            "8/8 [==============================] - 0s 3ms/step - loss: 1.1515 - accuracy: 0.5331\n",
            "Epoch 33/300\n",
            "8/8 [==============================] - 0s 3ms/step - loss: 1.1304 - accuracy: 0.5372\n",
            "Epoch 34/300\n",
            "8/8 [==============================] - 0s 3ms/step - loss: 1.1097 - accuracy: 0.5455\n",
            "Epoch 35/300\n",
            "8/8 [==============================] - 0s 4ms/step - loss: 1.0901 - accuracy: 0.5620\n",
            "Epoch 36/300\n",
            "8/8 [==============================] - 0s 3ms/step - loss: 1.0670 - accuracy: 0.5620\n",
            "Epoch 37/300\n",
            "8/8 [==============================] - 0s 3ms/step - loss: 1.0471 - accuracy: 0.5702\n",
            "Epoch 38/300\n",
            "8/8 [==============================] - 0s 3ms/step - loss: 1.0327 - accuracy: 0.5785\n",
            "Epoch 39/300\n",
            "8/8 [==============================] - 0s 5ms/step - loss: 1.0112 - accuracy: 0.5868\n",
            "Epoch 40/300\n",
            "8/8 [==============================] - 0s 4ms/step - loss: 0.9922 - accuracy: 0.5702\n",
            "Epoch 41/300\n",
            "8/8 [==============================] - 0s 4ms/step - loss: 0.9759 - accuracy: 0.5950\n",
            "Epoch 42/300\n",
            "8/8 [==============================] - 0s 4ms/step - loss: 0.9593 - accuracy: 0.5950\n",
            "Epoch 43/300\n",
            "8/8 [==============================] - 0s 4ms/step - loss: 0.9389 - accuracy: 0.5702\n",
            "Epoch 44/300\n",
            "8/8 [==============================] - 0s 4ms/step - loss: 0.9295 - accuracy: 0.5992\n",
            "Epoch 45/300\n",
            "8/8 [==============================] - 0s 4ms/step - loss: 0.9134 - accuracy: 0.6074\n",
            "Epoch 46/300\n",
            "8/8 [==============================] - 0s 4ms/step - loss: 0.8919 - accuracy: 0.5826\n",
            "Epoch 47/300\n",
            "8/8 [==============================] - 0s 4ms/step - loss: 0.8781 - accuracy: 0.6074\n",
            "Epoch 48/300\n",
            "8/8 [==============================] - 0s 3ms/step - loss: 0.8634 - accuracy: 0.6157\n",
            "Epoch 49/300\n",
            "8/8 [==============================] - 0s 3ms/step - loss: 0.8487 - accuracy: 0.6116\n",
            "Epoch 50/300\n",
            "8/8 [==============================] - 0s 4ms/step - loss: 0.8405 - accuracy: 0.6198\n",
            "Epoch 51/300\n",
            "8/8 [==============================] - 0s 4ms/step - loss: 0.8215 - accuracy: 0.6198\n",
            "Epoch 52/300\n",
            "8/8 [==============================] - 0s 4ms/step - loss: 0.8081 - accuracy: 0.6240\n",
            "Epoch 53/300\n",
            "8/8 [==============================] - 0s 4ms/step - loss: 0.8111 - accuracy: 0.6322\n",
            "Epoch 54/300\n",
            "8/8 [==============================] - 0s 4ms/step - loss: 0.7872 - accuracy: 0.6364\n",
            "Epoch 55/300\n",
            "8/8 [==============================] - 0s 3ms/step - loss: 0.7705 - accuracy: 0.6446\n",
            "Epoch 56/300\n",
            "8/8 [==============================] - 0s 3ms/step - loss: 0.7776 - accuracy: 0.6446\n",
            "Epoch 57/300\n",
            "8/8 [==============================] - 0s 3ms/step - loss: 0.7665 - accuracy: 0.6198\n",
            "Epoch 58/300\n",
            "8/8 [==============================] - 0s 3ms/step - loss: 0.7436 - accuracy: 0.6446\n",
            "Epoch 59/300\n",
            "8/8 [==============================] - 0s 4ms/step - loss: 0.7435 - accuracy: 0.6488\n",
            "Epoch 60/300\n",
            "8/8 [==============================] - 0s 3ms/step - loss: 0.7218 - accuracy: 0.6570\n",
            "Epoch 61/300\n",
            "8/8 [==============================] - 0s 4ms/step - loss: 0.7113 - accuracy: 0.6860\n",
            "Epoch 62/300\n",
            "8/8 [==============================] - 0s 3ms/step - loss: 0.7053 - accuracy: 0.6694\n",
            "Epoch 63/300\n",
            "8/8 [==============================] - 0s 3ms/step - loss: 0.6965 - accuracy: 0.6860\n",
            "Epoch 64/300\n",
            "8/8 [==============================] - 0s 3ms/step - loss: 0.6902 - accuracy: 0.6694\n",
            "Epoch 65/300\n",
            "8/8 [==============================] - 0s 3ms/step - loss: 0.6807 - accuracy: 0.6818\n",
            "Epoch 66/300\n",
            "8/8 [==============================] - 0s 3ms/step - loss: 0.6797 - accuracy: 0.6901\n",
            "Epoch 67/300\n",
            "8/8 [==============================] - 0s 3ms/step - loss: 0.6625 - accuracy: 0.6818\n",
            "Epoch 68/300\n",
            "8/8 [==============================] - 0s 3ms/step - loss: 0.6619 - accuracy: 0.6901\n",
            "Epoch 69/300\n",
            "8/8 [==============================] - 0s 4ms/step - loss: 0.6750 - accuracy: 0.6653\n",
            "Epoch 70/300\n",
            "8/8 [==============================] - 0s 3ms/step - loss: 0.6458 - accuracy: 0.7190\n",
            "Epoch 71/300\n",
            "8/8 [==============================] - 0s 3ms/step - loss: 0.6406 - accuracy: 0.6942\n",
            "Epoch 72/300\n",
            "8/8 [==============================] - 0s 3ms/step - loss: 0.6284 - accuracy: 0.6983\n",
            "Epoch 73/300\n",
            "8/8 [==============================] - 0s 3ms/step - loss: 0.6245 - accuracy: 0.6983\n",
            "Epoch 74/300\n",
            "8/8 [==============================] - 0s 3ms/step - loss: 0.6137 - accuracy: 0.7066\n",
            "Epoch 75/300\n",
            "8/8 [==============================] - 0s 3ms/step - loss: 0.6117 - accuracy: 0.7107\n",
            "Epoch 76/300\n",
            "8/8 [==============================] - 0s 3ms/step - loss: 0.6020 - accuracy: 0.7107\n",
            "Epoch 77/300\n",
            "8/8 [==============================] - 0s 3ms/step - loss: 0.5965 - accuracy: 0.7149\n",
            "Epoch 78/300\n",
            "8/8 [==============================] - 0s 3ms/step - loss: 0.6036 - accuracy: 0.7025\n",
            "Epoch 79/300\n",
            "8/8 [==============================] - 0s 3ms/step - loss: 0.5946 - accuracy: 0.7231\n",
            "Epoch 80/300\n",
            "8/8 [==============================] - 0s 3ms/step - loss: 0.5744 - accuracy: 0.7273\n",
            "Epoch 81/300\n",
            "8/8 [==============================] - 0s 3ms/step - loss: 0.5950 - accuracy: 0.7314\n",
            "Epoch 82/300\n",
            "8/8 [==============================] - 0s 5ms/step - loss: 0.5763 - accuracy: 0.7231\n",
            "Epoch 83/300\n",
            "8/8 [==============================] - 0s 6ms/step - loss: 0.5684 - accuracy: 0.7190\n",
            "Epoch 84/300\n",
            "8/8 [==============================] - 0s 5ms/step - loss: 0.5637 - accuracy: 0.7355\n",
            "Epoch 85/300\n",
            "8/8 [==============================] - 0s 5ms/step - loss: 0.5596 - accuracy: 0.7355\n",
            "Epoch 86/300\n",
            "8/8 [==============================] - 0s 4ms/step - loss: 0.5561 - accuracy: 0.7314\n",
            "Epoch 87/300\n",
            "8/8 [==============================] - 0s 5ms/step - loss: 0.5492 - accuracy: 0.7355\n",
            "Epoch 88/300\n",
            "8/8 [==============================] - 0s 5ms/step - loss: 0.5468 - accuracy: 0.7355\n",
            "Epoch 89/300\n",
            "8/8 [==============================] - 0s 6ms/step - loss: 0.5445 - accuracy: 0.7438\n",
            "Epoch 90/300\n",
            "8/8 [==============================] - 0s 7ms/step - loss: 0.5392 - accuracy: 0.7397\n",
            "Epoch 91/300\n",
            "8/8 [==============================] - 0s 5ms/step - loss: 0.5331 - accuracy: 0.7479\n",
            "Epoch 92/300\n",
            "8/8 [==============================] - 0s 7ms/step - loss: 0.5362 - accuracy: 0.7149\n",
            "Epoch 93/300\n",
            "8/8 [==============================] - 0s 8ms/step - loss: 0.5281 - accuracy: 0.7603\n",
            "Epoch 94/300\n",
            "8/8 [==============================] - 0s 6ms/step - loss: 0.5250 - accuracy: 0.7479\n",
            "Epoch 95/300\n",
            "8/8 [==============================] - 0s 5ms/step - loss: 0.5188 - accuracy: 0.7479\n",
            "Epoch 96/300\n",
            "8/8 [==============================] - 0s 7ms/step - loss: 0.5185 - accuracy: 0.7686\n",
            "Epoch 97/300\n",
            "8/8 [==============================] - 0s 5ms/step - loss: 0.5152 - accuracy: 0.7603\n",
            "Epoch 98/300\n",
            "8/8 [==============================] - 0s 6ms/step - loss: 0.5114 - accuracy: 0.7645\n",
            "Epoch 99/300\n",
            "8/8 [==============================] - 0s 5ms/step - loss: 0.5114 - accuracy: 0.7314\n",
            "Epoch 100/300\n",
            "8/8 [==============================] - 0s 6ms/step - loss: 0.5135 - accuracy: 0.7810\n",
            "Epoch 101/300\n",
            "8/8 [==============================] - 0s 5ms/step - loss: 0.5170 - accuracy: 0.7355\n",
            "Epoch 102/300\n",
            "8/8 [==============================] - 0s 7ms/step - loss: 0.5027 - accuracy: 0.7851\n",
            "Epoch 103/300\n",
            "8/8 [==============================] - 0s 6ms/step - loss: 0.4987 - accuracy: 0.7893\n",
            "Epoch 104/300\n",
            "8/8 [==============================] - 0s 5ms/step - loss: 0.5034 - accuracy: 0.7355\n",
            "Epoch 105/300\n",
            "8/8 [==============================] - 0s 7ms/step - loss: 0.4898 - accuracy: 0.7810\n",
            "Epoch 106/300\n",
            "8/8 [==============================] - 0s 6ms/step - loss: 0.4905 - accuracy: 0.7975\n",
            "Epoch 107/300\n",
            "8/8 [==============================] - 0s 7ms/step - loss: 0.4824 - accuracy: 0.7851\n",
            "Epoch 108/300\n",
            "8/8 [==============================] - 0s 5ms/step - loss: 0.4816 - accuracy: 0.7851\n",
            "Epoch 109/300\n",
            "8/8 [==============================] - 0s 7ms/step - loss: 0.4818 - accuracy: 0.7769\n",
            "Epoch 110/300\n",
            "8/8 [==============================] - 0s 5ms/step - loss: 0.4752 - accuracy: 0.7851\n",
            "Epoch 111/300\n",
            "8/8 [==============================] - 0s 5ms/step - loss: 0.4918 - accuracy: 0.8017\n",
            "Epoch 112/300\n",
            "8/8 [==============================] - 0s 9ms/step - loss: 0.4717 - accuracy: 0.7727\n",
            "Epoch 113/300\n",
            "8/8 [==============================] - 0s 4ms/step - loss: 0.4731 - accuracy: 0.7893\n",
            "Epoch 114/300\n",
            "8/8 [==============================] - 0s 5ms/step - loss: 0.4668 - accuracy: 0.7975\n",
            "Epoch 115/300\n",
            "8/8 [==============================] - 0s 6ms/step - loss: 0.4676 - accuracy: 0.7893\n",
            "Epoch 116/300\n",
            "8/8 [==============================] - 0s 8ms/step - loss: 0.4731 - accuracy: 0.7851\n",
            "Epoch 117/300\n",
            "8/8 [==============================] - 0s 5ms/step - loss: 0.4617 - accuracy: 0.7893\n",
            "Epoch 118/300\n",
            "8/8 [==============================] - 0s 6ms/step - loss: 0.4615 - accuracy: 0.8017\n",
            "Epoch 119/300\n",
            "8/8 [==============================] - 0s 5ms/step - loss: 0.4777 - accuracy: 0.7645\n",
            "Epoch 120/300\n",
            "8/8 [==============================] - 0s 6ms/step - loss: 0.4631 - accuracy: 0.7975\n",
            "Epoch 121/300\n",
            "8/8 [==============================] - 0s 5ms/step - loss: 0.4630 - accuracy: 0.8017\n",
            "Epoch 122/300\n",
            "8/8 [==============================] - 0s 5ms/step - loss: 0.4524 - accuracy: 0.7893\n",
            "Epoch 123/300\n",
            "8/8 [==============================] - 0s 5ms/step - loss: 0.4507 - accuracy: 0.7851\n",
            "Epoch 124/300\n",
            "8/8 [==============================] - 0s 6ms/step - loss: 0.4495 - accuracy: 0.7934\n",
            "Epoch 125/300\n",
            "8/8 [==============================] - 0s 5ms/step - loss: 0.4426 - accuracy: 0.8017\n",
            "Epoch 126/300\n",
            "8/8 [==============================] - 0s 6ms/step - loss: 0.4446 - accuracy: 0.7934\n",
            "Epoch 127/300\n",
            "8/8 [==============================] - 0s 5ms/step - loss: 0.4572 - accuracy: 0.7934\n",
            "Epoch 128/300\n",
            "8/8 [==============================] - 0s 6ms/step - loss: 0.4442 - accuracy: 0.8058\n",
            "Epoch 129/300\n",
            "8/8 [==============================] - 0s 5ms/step - loss: 0.4334 - accuracy: 0.8058\n",
            "Epoch 130/300\n",
            "8/8 [==============================] - 0s 5ms/step - loss: 0.4360 - accuracy: 0.8017\n",
            "Epoch 131/300\n",
            "8/8 [==============================] - 0s 5ms/step - loss: 0.4335 - accuracy: 0.7934\n",
            "Epoch 132/300\n",
            "8/8 [==============================] - 0s 6ms/step - loss: 0.4316 - accuracy: 0.8058\n",
            "Epoch 133/300\n",
            "8/8 [==============================] - 0s 5ms/step - loss: 0.4354 - accuracy: 0.8017\n",
            "Epoch 134/300\n",
            "8/8 [==============================] - 0s 11ms/step - loss: 0.4293 - accuracy: 0.8099\n",
            "Epoch 135/300\n",
            "8/8 [==============================] - 0s 5ms/step - loss: 0.4276 - accuracy: 0.8099\n",
            "Epoch 136/300\n",
            "8/8 [==============================] - 0s 7ms/step - loss: 0.4267 - accuracy: 0.8099\n",
            "Epoch 137/300\n",
            "8/8 [==============================] - 0s 5ms/step - loss: 0.4229 - accuracy: 0.8099\n",
            "Epoch 138/300\n",
            "8/8 [==============================] - 0s 11ms/step - loss: 0.4301 - accuracy: 0.8058\n",
            "Epoch 139/300\n",
            "8/8 [==============================] - 0s 7ms/step - loss: 0.4434 - accuracy: 0.8058\n",
            "Epoch 140/300\n",
            "8/8 [==============================] - 0s 10ms/step - loss: 0.4446 - accuracy: 0.7934\n",
            "Epoch 141/300\n",
            "8/8 [==============================] - 0s 8ms/step - loss: 0.4114 - accuracy: 0.8182\n",
            "Epoch 142/300\n",
            "8/8 [==============================] - 0s 5ms/step - loss: 0.4246 - accuracy: 0.8099\n",
            "Epoch 143/300\n",
            "8/8 [==============================] - 0s 9ms/step - loss: 0.4241 - accuracy: 0.7934\n",
            "Epoch 144/300\n",
            "8/8 [==============================] - 0s 10ms/step - loss: 0.4170 - accuracy: 0.8182\n",
            "Epoch 145/300\n",
            "8/8 [==============================] - 0s 12ms/step - loss: 0.4219 - accuracy: 0.8099\n",
            "Epoch 146/300\n",
            "8/8 [==============================] - 0s 8ms/step - loss: 0.4126 - accuracy: 0.8140\n",
            "Epoch 147/300\n",
            "8/8 [==============================] - 0s 10ms/step - loss: 0.4138 - accuracy: 0.8140\n",
            "Epoch 148/300\n",
            "8/8 [==============================] - 0s 10ms/step - loss: 0.4206 - accuracy: 0.8058\n",
            "Epoch 149/300\n",
            "8/8 [==============================] - 0s 9ms/step - loss: 0.4081 - accuracy: 0.8058\n",
            "Epoch 150/300\n",
            "8/8 [==============================] - 0s 7ms/step - loss: 0.4152 - accuracy: 0.8058\n",
            "Epoch 151/300\n",
            "8/8 [==============================] - 0s 9ms/step - loss: 0.4116 - accuracy: 0.8182\n",
            "Epoch 152/300\n",
            "8/8 [==============================] - 0s 10ms/step - loss: 0.4093 - accuracy: 0.8140\n",
            "Epoch 153/300\n",
            "8/8 [==============================] - 0s 6ms/step - loss: 0.4098 - accuracy: 0.8223\n",
            "Epoch 154/300\n",
            "8/8 [==============================] - 0s 7ms/step - loss: 0.4021 - accuracy: 0.8223\n",
            "Epoch 155/300\n",
            "8/8 [==============================] - 0s 8ms/step - loss: 0.4099 - accuracy: 0.8223\n",
            "Epoch 156/300\n",
            "8/8 [==============================] - 0s 9ms/step - loss: 0.4120 - accuracy: 0.8140\n",
            "Epoch 157/300\n",
            "8/8 [==============================] - 0s 7ms/step - loss: 0.4085 - accuracy: 0.8347\n",
            "Epoch 158/300\n",
            "8/8 [==============================] - 0s 11ms/step - loss: 0.4088 - accuracy: 0.8182\n",
            "Epoch 159/300\n",
            "8/8 [==============================] - 0s 11ms/step - loss: 0.4174 - accuracy: 0.8182\n",
            "Epoch 160/300\n",
            "8/8 [==============================] - 0s 10ms/step - loss: 0.3996 - accuracy: 0.8264\n",
            "Epoch 161/300\n",
            "8/8 [==============================] - 0s 13ms/step - loss: 0.4105 - accuracy: 0.8140\n",
            "Epoch 162/300\n",
            "8/8 [==============================] - 0s 12ms/step - loss: 0.3981 - accuracy: 0.8430\n",
            "Epoch 163/300\n",
            "8/8 [==============================] - 0s 12ms/step - loss: 0.4017 - accuracy: 0.8223\n",
            "Epoch 164/300\n",
            "8/8 [==============================] - 0s 8ms/step - loss: 0.4112 - accuracy: 0.8182\n",
            "Epoch 165/300\n",
            "8/8 [==============================] - 0s 10ms/step - loss: 0.3973 - accuracy: 0.8223\n",
            "Epoch 166/300\n",
            "8/8 [==============================] - 0s 13ms/step - loss: 0.3931 - accuracy: 0.8306\n",
            "Epoch 167/300\n",
            "8/8 [==============================] - 0s 7ms/step - loss: 0.3963 - accuracy: 0.8306\n",
            "Epoch 168/300\n",
            "8/8 [==============================] - 0s 8ms/step - loss: 0.3960 - accuracy: 0.8306\n",
            "Epoch 169/300\n",
            "8/8 [==============================] - 0s 7ms/step - loss: 0.3978 - accuracy: 0.8347\n",
            "Epoch 170/300\n",
            "8/8 [==============================] - 0s 11ms/step - loss: 0.3994 - accuracy: 0.8264\n",
            "Epoch 171/300\n",
            "8/8 [==============================] - 0s 9ms/step - loss: 0.4012 - accuracy: 0.8182\n",
            "Epoch 172/300\n",
            "8/8 [==============================] - 0s 10ms/step - loss: 0.3899 - accuracy: 0.8430\n",
            "Epoch 173/300\n",
            "8/8 [==============================] - 0s 6ms/step - loss: 0.3950 - accuracy: 0.8388\n",
            "Epoch 174/300\n",
            "8/8 [==============================] - 0s 6ms/step - loss: 0.3887 - accuracy: 0.8306\n",
            "Epoch 175/300\n",
            "8/8 [==============================] - 0s 6ms/step - loss: 0.3876 - accuracy: 0.8471\n",
            "Epoch 176/300\n",
            "8/8 [==============================] - 0s 7ms/step - loss: 0.3873 - accuracy: 0.8471\n",
            "Epoch 177/300\n",
            "8/8 [==============================] - 0s 6ms/step - loss: 0.3878 - accuracy: 0.8471\n",
            "Epoch 178/300\n",
            "8/8 [==============================] - 0s 7ms/step - loss: 0.3870 - accuracy: 0.8388\n",
            "Epoch 179/300\n",
            "8/8 [==============================] - 0s 10ms/step - loss: 0.3896 - accuracy: 0.8512\n",
            "Epoch 180/300\n",
            "8/8 [==============================] - 0s 12ms/step - loss: 0.3930 - accuracy: 0.8264\n",
            "Epoch 181/300\n",
            "8/8 [==============================] - 0s 8ms/step - loss: 0.3897 - accuracy: 0.8388\n",
            "Epoch 182/300\n",
            "8/8 [==============================] - 0s 9ms/step - loss: 0.3839 - accuracy: 0.8430\n",
            "Epoch 183/300\n",
            "8/8 [==============================] - 0s 7ms/step - loss: 0.3878 - accuracy: 0.8388\n",
            "Epoch 184/300\n",
            "8/8 [==============================] - 0s 7ms/step - loss: 0.3885 - accuracy: 0.8388\n",
            "Epoch 185/300\n",
            "8/8 [==============================] - 0s 12ms/step - loss: 0.3831 - accuracy: 0.8512\n",
            "Epoch 186/300\n",
            "8/8 [==============================] - 0s 7ms/step - loss: 0.3838 - accuracy: 0.8471\n",
            "Epoch 187/300\n",
            "8/8 [==============================] - 0s 10ms/step - loss: 0.3837 - accuracy: 0.8554\n",
            "Epoch 188/300\n",
            "8/8 [==============================] - 0s 9ms/step - loss: 0.3949 - accuracy: 0.8388\n",
            "Epoch 189/300\n",
            "8/8 [==============================] - 0s 7ms/step - loss: 0.3832 - accuracy: 0.8471\n",
            "Epoch 190/300\n",
            "8/8 [==============================] - 0s 7ms/step - loss: 0.3808 - accuracy: 0.8512\n",
            "Epoch 191/300\n",
            "8/8 [==============================] - 0s 15ms/step - loss: 0.3809 - accuracy: 0.8471\n",
            "Epoch 192/300\n",
            "8/8 [==============================] - 0s 16ms/step - loss: 0.3899 - accuracy: 0.8388\n",
            "Epoch 193/300\n",
            "8/8 [==============================] - 0s 8ms/step - loss: 0.3793 - accuracy: 0.8430\n",
            "Epoch 194/300\n",
            "8/8 [==============================] - 0s 15ms/step - loss: 0.3784 - accuracy: 0.8554\n",
            "Epoch 195/300\n",
            "8/8 [==============================] - 0s 14ms/step - loss: 0.3935 - accuracy: 0.8512\n",
            "Epoch 196/300\n",
            "8/8 [==============================] - 0s 11ms/step - loss: 0.3785 - accuracy: 0.8471\n",
            "Epoch 197/300\n",
            "8/8 [==============================] - 0s 11ms/step - loss: 0.3809 - accuracy: 0.8471\n",
            "Epoch 198/300\n",
            "8/8 [==============================] - 0s 11ms/step - loss: 0.3785 - accuracy: 0.8512\n",
            "Epoch 199/300\n",
            "8/8 [==============================] - 0s 13ms/step - loss: 0.3784 - accuracy: 0.8471\n",
            "Epoch 200/300\n",
            "8/8 [==============================] - 0s 12ms/step - loss: 0.3781 - accuracy: 0.8595\n",
            "Epoch 201/300\n",
            "8/8 [==============================] - 0s 11ms/step - loss: 0.3854 - accuracy: 0.8595\n",
            "Epoch 202/300\n",
            "8/8 [==============================] - 0s 8ms/step - loss: 0.3821 - accuracy: 0.8223\n",
            "Epoch 203/300\n",
            "8/8 [==============================] - 0s 10ms/step - loss: 0.3797 - accuracy: 0.8430\n",
            "Epoch 204/300\n",
            "8/8 [==============================] - 0s 7ms/step - loss: 0.3759 - accuracy: 0.8636\n",
            "Epoch 205/300\n",
            "8/8 [==============================] - 0s 8ms/step - loss: 0.3802 - accuracy: 0.8388\n",
            "Epoch 206/300\n",
            "8/8 [==============================] - 0s 8ms/step - loss: 0.3814 - accuracy: 0.8347\n",
            "Epoch 207/300\n",
            "8/8 [==============================] - 0s 9ms/step - loss: 0.3825 - accuracy: 0.8512\n",
            "Epoch 208/300\n",
            "8/8 [==============================] - 0s 7ms/step - loss: 0.3783 - accuracy: 0.8595\n",
            "Epoch 209/300\n",
            "8/8 [==============================] - 0s 6ms/step - loss: 0.3730 - accuracy: 0.8471\n",
            "Epoch 210/300\n",
            "8/8 [==============================] - 0s 6ms/step - loss: 0.3811 - accuracy: 0.8471\n",
            "Epoch 211/300\n",
            "8/8 [==============================] - 0s 6ms/step - loss: 0.3847 - accuracy: 0.8347\n",
            "Epoch 212/300\n",
            "8/8 [==============================] - 0s 7ms/step - loss: 0.3790 - accuracy: 0.8388\n",
            "Epoch 213/300\n",
            "8/8 [==============================] - 0s 6ms/step - loss: 0.3798 - accuracy: 0.8554\n",
            "Epoch 214/300\n",
            "8/8 [==============================] - 0s 6ms/step - loss: 0.3771 - accuracy: 0.8512\n",
            "Epoch 215/300\n",
            "8/8 [==============================] - 0s 7ms/step - loss: 0.3683 - accuracy: 0.8512\n",
            "Epoch 216/300\n",
            "8/8 [==============================] - 0s 7ms/step - loss: 0.3819 - accuracy: 0.8430\n",
            "Epoch 217/300\n",
            "8/8 [==============================] - 0s 7ms/step - loss: 0.3813 - accuracy: 0.8388\n",
            "Epoch 218/300\n",
            "8/8 [==============================] - 0s 7ms/step - loss: 0.3860 - accuracy: 0.8430\n",
            "Epoch 219/300\n",
            "8/8 [==============================] - 0s 7ms/step - loss: 0.3756 - accuracy: 0.8471\n",
            "Epoch 220/300\n",
            "8/8 [==============================] - 0s 5ms/step - loss: 0.3872 - accuracy: 0.8430\n",
            "Epoch 221/300\n",
            "8/8 [==============================] - 0s 8ms/step - loss: 0.3881 - accuracy: 0.8388\n",
            "Epoch 222/300\n",
            "8/8 [==============================] - 0s 5ms/step - loss: 0.3823 - accuracy: 0.8512\n",
            "Epoch 223/300\n",
            "8/8 [==============================] - 0s 5ms/step - loss: 0.3737 - accuracy: 0.8471\n",
            "Epoch 224/300\n",
            "8/8 [==============================] - 0s 5ms/step - loss: 0.3698 - accuracy: 0.8512\n",
            "Epoch 225/300\n",
            "8/8 [==============================] - 0s 5ms/step - loss: 0.3782 - accuracy: 0.8430\n",
            "Epoch 226/300\n",
            "8/8 [==============================] - 0s 5ms/step - loss: 0.4025 - accuracy: 0.8264\n",
            "Epoch 227/300\n",
            "8/8 [==============================] - 0s 5ms/step - loss: 0.3971 - accuracy: 0.8223\n",
            "Epoch 228/300\n",
            "8/8 [==============================] - 0s 5ms/step - loss: 0.3972 - accuracy: 0.8306\n",
            "Epoch 229/300\n",
            "8/8 [==============================] - 0s 5ms/step - loss: 0.3941 - accuracy: 0.8388\n",
            "Epoch 230/300\n",
            "8/8 [==============================] - 0s 5ms/step - loss: 0.3729 - accuracy: 0.8554\n",
            "Epoch 231/300\n",
            "8/8 [==============================] - 0s 5ms/step - loss: 0.3678 - accuracy: 0.8595\n",
            "Epoch 232/300\n",
            "8/8 [==============================] - 0s 6ms/step - loss: 0.3689 - accuracy: 0.8595\n",
            "Epoch 233/300\n",
            "8/8 [==============================] - 0s 6ms/step - loss: 0.3720 - accuracy: 0.8512\n",
            "Epoch 234/300\n",
            "8/8 [==============================] - 0s 5ms/step - loss: 0.3724 - accuracy: 0.8512\n",
            "Epoch 235/300\n",
            "8/8 [==============================] - 0s 6ms/step - loss: 0.3728 - accuracy: 0.8430\n",
            "Epoch 236/300\n",
            "8/8 [==============================] - 0s 7ms/step - loss: 0.3720 - accuracy: 0.8636\n",
            "Epoch 237/300\n",
            "8/8 [==============================] - 0s 5ms/step - loss: 0.3678 - accuracy: 0.8636\n",
            "Epoch 238/300\n",
            "8/8 [==============================] - 0s 5ms/step - loss: 0.3692 - accuracy: 0.8595\n",
            "Epoch 239/300\n",
            "8/8 [==============================] - 0s 6ms/step - loss: 0.3692 - accuracy: 0.8554\n",
            "Epoch 240/300\n",
            "8/8 [==============================] - 0s 5ms/step - loss: 0.3720 - accuracy: 0.8554\n",
            "Epoch 241/300\n",
            "8/8 [==============================] - 0s 5ms/step - loss: 0.3729 - accuracy: 0.8471\n",
            "Epoch 242/300\n",
            "8/8 [==============================] - 0s 5ms/step - loss: 0.3793 - accuracy: 0.8430\n",
            "Epoch 243/300\n",
            "8/8 [==============================] - 0s 5ms/step - loss: 0.3906 - accuracy: 0.8264\n",
            "Epoch 244/300\n",
            "8/8 [==============================] - 0s 6ms/step - loss: 0.3714 - accuracy: 0.8388\n",
            "Epoch 245/300\n",
            "8/8 [==============================] - 0s 6ms/step - loss: 0.3722 - accuracy: 0.8595\n",
            "Epoch 246/300\n",
            "8/8 [==============================] - 0s 4ms/step - loss: 0.3658 - accuracy: 0.8595\n",
            "Epoch 247/300\n",
            "8/8 [==============================] - 0s 6ms/step - loss: 0.3683 - accuracy: 0.8554\n",
            "Epoch 248/300\n",
            "8/8 [==============================] - 0s 6ms/step - loss: 0.3651 - accuracy: 0.8554\n",
            "Epoch 249/300\n",
            "8/8 [==============================] - 0s 5ms/step - loss: 0.3691 - accuracy: 0.8512\n",
            "Epoch 250/300\n",
            "8/8 [==============================] - 0s 6ms/step - loss: 0.3879 - accuracy: 0.8264\n",
            "Epoch 251/300\n",
            "8/8 [==============================] - 0s 6ms/step - loss: 0.3888 - accuracy: 0.8223\n",
            "Epoch 252/300\n",
            "8/8 [==============================] - 0s 5ms/step - loss: 0.3655 - accuracy: 0.8388\n",
            "Epoch 253/300\n",
            "8/8 [==============================] - 0s 7ms/step - loss: 0.3688 - accuracy: 0.8512\n",
            "Epoch 254/300\n",
            "8/8 [==============================] - 0s 7ms/step - loss: 0.3644 - accuracy: 0.8636\n",
            "Epoch 255/300\n",
            "8/8 [==============================] - 0s 10ms/step - loss: 0.3702 - accuracy: 0.8554\n",
            "Epoch 256/300\n",
            "8/8 [==============================] - 0s 6ms/step - loss: 0.3712 - accuracy: 0.8719\n",
            "Epoch 257/300\n",
            "8/8 [==============================] - 0s 6ms/step - loss: 0.3729 - accuracy: 0.8347\n",
            "Epoch 258/300\n",
            "8/8 [==============================] - 0s 6ms/step - loss: 0.3684 - accuracy: 0.8595\n",
            "Epoch 259/300\n",
            "8/8 [==============================] - 0s 5ms/step - loss: 0.3776 - accuracy: 0.8430\n",
            "Epoch 260/300\n",
            "8/8 [==============================] - 0s 5ms/step - loss: 0.3732 - accuracy: 0.8595\n",
            "Epoch 261/300\n",
            "8/8 [==============================] - 0s 6ms/step - loss: 0.3706 - accuracy: 0.8554\n",
            "Epoch 262/300\n",
            "8/8 [==============================] - 0s 7ms/step - loss: 0.3674 - accuracy: 0.8471\n",
            "Epoch 263/300\n",
            "8/8 [==============================] - 0s 6ms/step - loss: 0.3680 - accuracy: 0.8636\n",
            "Epoch 264/300\n",
            "8/8 [==============================] - 0s 5ms/step - loss: 0.3674 - accuracy: 0.8554\n",
            "Epoch 265/300\n",
            "8/8 [==============================] - 0s 6ms/step - loss: 0.3640 - accuracy: 0.8595\n",
            "Epoch 266/300\n",
            "8/8 [==============================] - 0s 6ms/step - loss: 0.3638 - accuracy: 0.8595\n",
            "Epoch 267/300\n",
            "8/8 [==============================] - 0s 5ms/step - loss: 0.3674 - accuracy: 0.8636\n",
            "Epoch 268/300\n",
            "8/8 [==============================] - 0s 6ms/step - loss: 0.3740 - accuracy: 0.8471\n",
            "Epoch 269/300\n",
            "8/8 [==============================] - 0s 5ms/step - loss: 0.3651 - accuracy: 0.8512\n",
            "Epoch 270/300\n",
            "8/8 [==============================] - 0s 6ms/step - loss: 0.3795 - accuracy: 0.8430\n",
            "Epoch 271/300\n",
            "8/8 [==============================] - 0s 5ms/step - loss: 0.3701 - accuracy: 0.8512\n",
            "Epoch 272/300\n",
            "8/8 [==============================] - 0s 6ms/step - loss: 0.3657 - accuracy: 0.8636\n",
            "Epoch 273/300\n",
            "8/8 [==============================] - 0s 6ms/step - loss: 0.3646 - accuracy: 0.8554\n",
            "Epoch 274/300\n",
            "8/8 [==============================] - 0s 6ms/step - loss: 0.3660 - accuracy: 0.8512\n",
            "Epoch 275/300\n",
            "8/8 [==============================] - 0s 6ms/step - loss: 0.3747 - accuracy: 0.8306\n",
            "Epoch 276/300\n",
            "8/8 [==============================] - 0s 11ms/step - loss: 0.3720 - accuracy: 0.8471\n",
            "Epoch 277/300\n",
            "8/8 [==============================] - 0s 7ms/step - loss: 0.3701 - accuracy: 0.8636\n",
            "Epoch 278/300\n",
            "8/8 [==============================] - 0s 4ms/step - loss: 0.3631 - accuracy: 0.8554\n",
            "Epoch 279/300\n",
            "8/8 [==============================] - 0s 5ms/step - loss: 0.3655 - accuracy: 0.8554\n",
            "Epoch 280/300\n",
            "8/8 [==============================] - 0s 5ms/step - loss: 0.3630 - accuracy: 0.8595\n",
            "Epoch 281/300\n",
            "8/8 [==============================] - 0s 5ms/step - loss: 0.3622 - accuracy: 0.8595\n",
            "Epoch 282/300\n",
            "8/8 [==============================] - 0s 5ms/step - loss: 0.3649 - accuracy: 0.8636\n",
            "Epoch 283/300\n",
            "8/8 [==============================] - 0s 5ms/step - loss: 0.3616 - accuracy: 0.8678\n",
            "Epoch 284/300\n",
            "8/8 [==============================] - 0s 5ms/step - loss: 0.3737 - accuracy: 0.8595\n",
            "Epoch 285/300\n",
            "8/8 [==============================] - 0s 6ms/step - loss: 0.3722 - accuracy: 0.8347\n",
            "Epoch 286/300\n",
            "8/8 [==============================] - 0s 5ms/step - loss: 0.3757 - accuracy: 0.8388\n",
            "Epoch 287/300\n",
            "8/8 [==============================] - 0s 6ms/step - loss: 0.3931 - accuracy: 0.8182\n",
            "Epoch 288/300\n",
            "8/8 [==============================] - 0s 6ms/step - loss: 0.3910 - accuracy: 0.8264\n",
            "Epoch 289/300\n",
            "8/8 [==============================] - 0s 7ms/step - loss: 0.3926 - accuracy: 0.8099\n",
            "Epoch 290/300\n",
            "8/8 [==============================] - 0s 10ms/step - loss: 0.3917 - accuracy: 0.8430\n",
            "Epoch 291/300\n",
            "8/8 [==============================] - 0s 13ms/step - loss: 0.3691 - accuracy: 0.8554\n",
            "Epoch 292/300\n",
            "8/8 [==============================] - 0s 7ms/step - loss: 0.3587 - accuracy: 0.8678\n",
            "Epoch 293/300\n",
            "8/8 [==============================] - 0s 7ms/step - loss: 0.3614 - accuracy: 0.8678\n",
            "Epoch 294/300\n",
            "8/8 [==============================] - 0s 7ms/step - loss: 0.3597 - accuracy: 0.8595\n",
            "Epoch 295/300\n",
            "8/8 [==============================] - 0s 5ms/step - loss: 0.3611 - accuracy: 0.8678\n",
            "Epoch 296/300\n",
            "8/8 [==============================] - 0s 5ms/step - loss: 0.3667 - accuracy: 0.8430\n",
            "Epoch 297/300\n",
            "8/8 [==============================] - 0s 6ms/step - loss: 0.3661 - accuracy: 0.8595\n",
            "Epoch 298/300\n",
            "8/8 [==============================] - 0s 9ms/step - loss: 0.3643 - accuracy: 0.8595\n",
            "Epoch 299/300\n",
            "8/8 [==============================] - 0s 13ms/step - loss: 0.3636 - accuracy: 0.8512\n",
            "Epoch 300/300\n",
            "8/8 [==============================] - 0s 11ms/step - loss: 0.3600 - accuracy: 0.8636\n"
          ]
        },
        {
          "output_type": "execute_result",
          "data": {
            "text/plain": [
              "<keras.src.callbacks.History at 0x78a31c092710>"
            ]
          },
          "metadata": {},
          "execution_count": 35
        }
      ],
      "source": [
        "model.fit(X_train, Y_train, epochs=300)"
      ]
    },
    {
      "cell_type": "code",
      "execution_count": 36,
      "metadata": {
        "colab": {
          "base_uri": "https://localhost:8080/"
        },
        "id": "R4RWhbjkw_bc",
        "outputId": "4acc16dc-99d8-4579-bee4-d6eb094cc93c"
      },
      "outputs": [
        {
          "output_type": "stream",
          "name": "stdout",
          "text": [
            "2/2 [==============================] - 0s 6ms/step\n",
            "The accuracy score achieved using Neural Network is: 81.97%\n"
          ]
        }
      ],
      "source": [
        "Y_pred_nn = model.predict(X_test)\n",
        "rounded = [round(x[0]) for x in Y_pred_nn]\n",
        "Y_pred_nn = rounded\n",
        "score_nn = round(accuracy_score(Y_pred_nn, Y_test)*100,2)\n",
        "print(\"The accuracy score achieved using Neural Network is: \"+str(score_nn)+\"%\")"
      ]
    },
    {
      "cell_type": "markdown",
      "metadata": {
        "id": "Y9ob6hjFyKDC"
      },
      "source": [
        "# **VI. Output final score**"
      ]
    },
    {
      "cell_type": "code",
      "execution_count": 37,
      "metadata": {
        "colab": {
          "base_uri": "https://localhost:8080/"
        },
        "id": "Mvm_3hTHyX7v",
        "outputId": "e871870e-a4aa-4bff-f456-cd4ab2e64547"
      },
      "outputs": [
        {
          "output_type": "stream",
          "name": "stdout",
          "text": [
            "The accuracy score achieved using Logistic Regression is: 85.25%\n",
            "The accuracy score achieved using SVM is: 81.97%\n",
            "The accuracy score achieved using KNN is: 67.21%\n",
            "The accuracy score achieved using Decision Tree is: 81.97%\n",
            "The accuracy score achieved using Random Forest is: 90.16%\n",
            "The accuracy score achieved using XGBoost is: 83.61%\n",
            "The accuracy score achieved using Neural Networks is: 81.97%\n"
          ]
        }
      ],
      "source": [
        "scores = [score_lr, score_svm, score_knn, score_dt, score_rf, score_xgb, score_nn]\n",
        "algorithms = [\"Logistic Regression\",\"SVM\",\"KNN\",\"Decision Tree\",\"Random Forest\",\"XGBoost\",\"Neural Networks\"]\n",
        "for i in range(len(algorithms)):\n",
        "  print(\"The accuracy score achieved using \"+algorithms[i]+\" is: \"+str(scores[i])+\"%\")"
      ]
    },
    {
      "cell_type": "code",
      "execution_count": 38,
      "metadata": {
        "colab": {
          "base_uri": "https://localhost:8080/",
          "height": 396
        },
        "id": "JAFoG0NN1ra4",
        "outputId": "22ef8960-78b8-4cf2-912d-90c5dd9e6b35"
      },
      "outputs": [
        {
          "output_type": "display_data",
          "data": {
            "text/plain": [
              "<Figure size 1000x400 with 1 Axes>"
            ],
            "image/png": "[encoded data removed]"
          },
          "metadata": {}
        }
      ],
      "source": [
        "sns.set(rc={'figure.figsize':(10,4)})\n",
        "plt.xlabel(\"Algorithms\")\n",
        "plt.ylabel(\"Accuracy score\")\n",
        "sns.barplot(x=algorithms, y=scores)\n",
        "plt.show()"
      ]
    },
    {
      "cell_type": "markdown",
      "metadata": {
        "id": "oh7eYJ6p4C4J"
      },
      "source": [
        "Therefore, Random Forest has good result when compared to other algorithms."
      ]
    },
    {
      "cell_type": "markdown",
      "metadata": {
        "id": "xs5dR2Sa8_U9"
      },
      "source": [
        "## **VII. Prediction on New Data**"
      ]
    },
    {
      "cell_type": "code",
      "execution_count": 39,
      "metadata": {
        "id": "gJTj7zBp8p1k"
      },
      "outputs": [],
      "source": [
        "new_data = pd.DataFrame({\n",
        "    'age':52,\n",
        "    'sex':1,\n",
        "    'cp':0,\n",
        "    'trestbps':125,\n",
        "    'chol':212,\n",
        "    'fbs':0,\n",
        "    'restecg':1,\n",
        "    'thalach':168,\n",
        "    'exang':0,\n",
        "    'oldpeak':1.0,\n",
        "     'slope':2,\n",
        "    'ca':2,\n",
        "    'thal':3,\n",
        "},index=[0])"
      ]
    },
    {
      "cell_type": "code",
      "execution_count": 40,
      "metadata": {
        "colab": {
          "base_uri": "https://localhost:8080/",
          "height": 89
        },
        "id": "IyzvAejQ9Qec",
        "outputId": "3bed7d08-59b9-4e2d-b87e-560da6b3478e"
      },
      "outputs": [
        {
          "output_type": "execute_result",
          "data": {
            "text/plain": [
              "   age  sex  cp  trestbps  chol  fbs  restecg  thalach  exang  oldpeak  slope  \\\n",
              "0   52    1   0       125   212    0        1      168      0      1.0      2   \n",
              "\n",
              "   ca  thal  \n",
              "0   2     3  "
            ],
            "text/html": [
              "\n",
              "  <div id=\"df-295c5102-2035-4626-a6d5-b973ebefc7bf\" class=\"colab-df-container\">\n",
              "    <div>\n",
              "<style scoped>\n",
              "    .dataframe tbody tr th:only-of-type {\n",
              "        vertical-align: middle;\n",
              "    }\n",
              "\n",
              "    .dataframe tbody tr th {\n",
              "        vertical-align: top;\n",
              "    }\n",
              "\n",
              "    .dataframe thead th {\n",
              "        text-align: right;\n",
              "    }\n",
              "</style>\n",
              "<table border=\"1\" class=\"dataframe\">\n",
              "  <thead>\n",
              "    <tr style=\"text-align: right;\">\n",
              "      <th></th>\n",
              "      <th>age</th>\n",
              "      <th>sex</th>\n",
              "      <th>cp</th>\n",
              "      <th>trestbps</th>\n",
              "      <th>chol</th>\n",
              "      <th>fbs</th>\n",
              "      <th>restecg</th>\n",
              "      <th>thalach</th>\n",
              "      <th>exang</th>\n",
              "      <th>oldpeak</th>\n",
              "      <th>slope</th>\n",
              "      <th>ca</th>\n",
              "      <th>thal</th>\n",
              "    </tr>\n",
              "  </thead>\n",
              "  <tbody>\n",
              "    <tr>\n",
              "      <th>0</th>\n",
              "      <td>52</td>\n",
              "      <td>1</td>\n",
              "      <td>0</td>\n",
              "      <td>125</td>\n",
              "      <td>212</td>\n",
              "      <td>0</td>\n",
              "      <td>1</td>\n",
              "      <td>168</td>\n",
              "      <td>0</td>\n",
              "      <td>1.0</td>\n",
              "      <td>2</td>\n",
              "      <td>2</td>\n",
              "      <td>3</td>\n",
              "    </tr>\n",
              "  </tbody>\n",
              "</table>\n",
              "</div>\n",
              "    <div class=\"colab-df-buttons\">\n",
              "\n",
              "  <div class=\"colab-df-container\">\n",
              "    <button class=\"colab-df-convert\" onclick=\"convertToInteractive('df-295c5102-2035-4626-a6d5-b973ebefc7bf')\"\n",
              "            title=\"Convert this dataframe to an interactive table.\"\n",
              "            style=\"display:none;\">\n",
              "\n",
              "  <svg xmlns=\"http://www.w3.org/2000/svg\" height=\"24px\" viewBox=\"0 -960 960 960\">\n",
              "    <path d=\"M120-120v-720h720v720H120Zm60-500h600v-160H180v160Zm220 220h160v-160H400v160Zm0 220h160v-160H400v160ZM180-400h160v-160H180v160Zm440 0h160v-160H620v160ZM180-180h160v-160H180v160Zm440 0h160v-160H620v160Z\"/>\n",
              "  </svg>\n",
              "    </button>\n",
              "\n",
              "  <style>\n",
              "    .colab-df-container {\n",
              "      display:flex;\n",
              "      gap: 12px;\n",
              "    }\n",
              "\n",
              "    .colab-df-convert {\n",
              "      background-color: #E8F0FE;\n",
              "      border: none;\n",
              "      border-radius: 50%;\n",
              "      cursor: pointer;\n",
              "      display: none;\n",
              "      fill: #1967D2;\n",
              "      height: 32px;\n",
              "      padding: 0 0 0 0;\n",
              "      width: 32px;\n",
              "    }\n",
              "\n",
              "    .colab-df-convert:hover {\n",
              "      background-color: #E2EBFA;\n",
              "      box-shadow: 0px 1px 2px rgba(60, 64, 67, 0.3), 0px 1px 3px 1px rgba(60, 64, 67, 0.15);\n",
              "      fill: #174EA6;\n",
              "    }\n",
              "\n",
              "    .colab-df-buttons div {\n",
              "      margin-bottom: 4px;\n",
              "    }\n",
              "\n",
              "    [theme=dark] .colab-df-convert {\n",
              "      background-color: #3B4455;\n",
              "      fill: #D2E3FC;\n",
              "    }\n",
              "\n",
              "    [theme=dark] .colab-df-convert:hover {\n",
              "      background-color: #434B5C;\n",
              "      box-shadow: 0px 1px 3px 1px rgba(0, 0, 0, 0.15);\n",
              "      filter: drop-shadow(0px 1px 2px rgba(0, 0, 0, 0.3));\n",
              "      fill: #FFFFFF;\n",
              "    }\n",
              "  </style>\n",
              "\n",
              "    <script>\n",
              "      const buttonEl =\n",
              "        document.querySelector('#df-295c5102-2035-4626-a6d5-b973ebefc7bf button.colab-df-convert');\n",
              "      buttonEl.style.display =\n",
              "        google.colab.kernel.accessAllowed ? 'block' : 'none';\n",
              "\n",
              "      async function convertToInteractive(key) {\n",
              "        const element = document.querySelector('#df-295c5102-2035-4626-a6d5-b973ebefc7bf');\n",
              "        const dataTable =\n",
              "          await google.colab.kernel.invokeFunction('convertToInteractive',\n",
              "                                                    [key], {});\n",
              "        if (!dataTable) return;\n",
              "\n",
              "        const docLinkHtml = 'Like what you see? Visit the ' +\n",
              "          '<a target=\"_blank\" href=https://colab.research.google.com/notebooks/data_table.ipynb>data table notebook</a>'\n",
              "          + ' to learn more about interactive tables.';\n",
              "        element.innerHTML = '';\n",
              "        dataTable['output_type'] = 'display_data';\n",
              "        await google.colab.output.renderOutput(dataTable, element);\n",
              "        const docLink = document.createElement('div');\n",
              "        docLink.innerHTML = docLinkHtml;\n",
              "        element.appendChild(docLink);\n",
              "      }\n",
              "    </script>\n",
              "  </div>\n",
              "\n",
              "\n",
              "  <div id=\"id_92d14a2d-e8c5-47a1-b50a-9a8c2a17ed8a\">\n",
              "    <style>\n",
              "      .colab-df-generate {\n",
              "        background-color: #E8F0FE;\n",
              "        border: none;\n",
              "        border-radius: 50%;\n",
              "        cursor: pointer;\n",
              "        display: none;\n",
              "        fill: #1967D2;\n",
              "        height: 32px;\n",
              "        padding: 0 0 0 0;\n",
              "        width: 32px;\n",
              "      }\n",
              "\n",
              "      .colab-df-generate:hover {\n",
              "        background-color: #E2EBFA;\n",
              "        box-shadow: 0px 1px 2px rgba(60, 64, 67, 0.3), 0px 1px 3px 1px rgba(60, 64, 67, 0.15);\n",
              "        fill: #174EA6;\n",
              "      }\n",
              "\n",
              "      [theme=dark] .colab-df-generate {\n",
              "        background-color: #3B4455;\n",
              "        fill: #D2E3FC;\n",
              "      }\n",
              "\n",
              "      [theme=dark] .colab-df-generate:hover {\n",
              "        background-color: #434B5C;\n",
              "        box-shadow: 0px 1px 3px 1px rgba(0, 0, 0, 0.15);\n",
              "        filter: drop-shadow(0px 1px 2px rgba(0, 0, 0, 0.3));\n",
              "        fill: #FFFFFF;\n",
              "      }\n",
              "    </style>\n",
              "    <button class=\"colab-df-generate\" onclick=\"generateWithVariable('new_data')\"\n",
              "            title=\"Generate code using this dataframe.\"\n",
              "            style=\"display:none;\">\n",
              "\n",
              "  <svg xmlns=\"http://www.w3.org/2000/svg\" height=\"24px\"viewBox=\"0 0 24 24\"\n",
              "       width=\"24px\">\n",
              "    <path d=\"M7,19H8.4L18.45,9,17,7.55,7,17.6ZM5,21V16.75L18.45,3.32a2,2,0,0,1,2.83,0l1.4,1.43a1.91,1.91,0,0,1,.58,1.4,1.91,1.91,0,0,1-.58,1.4L9.25,21ZM18.45,9,17,7.55Zm-12,3A5.31,5.31,0,0,0,4.9,8.1,5.31,5.31,0,0,0,1,6.5,5.31,5.31,0,0,0,4.9,4.9,5.31,5.31,0,0,0,6.5,1,5.31,5.31,0,0,0,8.1,4.9,5.31,5.31,0,0,0,12,6.5,5.46,5.46,0,0,0,6.5,12Z\"/>\n",
              "  </svg>\n",
              "    </button>\n",
              "    <script>\n",
              "      (() => {\n",
              "      const buttonEl =\n",
              "        document.querySelector('#id_92d14a2d-e8c5-47a1-b50a-9a8c2a17ed8a button.colab-df-generate');\n",
              "      buttonEl.style.display =\n",
              "        google.colab.kernel.accessAllowed ? 'block' : 'none';\n",
              "\n",
              "      buttonEl.onclick = () => {\n",
              "        google.colab.notebook.generateWithVariable('new_data');\n",
              "      }\n",
              "      })();\n",
              "    </script>\n",
              "  </div>\n",
              "\n",
              "    </div>\n",
              "  </div>\n"
            ],
            "application/vnd.google.colaboratory.intrinsic+json": {
              "type": "dataframe",
              "variable_name": "new_data",
              "summary": "{\n  \"name\": \"new_data\",\n  \"rows\": 1,\n  \"fields\": [\n    {\n      \"column\": \"age\",\n      \"properties\": {\n        \"dtype\": \"number\",\n        \"std\": null,\n        \"min\": 52,\n        \"max\": 52,\n        \"num_unique_values\": 1,\n        \"samples\": [\n          52\n        ],\n        \"semantic_type\": \"\",\n        \"description\": \"\"\n      }\n    },\n    {\n      \"column\": \"sex\",\n      \"properties\": {\n        \"dtype\": \"number\",\n        \"std\": null,\n        \"min\": 1,\n        \"max\": 1,\n        \"num_unique_values\": 1,\n        \"samples\": [\n          1\n        ],\n        \"semantic_type\": \"\",\n        \"description\": \"\"\n      }\n    },\n    {\n      \"column\": \"cp\",\n      \"properties\": {\n        \"dtype\": \"number\",\n        \"std\": null,\n        \"min\": 0,\n        \"max\": 0,\n        \"num_unique_values\": 1,\n        \"samples\": [\n          0\n        ],\n        \"semantic_type\": \"\",\n        \"description\": \"\"\n      }\n    },\n    {\n      \"column\": \"trestbps\",\n      \"properties\": {\n        \"dtype\": \"number\",\n        \"std\": null,\n        \"min\": 125,\n        \"max\": 125,\n        \"num_unique_values\": 1,\n        \"samples\": [\n          125\n        ],\n        \"semantic_type\": \"\",\n        \"description\": \"\"\n      }\n    },\n    {\n      \"column\": \"chol\",\n      \"properties\": {\n        \"dtype\": \"number\",\n        \"std\": null,\n        \"min\": 212,\n        \"max\": 212,\n        \"num_unique_values\": 1,\n        \"samples\": [\n          212\n        ],\n        \"semantic_type\": \"\",\n        \"description\": \"\"\n      }\n    },\n    {\n      \"column\": \"fbs\",\n      \"properties\": {\n        \"dtype\": \"number\",\n        \"std\": null,\n        \"min\": 0,\n        \"max\": 0,\n        \"num_unique_values\": 1,\n        \"samples\": [\n          0\n        ],\n        \"semantic_type\": \"\",\n        \"description\": \"\"\n      }\n    },\n    {\n      \"column\": \"restecg\",\n      \"properties\": {\n        \"dtype\": \"number\",\n        \"std\": null,\n        \"min\": 1,\n        \"max\": 1,\n        \"num_unique_values\": 1,\n        \"samples\": [\n          1\n        ],\n        \"semantic_type\": \"\",\n        \"description\": \"\"\n      }\n    },\n    {\n      \"column\": \"thalach\",\n      \"properties\": {\n        \"dtype\": \"number\",\n        \"std\": null,\n        \"min\": 168,\n        \"max\": 168,\n        \"num_unique_values\": 1,\n        \"samples\": [\n          168\n        ],\n        \"semantic_type\": \"\",\n        \"description\": \"\"\n      }\n    },\n    {\n      \"column\": \"exang\",\n      \"properties\": {\n        \"dtype\": \"number\",\n        \"std\": null,\n        \"min\": 0,\n        \"max\": 0,\n        \"num_unique_values\": 1,\n        \"samples\": [\n          0\n        ],\n        \"semantic_type\": \"\",\n        \"description\": \"\"\n      }\n    },\n    {\n      \"column\": \"oldpeak\",\n      \"properties\": {\n        \"dtype\": \"number\",\n        \"std\": null,\n        \"min\": 1.0,\n        \"max\": 1.0,\n        \"num_unique_values\": 1,\n        \"samples\": [\n          1.0\n        ],\n        \"semantic_type\": \"\",\n        \"description\": \"\"\n      }\n    },\n    {\n      \"column\": \"slope\",\n      \"properties\": {\n        \"dtype\": \"number\",\n        \"std\": null,\n        \"min\": 2,\n        \"max\": 2,\n        \"num_unique_values\": 1,\n        \"samples\": [\n          2\n        ],\n        \"semantic_type\": \"\",\n        \"description\": \"\"\n      }\n    },\n    {\n      \"column\": \"ca\",\n      \"properties\": {\n        \"dtype\": \"number\",\n        \"std\": null,\n        \"min\": 2,\n        \"max\": 2,\n        \"num_unique_values\": 1,\n        \"samples\": [\n          2\n        ],\n        \"semantic_type\": \"\",\n        \"description\": \"\"\n      }\n    },\n    {\n      \"column\": \"thal\",\n      \"properties\": {\n        \"dtype\": \"number\",\n        \"std\": null,\n        \"min\": 3,\n        \"max\": 3,\n        \"num_unique_values\": 1,\n        \"samples\": [\n          3\n        ],\n        \"semantic_type\": \"\",\n        \"description\": \"\"\n      }\n    }\n  ]\n}"
            }
          },
          "metadata": {},
          "execution_count": 40
        }
      ],
      "source": [
        "new_data"
      ]
    },
    {
      "cell_type": "code",
      "execution_count": 41,
      "metadata": {
        "colab": {
          "base_uri": "https://localhost:8080/"
        },
        "id": "iJx0zBR78u9z",
        "outputId": "8400bc33-b255-489c-c6d2-252cc6d8af9e"
      },
      "outputs": [
        {
          "output_type": "stream",
          "name": "stdout",
          "text": [
            "No Disease\n"
          ]
        }
      ],
      "source": [
        "p = rf.predict(new_data)\n",
        "if p[0]==0:\n",
        "  print(\"No Disease\")\n",
        "else:\n",
        "  print(\"Disease\")"
      ]
    },
    {
      "cell_type": "markdown",
      "metadata": {
        "id": "IA6VHqmp9Vnu"
      },
      "source": [
        "## **VIII. Save Model Using Joblib**"
      ]
    },
    {
      "cell_type": "code",
      "execution_count": 42,
      "metadata": {
        "colab": {
          "base_uri": "https://localhost:8080/"
        },
        "id": "8CuQW3OL9d9f",
        "outputId": "373243ec-03a9-4b56-b265-335a12383924"
      },
      "outputs": [
        {
          "output_type": "execute_result",
          "data": {
            "text/plain": [
              "['trained_model.joblib']"
            ]
          },
          "metadata": {},
          "execution_count": 42
        }
      ],
      "source": [
        "import joblib\n",
        "joblib.dump(rf,'trained_model.joblib')"
      ]
    },
    {
      "cell_type": "code",
      "execution_count": 43,
      "metadata": {
        "colab": {
          "base_uri": "https://localhost:8080/",
          "height": 17
        },
        "id": "o2i_VgEXo3kk",
        "outputId": "bc6e9ac1-b091-4d91-e6e0-f43096bcb2d1"
      },
      "outputs": [
        {
          "output_type": "display_data",
          "data": {
            "text/plain": [
              "<IPython.core.display.Javascript object>"
            ],
            "application/javascript": [
              "\n",
              "    async function download(id, filename, size) {\n",
              "      if (!google.colab.kernel.accessAllowed) {\n",
              "        return;\n",
              "      }\n",
              "      const div = document.createElement('div');\n",
              "      const label = document.createElement('label');\n",
              "      label.textContent = `Downloading \"${filename}\": `;\n",
              "      div.appendChild(label);\n",
              "      const progress = document.createElement('progress');\n",
              "      progress.max = size;\n",
              "      div.appendChild(progress);\n",
              "      document.body.appendChild(div);\n",
              "\n",
              "      const buffers = [];\n",
              "      let downloaded = 0;\n",
              "\n",
              "      const channel = await google.colab.kernel.comms.open(id);\n",
              "      // Send a message to notify the kernel that we're ready.\n",
              "      channel.send({})\n",
              "\n",
              "      for await (const message of channel.messages) {\n",
              "        // Send a message to notify the kernel that we're ready.\n",
              "        channel.send({})\n",
              "        if (message.buffers) {\n",
              "          for (const buffer of message.buffers) {\n",
              "            buffers.push(buffer);\n",
              "            downloaded += buffer.byteLength;\n",
              "            progress.value = downloaded;\n",
              "          }\n",
              "        }\n",
              "      }\n",
              "      const blob = new Blob(buffers, {type: 'application/binary'});\n",
              "      const a = document.createElement('a');\n",
              "      a.href = window.URL.createObjectURL(blob);\n",
              "      a.download = filename;\n",
              "      div.appendChild(a);\n",
              "      a.click();\n",
              "      div.remove();\n",
              "    }\n",
              "  "
            ]
          },
          "metadata": {}
        },
        {
          "output_type": "display_data",
          "data": {
            "text/plain": [
              "<IPython.core.display.Javascript object>"
            ],
            "application/javascript": [
              "download(\"download_391fe79d-43e8-41cc-966b-dcdc6afedad2\", \"trained_model.joblib\", 728297)"
            ]
          },
          "metadata": {}
        }
      ],
      "source": [
        "from google.colab import files\n",
        "files.download('trained_model.joblib')"
      ]
    }
  ],
  "metadata": {
    "accelerator": "GPU",
    "colab": {
      "gpuType": "T4",
      "provenance": [],
      "mount_file_id": "1MDNXa5WnV3c-NdCfaJ0eueceoTyajsni",
      "authorship_tag": "ABX9TyNCAkP6xTxLdTaG8C7IemG5",
      "include_colab_link": true
    },
    "kernelspec": {
      "display_name": "Python 3",
      "name": "python3"
    },
    "language_info": {
      "name": "python"
    }
  },
  "nbformat": 4,
  "nbformat_minor": 0
}